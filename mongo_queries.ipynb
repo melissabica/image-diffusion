{
 "cells": [
  {
   "cell_type": "code",
   "execution_count": 90,
   "metadata": {
    "collapsed": false
   },
   "outputs": [],
   "source": [
    "import pymongo\n",
    "from pymongo import MongoClient\n",
    "from bson.code import Code\n",
    "import matplotlib.pyplot as plt\n",
    "import mpld3\n",
    "from pprint import pprint\n",
    "import json\n",
    "import datetime\n",
    "import time\n",
    "from IPython.display import Image, display\n",
    "from IPython.core.display import HTML \n",
    "%matplotlib inline"
   ]
  },
  {
   "cell_type": "code",
   "execution_count": 4,
   "metadata": {
    "collapsed": false
   },
   "outputs": [],
   "source": [
    "client = MongoClient('mongodb://epic-analytics.cs.colorado.edu')"
   ]
  },
  {
   "cell_type": "code",
   "execution_count": 5,
   "metadata": {
    "collapsed": false
   },
   "outputs": [
    {
     "name": "stdout",
     "output_type": "stream",
     "text": [
      "['system.indexes', 'tweets', 'users', 'tweets_per_day', 'unique_langs']\n"
     ]
    },
    {
     "name": "stderr",
     "output_type": "stream",
     "text": [
      "/usr/local/lib/python3.5/site-packages/IPython/core/formatters.py:92: DeprecationWarning: DisplayFormatter._ipython_display_formatter_default is deprecated: use @default decorator instead.\n",
      "  def _ipython_display_formatter_default(self):\n",
      "/usr/local/lib/python3.5/site-packages/IPython/core/formatters.py:669: DeprecationWarning: PlainTextFormatter._singleton_printers_default is deprecated: use @default decorator instead.\n",
      "  def _singleton_printers_default(self):\n"
     ]
    },
    {
     "data": {
      "text/plain": [
       "24045885"
      ]
     },
     "execution_count": 5,
     "metadata": {},
     "output_type": "execute_result"
    }
   ],
   "source": [
    "db = client.nepal_earthquake\n",
    "print(db.collection_names())\n",
    "tweets = db.tweets\n",
    "users = db.users\n",
    "tweets_per_day = db.tweets_per_day\n",
    "tweets.count()"
   ]
  },
  {
   "cell_type": "markdown",
   "metadata": {},
   "source": [
    "### Count tweets with images"
   ]
  },
  {
   "cell_type": "code",
   "execution_count": 21,
   "metadata": {
    "collapsed": false
   },
   "outputs": [
    {
     "data": {
      "text/plain": [
       "6506081"
      ]
     },
     "execution_count": 21,
     "metadata": {},
     "output_type": "execute_result"
    }
   ],
   "source": [
    "# tweets.find({\"entities.media.media_url\":{$exists: True, \"$ne\": None}})\n",
    "tweets.count({\"entities.media.media_url\":{\"$exists\": True, \"$ne\": None}})"
   ]
  },
  {
   "cell_type": "code",
   "execution_count": 41,
   "metadata": {
    "collapsed": false
   },
   "outputs": [
    {
     "name": "stdout",
     "output_type": "stream",
     "text": [
      "SON([('v', 1), ('name', '_id_'), ('key', SON([('_id', 1)])), ('ns', 'nepal_earthquake.tweets')])\n",
      "SON([('v', 1), ('name', 'text_text'), ('key', SON([('_fts', 'text'), ('_ftsx', 1)])), ('ns', 'nepal_earthquake.tweets'), ('weights', SON([('text', 1)])), ('default_language', 'english'), ('language_override', 'language'), ('textIndexVersion', 1)])\n",
      "SON([('v', 1), ('name', 'coordinates_2dsphere'), ('key', SON([('coordinates', '2dsphere')])), ('ns', 'nepal_earthquake.tweets')])\n",
      "SON([('v', 1), ('name', 'created_at_1'), ('key', SON([('created_at', 1)])), ('ns', 'nepal_earthquake.tweets')])\n",
      "SON([('v', 1), ('name', 'id_1'), ('key', SON([('id', 1)])), ('ns', 'nepal_earthquake.tweets')])\n",
      "SON([('v', 1), ('name', 'retweet_count_1'), ('key', SON([('retweet_count', 1)])), ('ns', 'nepal_earthquake.tweets')])\n",
      "SON([('v', 1), ('name', 'user.created_at_1'), ('key', SON([('user.created_at', 1)])), ('ns', 'nepal_earthquake.tweets')])\n",
      "SON([('v', 1), ('name', 'user.id_1'), ('key', SON([('user.id', 1)])), ('ns', 'nepal_earthquake.tweets')])\n",
      "SON([('v', 1), ('name', 'user.screen_name_1'), ('key', SON([('user.screen_name', 1)])), ('ns', 'nepal_earthquake.tweets')])\n",
      "SON([('v', 1), ('name', 'retweeted_status.created_at_1'), ('key', SON([('retweeted_status.created_at', 1)])), ('ns', 'nepal_earthquake.tweets')])\n",
      "SON([('v', 1), ('name', 'retweeted_status.id_1'), ('key', SON([('retweeted_status.id', 1)])), ('ns', 'nepal_earthquake.tweets')])\n",
      "SON([('v', 1), ('name', 'retweeted_status.retweet_count_1'), ('key', SON([('retweeted_status.retweet_count', 1)])), ('ns', 'nepal_earthquake.tweets')])\n",
      "SON([('v', 1), ('name', 'retweeted_status.user.created_at_1'), ('key', SON([('retweeted_status.user.created_at', 1)])), ('ns', 'nepal_earthquake.tweets')])\n",
      "SON([('v', 1), ('name', 'retweeted_status.user.id_1'), ('key', SON([('retweeted_status.user.id', 1)])), ('ns', 'nepal_earthquake.tweets')])\n",
      "SON([('v', 1), ('name', 'retweeted_status.user.screen_name_1'), ('key', SON([('retweeted_status.user.screen_name', 1)])), ('ns', 'nepal_earthquake.tweets')])\n",
      "SON([('v', 1), ('name', 'lang_1'), ('key', SON([('lang', 1)])), ('ns', 'nepal_earthquake.tweets')])\n"
     ]
    }
   ],
   "source": [
    "for index in tweets.list_indexes():\n",
    "    print(index)"
   ]
  },
  {
   "cell_type": "code",
   "execution_count": 40,
   "metadata": {
    "collapsed": false
   },
   "outputs": [
    {
     "data": {
      "text/plain": [
       "'lang_1'"
      ]
     },
     "execution_count": 40,
     "metadata": {},
     "output_type": "execute_result"
    }
   ],
   "source": [
    "# tweets.create_index([(\"lang\", pymongo.ASCENDING)])"
   ]
  },
  {
   "cell_type": "markdown",
   "metadata": {},
   "source": [
    "### Show most common languages of tweets (machine-interpreted)"
   ]
  },
  {
   "cell_type": "code",
   "execution_count": 49,
   "metadata": {
    "collapsed": false
   },
   "outputs": [],
   "source": [
    "cursor = tweets.aggregate([\n",
    "    {\"$group\": { \n",
    "        \"_id\": '$lang',\n",
    "        \"count\": {\"$sum\": 1}\n",
    "    }},\n",
    "\n",
    "    {\"$sort\": {\n",
    "        \"count\": -1\n",
    "    }},\n",
    "\n",
    "    {\"$limit\": 10},\n",
    "        \n",
    "    {\"$project\": { \n",
    "        \"language\": '$_id', \n",
    "        \"count\": 1, \n",
    "        \"_id\": 0 \n",
    "    }} \n",
    "]);"
   ]
  },
  {
   "cell_type": "code",
   "execution_count": 50,
   "metadata": {
    "collapsed": false
   },
   "outputs": [
    {
     "name": "stdout",
     "output_type": "stream",
     "text": [
      "{'language': 'en', 'count': 14306366}\n",
      "{'language': 'es', 'count': 2565572}\n",
      "{'language': 'ne', 'count': 2048740}\n",
      "{'language': 'in', 'count': 1227791}\n",
      "{'language': 'hi', 'count': 1002601}\n",
      "{'language': 'pt', 'count': 357889}\n",
      "{'language': 'und', 'count': 343722}\n",
      "{'language': 'tr', 'count': 330670}\n",
      "{'language': 'fr', 'count': 266066}\n",
      "{'language': 'it', 'count': 210453}\n"
     ]
    }
   ],
   "source": [
    "for document in cursor:\n",
    "    print(document)"
   ]
  },
  {
   "cell_type": "code",
   "execution_count": 44,
   "metadata": {
    "collapsed": false
   },
   "outputs": [
    {
     "name": "stdout",
     "output_type": "stream",
     "text": [
      "[('c', 'b'), ('c', 'd'), ('c', 'a'), ('b', 'd'), ('b', 'a'), ('d', 'a')]\n"
     ]
    }
   ],
   "source": [
    "import itertools\n",
    "mydict = {\"a\":1, \"b\":2, \"c\":3, \"d\":4}\n",
    "print(list(itertools.combinations(mydict,2)))\n"
   ]
  },
  {
   "cell_type": "code",
   "execution_count": null,
   "metadata": {
    "collapsed": true
   },
   "outputs": [],
   "source": [
    "# Find all tweets that have more than 10000 occurrences (retweets)\n",
    "tweets.aggregate([ \n",
    "    {\"$group\": { \n",
    "        \"_id\": 'retweeted_status.id_str', \n",
    "        \"count\": {\"$sum\": 1} \n",
    "    }}, \n",
    "\n",
    "    {\"$match\": { \n",
    "        \"count\": {\"$gt\": 10000 } \n",
    "    }}, \n",
    "\n",
    "    {\"$sort\": { \n",
    "        \"count\": -1 \n",
    "    }} \n",
    "]);"
   ]
  },
  {
   "cell_type": "markdown",
   "metadata": {},
   "source": [
    "### Create geojson file from geotagged tweets"
   ]
  },
  {
   "cell_type": "code",
   "execution_count": 162,
   "metadata": {
    "collapsed": false
   },
   "outputs": [],
   "source": [
    "cursor = tweets.find(\n",
    "    {\"coordinates\":{\"$near\":\n",
    "                    {\"$geometry\":{\"type\":\"Point\", \"coordinates\":[85.324931,27.717618]}, \"$maxDistance\":50000}}\n",
    "    },\n",
    "#     {\"coordinates\":{\"$exists\":True, \n",
    "#                     \"$ne\":None,\n",
    "#                     \"$near\":{\"$geometry\":{\"type\":\"Point\", \"coordinates\":[85.324931,27.717618]}, \"$maxDistance\":50000}}\n",
    "#     },\n",
    "    {\"coordinates\":1, \"text\":1, \"_id\":0}\n",
    ").limit(100)"
   ]
  },
  {
   "cell_type": "code",
   "execution_count": 163,
   "metadata": {
    "collapsed": false
   },
   "outputs": [
    {
     "name": "stdout",
     "output_type": "stream",
     "text": [
      "{\"type\": \"FeatureCollection\", \"features\": [{\"geometry\": {\"type\": \"Point\", \"coordinates\": [85.323939, 27.717796]}, \"type\": \"Feature\", \"properties\": {\"text\": \"IndianMedia showsIndia is the only country to help Nepal at thisEarthquakeBtCouldnt be even inTop14#GoHomeIndianMedia http://t.co/H6Buv0jHkU\"}}, {\"geometry\": {\"type\": \"Point\", \"coordinates\": [85.323961, 27.717245]}, \"type\": \"Feature\", \"properties\": {\"text\": \"@landward_rsrch is now in Nepal! Kenneth Aitchison will be in Kathmandu for 3 years contact details unchanged http://t.co/FKHwCKGEiw\"}}, {\"geometry\": {\"type\": \"Point\", \"coordinates\": [85.323961, 27.717245]}, \"type\": \"Feature\", \"properties\": {\"text\": \"Nepali hackers: Nepal's websites either gov or corporate or even personal all of them have been victims of hac... http://t.co/w5DHHmxjj6\"}}, {\"geometry\": {\"type\": \"Point\", \"coordinates\": [85.323961, 27.717245]}, \"type\": \"Feature\", \"properties\": {\"text\": \"Community Radio Stations a lifeline after Nepal earthquake https://t.co/GsoBs569v5 #asia #radio #news\"}}, {\"geometry\": {\"type\": \"Point\", \"coordinates\": [85.323961, 27.717245]}, \"type\": \"Feature\", \"properties\": {\"text\": \"Successful radio and social media training in Nepal https://t.co/moxJRNsXEB #asia #radio #news\"}}, {\"geometry\": {\"type\": \"Point\", \"coordinates\": [85.3239605, 27.7172453]}, \"type\": \"Feature\", \"properties\": {\"text\": \"Petrol Shortage in Nepal: Due to the ongoing protest in some parts of the Terai region of Nepal and the Indian... http://t.co/tXVlU6uGqH\"}}, {\"geometry\": {\"type\": \"Point\", \"coordinates\": [85.3239605, 27.7172453]}, \"type\": \"Feature\", \"properties\": {\"text\": \"petrol Crisis In Nepal: Due to the ongoing Protest in some parts of Nepal and due to the Unofficial Economic B... http://t.co/EWyxpp0THC\"}}, {\"geometry\": {\"type\": \"Point\", \"coordinates\": [85.3239605, 27.7172453]}, \"type\": \"Feature\", \"properties\": {\"text\": \"Petrol Shortage in Nepal: Due to the ongoing protest in some parts of the Terai region of Nepal and the Indian... http://t.co/YQVA9Sjqqf\"}}, {\"geometry\": {\"type\": \"Point\", \"coordinates\": [85.3239605, 27.7172453]}, \"type\": \"Feature\", \"properties\": {\"text\": \"Petrol Crisis in Nepal: Due the current ongoing protest in some of the border area with India and India's Unof... http://t.co/eC5zpY1QNS\"}}, {\"geometry\": {\"type\": \"Point\", \"coordinates\": [85.32396, 27.717245]}, \"type\": \"Feature\", \"properties\": {\"text\": \"Keepings of Kathmandu https://t.co/Hy7Qoa3Vo1 http://t.co/fr5eqdwIfC\"}}, {\"geometry\": {\"type\": \"Point\", \"coordinates\": [85.3239594, 27.7172451]}, \"type\": \"Feature\", \"properties\": {\"text\": \"An Artist Burns His Paintings in Solidarity With Innocent Madhesis Killed in Nepal https://t.co/h22mVe9nbW\"}}, {\"geometry\": {\"type\": \"Point\", \"coordinates\": [85.3239594, 27.7172451]}, \"type\": \"Feature\", \"properties\": {\"text\": \"An Artist Burns His Paintings in Solidarity With Innocent Madhesis Killed in Nepal: The conflict in Madhes, th... https://t.co/cJSww840zs\"}}, {\"geometry\": {\"type\": \"Point\", \"coordinates\": [85.3239594, 27.7172451]}, \"type\": \"Feature\", \"properties\": {\"text\": \"An Artist Burns His Paintings in Solidarity With Innocent Madhesis Killed in Nepal: The conflict in Madhes, th... https://t.co/G6RMXY7cVw\"}}, {\"geometry\": {\"type\": \"Point\", \"coordinates\": [85.32397, 27.718617]}, \"type\": \"Feature\", \"properties\": {\"text\": \"@AmbPeterBodde Our School (KathmanduValleySchool,Maharajgunj) 6 children from Langtang,Kynzing village are trapped there.Request helpSOS.\"}}, {\"geometry\": {\"type\": \"Point\", \"coordinates\": [85.325089, 27.71628]}, \"type\": \"Feature\", \"properties\": {\"text\": \"I'm at imago dei in Kathmandu, Central Region https://t.co/omhBLXd1Bg\"}}, {\"geometry\": {\"type\": \"Point\", \"coordinates\": [85.325089, 27.71628]}, \"type\": \"Feature\", \"properties\": {\"text\": \"I'm at imago dei in Kathmandu, Central Region https://t.co/JQczdoBvwF\"}}, {\"geometry\": {\"type\": \"Point\", \"coordinates\": [85.323794, 27.718799]}, \"type\": \"Feature\", \"properties\": {\"text\": \"\\u092d\\u0941\\u0915\\u092e\\u094d\\u092a \\u0915\\u094d\\u0937\\u0924\\u093f \\u0938\\u092e\\u094d\\u092c\\u0928\\u094d\\u0927\\u093f \\u0938\\u0942\\u091a\\u0928\\u093e\\u0915\\u093e \\u0932\\u093e\\u0917\\u093f \\u0928\\u0947\\u092a\\u093e\\u0932 \\u092a\\u094d\\u0930\\u0939\\u0930\\u0940\\u0915\\u094b \\u092b\\u094b\\u0928 \\u0928\\u092e\\u094d\\u092c\\u0930\\u0939\\u0930\\u0941-\\n\\u096a\\u096a\\u0967\\u0968\\u096d\\u096e\\u0966, \\u096a\\u096a\\u0967\\u0967\\u096b\\u096a\\u096f, \\u096a\\u096a\\u0967\\u096b\\u096b\\u096f\\u096d\"}}, {\"geometry\": {\"type\": \"Point\", \"coordinates\": [85.32365266, 27.71886487]}, \"type\": \"Feature\", \"properties\": {\"text\": \"Important article by Prof SD Muni: India and Nepal Must Step Back from the Precipice https://t.co/Dcsi60FFjD via @thewire_in\"}}, {\"geometry\": {\"type\": \"Point\", \"coordinates\": [85.324159, 27.719221]}, \"type\": \"Feature\", \"properties\": {\"text\": \"@KarnaSakya Visited Baglung as well after 50years.Stayed overnight in Waterfront,nice room,nice view of Fewa lake.Leaving4 Lumbini tomr\"}}, {\"geometry\": {\"type\": \"Point\", \"coordinates\": [85.323577, 27.718926]}, \"type\": \"Feature\", \"properties\": {\"text\": \"Gaidakot Jaycees (JCI) distributing relief materials to quake stricken people of Dhading,Jeewanpur. http://t.co/x8NK9Dv3Gr\"}}, {\"geometry\": {\"type\": \"Point\", \"coordinates\": [85.323596, 27.718999]}, \"type\": \"Feature\", \"properties\": {\"text\": \"One more reason to smile with the youths of Nepal.Leaving for Birgunj 2day by Buddha Air to meet some.\"}}, {\"geometry\": {\"type\": \"Point\", \"coordinates\": [85.32352, 27.718992]}, \"type\": \"Feature\", \"properties\": {\"text\": \"@KarnaSakya Very good morning from Kathmandu.Enjoy Phewa n WF.Wish could be there together.\"}}, {\"geometry\": {\"type\": \"Point\", \"coordinates\": [85.323517, 27.71899]}, \"type\": \"Feature\", \"properties\": {\"text\": \"\\u0905\\u0939\\u093f\\u0932\\u0947 \\u0939\\u093e\\u092e\\u094d\\u0930\\u094b \\u0930\\u093e\\u091c\\u0928\\u0948\\u0924\\u0940\\u0915 \\u0906\\u0915\\u093e\\u0936\\u092e\\u093e  \\u092c\\u0939\\u0941\\u0938\\u0916\\u094d\\u092f\\u0915 \\u092d\\u094b\\u0915\\u093e\\u090f\\u0915\\u093e \\u092e\\u093e\\u0924\\u094d\\u0930 \\u0926\\u0947\\u0916\\u094d\\u091b\\u0941,'\\u092a\\u0926-\\u092e\\u0926-\\u0939\\u0926-\\u0915\\u0926' (\\u0928\\u093e\\u092e\\u0915\\u093e,\\u0926\\u093e\\u092e\\u0915\\u093e) \\u0938\\u092c\\u0948\\u0915\\u093e \\u092d\\u094b\\u0915\\u093e \\u0964 \\u0928\\u0947\\u092a\\u093e\\u0932 \\u092c\\u0928\\u094d\\u0926,\\u092f\\u0940\\u0928\\u0940\\u0939\\u0930\\u0941 \\u0926\\u0919,\\u091c\\u0928\\u0924\\u093e \\u0916\\u0919\\u094d\\u0930\\u0919 \\u0964\"}}, {\"geometry\": {\"type\": \"Point\", \"coordinates\": [85.323381, 27.719086]}, \"type\": \"Feature\", \"properties\": {\"text\": \"Shared the vast potentiality of mining industry with excom members of Nepal Gem&amp;Jewellers Association today. http://t.co/zrizBnX6NJ\"}}, {\"geometry\": {\"type\": \"Point\", \"coordinates\": [85.323562, 27.719364]}, \"type\": \"Feature\", \"properties\": {\"text\": \"Fantastic view of my favorite legendary Fewa Lake from Karna's Waterfront, Pokhara. http://t.co/BAITnL20T1\"}}, {\"geometry\": {\"type\": \"Point\", \"coordinates\": [85.322449, 27.717897]}, \"type\": \"Feature\", \"properties\": {\"text\": \"Naxal's Nandakishore park is again filled with folks seeking safer shelter after yesterday's powerful aftershock. http://t.co/ZQhFFRHGm2\"}}, {\"geometry\": {\"type\": \"Point\", \"coordinates\": [85.322433, 27.717947]}, \"type\": \"Feature\", \"properties\": {\"text\": \"South Tudhikhel dotted w/ fresh #Chinese tents for ystrdays &gt;7M aftershock IDPs. Best temp shelter I've seen yet. http://t.co/XOkWOcFtzF\"}}, {\"geometry\": {\"type\": \"Point\", \"coordinates\": [85.322381, 27.717874]}, \"type\": \"Feature\", \"properties\": {\"text\": \"A man scrapes barren Tudhikhel inside his tent for more even, comfortable indefinite stay after yesterdays aftershock http://t.co/lO5WY7bbsE\"}}, {\"geometry\": {\"type\": \"Point\", \"coordinates\": [85.32234, 27.717944]}, \"type\": \"Feature\", \"properties\": {\"text\": \"Why arent these #Chinese tents avail for all April 25 quake May 12 aftershock IDPs? (as we tweak misc prefab options) http://t.co/OoColkoWfN\"}}, {\"geometry\": {\"type\": \"Point\", \"coordinates\": [85.3253186, 27.7200083]}, \"type\": \"Feature\", \"properties\": {\"text\": \"aajatak Programme 10tak about india blockade nepal: https://t.co/zEcPXje9j9\"}}, {\"geometry\": {\"type\": \"Point\", \"coordinates\": [85.322238, 27.718426]}, \"type\": \"Feature\", \"properties\": {\"text\": \"Walked into a #bookshop in #Kathmandu thinking many thoughts... This is the first book that caught my\\u2026 https://t.co/d1YLFvO7ia\"}}, {\"geometry\": {\"type\": \"Point\", \"coordinates\": [85.324843, 27.715091]}, \"type\": \"Feature\", \"properties\": {\"text\": \"Aftershock! Long one... #nepal #Earthquake\"}}, {\"geometry\": {\"type\": \"Point\", \"coordinates\": [85.323191, 27.719657]}, \"type\": \"Feature\", \"properties\": {\"text\": \"We found Anna! Her town is devastated, but she's safe. @ Bahrabise, Sindhupalchowk https://t.co/0dwba4Xnl2\"}}, {\"geometry\": {\"type\": \"Point\", \"coordinates\": [85.3243866, 27.7201805]}, \"type\": \"Feature\", \"properties\": {\"text\": \"#islington #alumnimeet @ Radisson Hotel Kathmandu https://t.co/iI1bLsk92G\"}}, {\"geometry\": {\"type\": \"Point\", \"coordinates\": [85.3243866, 27.7201805]}, \"type\": \"Feature\", \"properties\": {\"text\": \"When #chandeliers have more of a life than you! #Photography  \\ud83d\\ude0d @ Radisson Hotel Kathmandu https://t.co/ikblPZNrgq\"}}, {\"geometry\": {\"type\": \"Point\", \"coordinates\": [85.3243866, 27.7201805]}, \"type\": \"Feature\", \"properties\": {\"text\": \"Just posted a photo @ Radisson Hotel Kathmandu https://t.co/mvnmKYQp4v\"}}, {\"geometry\": {\"type\": \"Point\", \"coordinates\": [85.3243866, 27.7201805]}, \"type\": \"Feature\", \"properties\": {\"text\": \"\\u5149\\u306e\\u796d\\u308a\\u300c\\u30c6\\u30a3\\u30cf\\u30fc\\u30eb\\u300d @ Radisson Hotel Kathmandu https://t.co/PPf9gxu9m2\"}}, {\"geometry\": {\"type\": \"Point\", \"coordinates\": [85.3243866, 27.7201805]}, \"type\": \"Feature\", \"properties\": {\"text\": \"#tb @ Radisson Hotel Kathmandu https://t.co/wEU2EzqwSk\"}}, {\"geometry\": {\"type\": \"Point\", \"coordinates\": [85.3243866, 27.7201805]}, \"type\": \"Feature\", \"properties\": {\"text\": \"#ootd \\ud83d\\udc62\\ud83d\\udc57 @ Radisson Hotel Kathmandu https://t.co/4wI86827dE\"}}, {\"geometry\": {\"type\": \"Point\", \"coordinates\": [85.3243866, 27.7201805]}, \"type\": \"Feature\", \"properties\": {\"text\": \"Katmandu Nepal. Amazing. @ Hotel Tibet https://t.co/5MKaYRzPMp\"}}, {\"geometry\": {\"type\": \"Point\", \"coordinates\": [85.3243866, 27.7201805]}, \"type\": \"Feature\", \"properties\": {\"text\": \"NEW BEER @ Radisson Hotel Kathmandu https://t.co/QNuO9SrCnB\"}}, {\"geometry\": {\"type\": \"Point\", \"coordinates\": [85.3243866, 27.7201805]}, \"type\": \"Feature\", \"properties\": {\"text\": \"Graduate! #commisment @ Radisson Hotel Kathmandu https://t.co/DyBRRyM9Lm\"}}, {\"geometry\": {\"type\": \"Point\", \"coordinates\": [85.3243866, 27.7201805]}, \"type\": \"Feature\", \"properties\": {\"text\": \"Just posted a photo @ Radisson Hotel Kathmandu https://t.co/ZhXH0wnrTC\"}}, {\"geometry\": {\"type\": \"Point\", \"coordinates\": [85.3243866, 27.7201805]}, \"type\": \"Feature\", \"properties\": {\"text\": \"Grad's Night @ Radisson Hotel Kathmandu https://t.co/AxZeXtqygz\"}}, {\"geometry\": {\"type\": \"Point\", \"coordinates\": [85.324387, 27.720181]}, \"type\": \"Feature\", \"properties\": {\"text\": \"#bnw_life_invite #painting #wallpaintings #lazimpat #Kathmandu #Nepal @ Lazimpat https://t.co/sbyFvHpl86\"}}, {\"geometry\": {\"type\": \"Point\", \"coordinates\": [85.324387, 27.720181]}, \"type\": \"Feature\", \"properties\": {\"text\": \"Annapurna Circuit Trekking with Annapurna Foothills Treks.  #VisitNepalAutumn2015 @ Annapurna\\u2026 https://t.co/WEvXpyHujf\"}}, {\"geometry\": {\"type\": \"Point\", \"coordinates\": [85.325195, 27.714983]}, \"type\": \"Feature\", \"properties\": {\"text\": \"Thanks @Viber @ViberHelp #Nepal #Earthquake\"}}, {\"geometry\": {\"type\": \"Point\", \"coordinates\": [85.324539, 27.714991]}, \"type\": \"Feature\", \"properties\": {\"text\": \"Heartiest congratulations to Dr Pokharel on his appointment as CEO of #Nepal's National Reconstruction Authority!\"}}, {\"geometry\": {\"type\": \"Point\", \"coordinates\": [85.32497, 27.714956]}, \"type\": \"Feature\", \"properties\": {\"text\": \"A big aftershock again just now. We heard people shouting outside.  Earthquake alarm beeped for 20 seconds...\"}}, {\"geometry\": {\"type\": \"Point\", \"coordinates\": [85.324885, 27.71495]}, \"type\": \"Feature\", \"properties\": {\"text\": \"\\u201c@thehimalayan: Did you feel a powerful tremor a few seconds ago? We did. #NepalEarthquake\\u201d yes, i did too!\"}}, {\"geometry\": {\"type\": \"Point\", \"coordinates\": [85.324882, 27.71495]}, \"type\": \"Feature\", \"properties\": {\"text\": \"Watched DC 'EQ, disaster in Nepal'. Why most people interviewed were speaking Hindi? They could have at least interviewed Nepal Army.\"}}, {\"geometry\": {\"type\": \"Point\", \"coordinates\": [85.327935, 27.717839]}, \"type\": \"Feature\", \"properties\": {\"text\": \"I'm at sunrise bank in kathmandu https://t.co/jdxrztAql0\"}}, {\"geometry\": {\"type\": \"Point\", \"coordinates\": [85.324886, 27.714948]}, \"type\": \"Feature\", \"properties\": {\"text\": \"Strong aftershock just now #NepalEarthquake\"}}, {\"geometry\": {\"type\": \"Point\", \"coordinates\": [85.321921, 27.717977]}, \"type\": \"Feature\", \"properties\": {\"text\": \"Children at play in Tudhikhel, 1 of KTM's bigger quake relief site. Amazing spirit even after ystrdays big aftershock http://t.co/bOfPqUjBj0\"}}, {\"geometry\": {\"type\": \"Point\", \"coordinates\": [85.324596, 27.714945]}, \"type\": \"Feature\", \"properties\": {\"text\": \"Strong aftershock just now. house shaking, quake alarm went off. #NepalQuake\"}}, {\"geometry\": {\"type\": \"Point\", \"coordinates\": [85.324785, 27.714928]}, \"type\": \"Feature\", \"properties\": {\"text\": \"Excellent press conference by John Ging, setting the record straight once and for all! #Nepal #OCHA #WFP\"}}, {\"geometry\": {\"type\": \"Point\", \"coordinates\": [85.325205, 27.714934]}, \"type\": \"Feature\", \"properties\": {\"text\": \"Shelter... #EarthQuake #Nepal #Panic http://t.co/YtJ1e17ca7\"}}, {\"geometry\": {\"type\": \"Point\", \"coordinates\": [85.32781, 27.718585]}, \"type\": \"Feature\", \"properties\": {\"text\": \"Inspecting Choro's School \\n#Malpi #school #NepalQuake @ Gairidhara https://t.co/vvYRXP0Cip\"}}, {\"geometry\": {\"type\": \"Point\", \"coordinates\": [85.327809, 27.718607]}, \"type\": \"Feature\", \"properties\": {\"text\": \"Cause we bought matching shirts \\u2764\\ufe0f #nepal @ Gairidhara https://t.co/oDdKMDFFmX\"}}, {\"geometry\": {\"type\": \"Point\", \"coordinates\": [85.32810688, 27.7179911]}, \"type\": \"Feature\", \"properties\": {\"text\": \"Having lunch (@ Tama in Kathmandu, Central Region) https://t.co/6EjeFxQr08\"}}, {\"geometry\": {\"type\": \"Point\", \"coordinates\": [85.32810688, 27.7179911]}, \"type\": \"Feature\", \"properties\": {\"text\": \"Too good, #foodgasm (@ Tama in Kathmandu, Central Region w/ @jazzyishu) https://t.co/djQcAuYdk3 http://t.co/ICo1Hrkrjx\"}}, {\"geometry\": {\"type\": \"Point\", \"coordinates\": [85.328107, 27.717991]}, \"type\": \"Feature\", \"properties\": {\"text\": \"I'm at Tama in Kathmandu, Central Region https://t.co/8fteoIxkLq\"}}, {\"geometry\": {\"type\": \"Point\", \"coordinates\": [85.328107, 27.717991]}, \"type\": \"Feature\", \"properties\": {\"text\": \"I'm at Tama in Kathmandu, Central Region https://t.co/ajH6lBa15R\"}}, {\"geometry\": {\"type\": \"Point\", \"coordinates\": [85.322318, 27.719438]}, \"type\": \"Feature\", \"properties\": {\"text\": \"@priyankachopra  Happy.birthday lately :) Lop u peekey Love frm Nepal &lt;3 Keep smiling\"}}, {\"geometry\": {\"type\": \"Point\", \"coordinates\": [85.325169, 27.714619]}, \"type\": \"Feature\", \"properties\": {\"text\": \"Naksal #Kathmandu #EarthQuake #Shelter http://t.co/kI5DYxFXcJ\"}}, {\"geometry\": {\"type\": \"Point\", \"coordinates\": [85.327892, 27.719316]}, \"type\": \"Feature\", \"properties\": {\"text\": \"Amazing Nepal #Nepal #amazing #amazingnepal @ Gorkha District https://t.co/7jOVfYFEk3\"}}, {\"geometry\": {\"type\": \"Point\", \"coordinates\": [85.32320586, 27.72038291]}, \"type\": \"Feature\", \"properties\": {\"text\": \"I'm at Lazimpat in Kathmandu https://t.co/MA5C6C7zY6\"}}, {\"geometry\": {\"type\": \"Point\", \"coordinates\": [85.323206, 27.720383]}, \"type\": \"Feature\", \"properties\": {\"text\": \"I'm at Lazimpat in Kathmandu https://t.co/UAOaTAghO3\"}}, {\"geometry\": {\"type\": \"Point\", \"coordinates\": [85.328165, 27.719022]}, \"type\": \"Feature\", \"properties\": {\"text\": \"God please stop it now.... we have nothing left to lose.... #NepalQuake\"}}, {\"geometry\": {\"type\": \"Point\", \"coordinates\": [85.32852738, 27.71790962]}, \"type\": \"Feature\", \"properties\": {\"text\": \"During the initial days of #fuel #crisis in #Kathmandu... It has grown since then... @ Bhadrakali https://t.co/M8a0q5AIpp\"}}, {\"geometry\": {\"type\": \"Point\", \"coordinates\": [85.328571, 27.717409]}, \"type\": \"Feature\", \"properties\": {\"text\": \"I'm at Radiant Infotech Nepal in Kathmandu https://t.co/TTKdMVkKRK\"}}, {\"geometry\": {\"type\": \"Point\", \"coordinates\": [85.321763, 27.719467]}, \"type\": \"Feature\", \"properties\": {\"text\": \"Turkish Humanitarian Assistance in #Kathmandu #Nepal @TurkKizilayi @afadbaskanlik @TK_TR @saglikbakanligi http://t.co/CHwJQbPYf9\"}}, {\"geometry\": {\"type\": \"Point\", \"coordinates\": [85.321657, 27.719436]}, \"type\": \"Feature\", \"properties\": {\"text\": \"Turkish Humanitarian Assistance in #Kathmandu #Nepal\"}}, {\"geometry\": {\"type\": \"Point\", \"coordinates\": [85.321106, 27.718232]}, \"type\": \"Feature\", \"properties\": {\"text\": \"I'm at Tukuche Thakali Kitchen in Kathmandu, Central Region https://t.co/84bD60svxH http://t.co/5bsuSeOMa6\"}}, {\"geometry\": {\"type\": \"Point\", \"coordinates\": [85.321606, 27.719426]}, \"type\": \"Feature\", \"properties\": {\"text\": \"I'm at Manaslu Hotel in Kathmandu, Central Region https://t.co/pyTPIwQrvt http://t.co/TQkL1NldgC\"}}, {\"geometry\": {\"type\": \"Point\", \"coordinates\": [85.32160568, 27.71942556]}, \"type\": \"Feature\", \"properties\": {\"text\": \"Really great food (@ Manaslu Hotel in Kathmandu, Central Region) https://t.co/8hwG0VDwYN\"}}, {\"geometry\": {\"type\": \"Point\", \"coordinates\": [85.32318567, 27.72071998]}, \"type\": \"Feature\", \"properties\": {\"text\": \"I'm at Lazimpat in Kathmandu https://t.co/oC49Wa1dt9\"}}, {\"geometry\": {\"type\": \"Point\", \"coordinates\": [85.323954, 27.720979]}, \"type\": \"Feature\", \"properties\": {\"text\": \"Nepal's normal food insecure pop is 3Million. Add this:\\u201c@NepalDRR: 3.5Million estimated to be in need of food assist http://t.co/fuy5guluHk\\u201d\"}}, {\"geometry\": {\"type\": \"Point\", \"coordinates\": [85.32300395, 27.72064276]}, \"type\": \"Feature\", \"properties\": {\"text\": \"I'm at Lazimpat in Kathmandu https://t.co/sww2nq5GnN\"}}, {\"geometry\": {\"type\": \"Point\", \"coordinates\": [85.32300395, 27.72064276]}, \"type\": \"Feature\", \"properties\": {\"text\": \"I'm at Lazimpat in Kathmandu https://t.co/KP9GZsc10C\"}}, {\"geometry\": {\"type\": \"Point\", \"coordinates\": [85.321611, 27.719482]}, \"type\": \"Feature\", \"properties\": {\"text\": \"#brothers #sisters #family #forever @ Hotel Manaslu, Lazimpat https://t.co/Z4B9iikpgT\"}}, {\"geometry\": {\"type\": \"Point\", \"coordinates\": [85.321566, 27.719488]}, \"type\": \"Feature\", \"properties\": {\"text\": \"24 Saat Gecmeden Kizilay yardimlarini Kathmandu'ya ulastrdk. #Nepal de \\u00f6l\\u00fc say\\u0131s\\u0131 2000'i ge\\u00e7ti #NepalYaz2868 e gonder http://t.co/GF6SoZrQWu\"}}, {\"geometry\": {\"type\": \"Point\", \"coordinates\": [85.32131553, 27.71938725]}, \"type\": \"Feature\", \"properties\": {\"text\": \"Just posted a photo @ Hotel Manaslu, Nepal https://t.co/seP9P6b0bb\"}}, {\"geometry\": {\"type\": \"Point\", \"coordinates\": [85.32131553, 27.71938725]}, \"type\": \"Feature\", \"properties\": {\"text\": \"Safely landed in Kathmandu.\\nTime for a quick #Everest beer before we fly onto Lukla early in the\\u2026 https://t.co/I17YSDoD7J\"}}, {\"geometry\": {\"type\": \"Point\", \"coordinates\": [85.32131553, 27.71938725]}, \"type\": \"Feature\", \"properties\": {\"text\": \"Saying bye to the pool and amazing hotel for now. Annapurna awaits! @ Hotel Manaslu, Nepal https://t.co/pZNVXIuwOm\"}}, {\"geometry\": {\"type\": \"Point\", \"coordinates\": [85.322577, 27.720716]}, \"type\": \"Feature\", \"properties\": {\"text\": \"Somewhere near #Jomsom . @ Jomsom, Nepal https://t.co/aaic09R4JL\"}}, {\"geometry\": {\"type\": \"Point\", \"coordinates\": [85.3280848, 27.7201804]}, \"type\": \"Feature\", \"properties\": {\"text\": \"\\u0915\\u092e\\u094d\\u0938\\u0947\\u0915\\u092e \\u0928\\u0947\\u092a\\u093e\\u0932 \\u092f\\u093e\\u0924\\u093e\\u092f\\u093e\\u0924\\u092e\\u093e \\u091d\\u0941\\u0928\\u094d\\u0921\\u093f\\u090f\\u0930 \\u0915\\u0932\\u0947\\u091c \\u0924 \\u092a\\u0941\\u0917\\u093f\\u0928\\u094d\\u0925\\u094d\\u092f\\u094b \\u0905\\u0939\\u093f\\u0932\\u0947 \\u0924 \\u0924\\u0947\\u0907 \\u091d\\u0941\\u0928\\u094d\\u0921\\u093f\\u0928 \\u0928\\u093f \\u092a\\u093e\\u0907\\u090f\\u0915\\u094b \\u091b\\u0948\\u0928\\u0964\\u0964\\u0964\\u0932\\u093e\\u0917\\u094d\\u091b \\u0915\\u0932\\u0947\\u091c \\u092c\\u093f\\u0926\\u093e \\u091b \\u092e\\u0947\\u0930\\u094b \\u0932\\u093e\\u0917\\u093f @It_Rupa @MishraRabindra\"}}, {\"geometry\": {\"type\": \"Point\", \"coordinates\": [85.328974, 27.718929]}, \"type\": \"Feature\", \"properties\": {\"text\": \"Just posted a photo @ Dhulikhel, Nepal https://t.co/u4iQ8s2xHt\"}}, {\"geometry\": {\"type\": \"Point\", \"coordinates\": [85.321511, 27.719953]}, \"type\": \"Feature\", \"properties\": {\"text\": \"Residents of historic a Bhaktapur, just 40 minutes drive from Kathmandu, say what little aid is coming through is being distributed unevenly\"}}, {\"geometry\": {\"type\": \"Point\", \"coordinates\": [85.321317, 27.719777]}, \"type\": \"Feature\", \"properties\": {\"text\": \"Catch our package of the wreckage thst is Kathmandu at 7pm on ITV. Most of the other broadcasters haven't made it here yet so tune in...\"}}, {\"geometry\": {\"type\": \"Point\", \"coordinates\": [85.321478, 27.720188]}, \"type\": \"Feature\", \"properties\": {\"text\": \"Life is little by little going back to normal in Katmandu #IRPFellows @IRPChirps http://t.co/XJx16dIcJL\"}}, {\"geometry\": {\"type\": \"Point\", \"coordinates\": [85.321268, 27.719953]}, \"type\": \"Feature\", \"properties\": {\"text\": \"Their was another 7.3 earthquake here in Nepal. Everyone here in my unit is okay but still a little shakey. #PrayForNepal\"}}, {\"geometry\": {\"type\": \"Point\", \"coordinates\": [85.32802322, 27.71469971]}, \"type\": \"Feature\", \"properties\": {\"text\": \"Shivering cold #kathmandunepal \\ud83d\\udc7b\\ud83d\\udc7b @ Nepal Police Headquarter, Naxal https://t.co/qrSYiehJ1A\"}}, {\"geometry\": {\"type\": \"Point\", \"coordinates\": [85.321434, 27.720256]}, \"type\": \"Feature\", \"properties\": {\"text\": \"In preparation of the International Conference on Nepal's Reconstruction, Towards Resilience, 25 June 2015 http://t.co/yhRm81QJS7\"}}, {\"geometry\": {\"type\": \"Point\", \"coordinates\": [85.32057, 27.718979]}, \"type\": \"Feature\", \"properties\": {\"text\": \"\\u092e\\u0915\\u0948\\u0915\\u094b \\u0905\\u0930\\u094d\\u0915\\u0948 \\u0916\\u0947\\u0924\\u0940 ! w/ @wid_pra @sapkl @sujanpoudel @untill_the_end (@ The Theatre Village in Kathmandu) https://t.co/gdFD4iCSub\"}}, {\"geometry\": {\"type\": \"Point\", \"coordinates\": [85.32057, 27.718979]}, \"type\": \"Feature\", \"properties\": {\"text\": \"\\u0938\\u093e\\u0928\\u094d\\u0926\\u093e\\u091c\\u0941\\u0915\\u094b \\u092e\\u093e\\u0939\\u093e\\u092d\\u093e\\u0930\\u0924 (@ The Theatre Village in Kathmandu) https://t.co/ChfNCwZZNG\"}}, {\"geometry\": {\"type\": \"Point\", \"coordinates\": [85.32057, 27.718979]}, \"type\": \"Feature\", \"properties\": {\"text\": \"\\u0938\\u093e\\u0928\\u094d\\u0926\\u093e\\u091c\\u0941\\u0915\\u094b \\u092e\\u0939\\u093e\\u092d\\u093e\\u0930\\u0924 (@ The Theatre Village in Kathmandu) https://t.co/BcXUTXgCsl\"}}, {\"geometry\": {\"type\": \"Point\", \"coordinates\": [85.32057, 27.718979]}, \"type\": \"Feature\", \"properties\": {\"text\": \"\\u0924\\u0940\\u0928 \\u090f\\u0915\\u093e\\u0928\\u094d\\u0924\\u0964 (@ The Theatre Village in Kathmandu) https://t.co/r2RiuxcwLU\"}}, {\"geometry\": {\"type\": \"Point\", \"coordinates\": [85.32057, 27.718979]}, \"type\": \"Feature\", \"properties\": {\"text\": \"\\u0924\\u0940\\u0928 \\u090f\\u0915\\u093e\\u0928\\u094d\\u0924 @Ghiyub @sewa_ditee (@ The Theatre Village in Kathmandu) https://t.co/oCxHwbdkjH http://t.co/kAqb83hBqb\"}}, {\"geometry\": {\"type\": \"Point\", \"coordinates\": [85.327188, 27.721206]}, \"type\": \"Feature\", \"properties\": {\"text\": \"I'm at Ringmo Restaurant &amp; Bar in Kathmandu https://t.co/ltMyg5UuKu http://t.co/rSNGJmYYfg\"}}]}\n"
     ]
    }
   ],
   "source": [
    "# test = [{\"text\": \"Some people's lives have been turned upside down forever. My prayers goes to them. #NepalEarthquake\",\n",
    "#          \"coordinates\": {\"type\": \"Point\", \"coordinates\": [8.562547, 11.943377]}},\n",
    "#         {\"text\": \"Praying for all people affected by the #NepalEarthquake - I promise to return and help where I can. My prayers are with you.\",\n",
    "#          \"coordinates\": {\"type\": \"Point\", \"coordinates\": [-71.982914, -13.512962]}}\n",
    "#        ]\n",
    "\n",
    "# Create structure for GeoJSON feature collection object\n",
    "tweet_geometries = {\"type\": \"FeatureCollection\", \"features\": [] }\n",
    "for tweet in cursor:\n",
    "\n",
    "    # Add a feature object to the features array for each tweet\n",
    "    tweet_geometries['features'].append(\n",
    "        {'type':'Feature',\n",
    "         'geometry':tweet['coordinates'],\n",
    "         'properties':{'text':tweet['text']}\n",
    "        })\n",
    "print(json.dumps(tweet_geometries))\n",
    "\n",
    "with open('test.geojson', 'w') as outfile:\n",
    "    json.dump(tweet_geometries, outfile)"
   ]
  },
  {
   "cell_type": "markdown",
   "metadata": {},
   "source": [
    "### Find all tweets geotagged \"near\" Kathmandu (27.717618, 85.324931) (with images)"
   ]
  },
  {
   "cell_type": "code",
   "execution_count": 178,
   "metadata": {
    "collapsed": false
   },
   "outputs": [
    {
     "name": "stdout",
     "output_type": "stream",
     "text": [
      "{'coordinates': {'coordinates': [85.323939, 27.717796], 'type': 'Point'},\n",
      " 'entities': {'media': [{'media_url': 'http://pbs.twimg.com/media/CEKIMjwUEAA-Q48.jpg'}]},\n",
      " 'text': 'IndianMedia showsIndia is the only country to help Nepal at '\n",
      "         'thisEarthquakeBtCouldnt be even inTop14#GoHomeIndianMedia '\n",
      "         'http://t.co/H6Buv0jHkU',\n",
      " 'user': {'location': ''}}\n",
      "{'coordinates': {'coordinates': [85.323961, 27.717245], 'type': 'Point'},\n",
      " 'entities': {'media': [{'media_url': 'http://pbs.twimg.com/media/CM2Kmc2UwAIqpuv.jpg'}]},\n",
      " 'text': '@landward_rsrch is now in Nepal! Kenneth Aitchison will be in '\n",
      "         'Kathmandu for 3 years contact details unchanged '\n",
      "         'http://t.co/FKHwCKGEiw',\n",
      " 'user': {'location': 'London'}}\n",
      "{'coordinates': {'coordinates': [85.32396, 27.717245], 'type': 'Point'},\n",
      " 'entities': {'media': [{'media_url': 'http://pbs.twimg.com/media/CMjTEYEVEAA7kMC.jpg'}]},\n",
      " 'text': 'Keepings of Kathmandu https://t.co/Hy7Qoa3Vo1 http://t.co/fr5eqdwIfC',\n",
      " 'user': {'location': 'Earth'}}\n",
      "{'coordinates': {'coordinates': [85.323577, 27.718926], 'type': 'Point'},\n",
      " 'entities': {'media': [{'media_url': 'http://pbs.twimg.com/media/CD-SyKSUEAEYm8l.jpg'}]},\n",
      " 'text': 'Gaidakot Jaycees (JCI) distributing relief materials to quake '\n",
      "         'stricken people of Dhading,Jeewanpur. http://t.co/x8NK9Dv3Gr',\n",
      " 'user': {'location': 'Kathmandu'}}\n",
      "{'coordinates': {'coordinates': [85.323381, 27.719086], 'type': 'Point'},\n",
      " 'entities': {'media': [{'media_url': 'http://pbs.twimg.com/media/CH9055MUkAAIKaj.jpg'}]},\n",
      " 'text': 'Shared the vast potentiality of mining industry with excom members '\n",
      "         'of Nepal Gem&amp;Jewellers Association today. http://t.co/zrizBnX6NJ',\n",
      " 'user': {'location': 'Kathmandu'}}\n",
      "{'coordinates': {'coordinates': [85.323562, 27.719364], 'type': 'Point'},\n",
      " 'entities': {'media': [{'media_url': 'http://pbs.twimg.com/media/CHbSrIXUsAA5bjW.jpg'}]},\n",
      " 'text': \"Fantastic view of my favorite legendary Fewa Lake from Karna's \"\n",
      "         'Waterfront, Pokhara. http://t.co/BAITnL20T1',\n",
      " 'user': {'location': 'Kathmandu'}}\n",
      "{'coordinates': {'coordinates': [85.322449, 27.717897], 'type': 'Point'},\n",
      " 'entities': {'media': [{'media_url': 'http://pbs.twimg.com/media/CE4mA5sUUAIV9F9.jpg'}]},\n",
      " 'text': \"Naxal's Nandakishore park is again filled with folks seeking safer \"\n",
      "         \"shelter after yesterday's powerful aftershock. \"\n",
      "         'http://t.co/ZQhFFRHGm2',\n",
      " 'user': {'location': 'Kathmandu + New York'}}\n",
      "{'coordinates': {'coordinates': [85.322433, 27.717947], 'type': 'Point'},\n",
      " 'entities': {'media': [{'media_url': 'http://pbs.twimg.com/media/CE4kjfWVEAEB_D9.jpg'}]},\n",
      " 'text': 'South Tudhikhel dotted w/ fresh #Chinese tents for ystrdays &gt;7M '\n",
      "         \"aftershock IDPs. Best temp shelter I've seen yet. \"\n",
      "         'http://t.co/XOkWOcFtzF',\n",
      " 'user': {'location': 'Kathmandu + New York'}}\n",
      "{'coordinates': {'coordinates': [85.322381, 27.717874], 'type': 'Point'},\n",
      " 'entities': {'media': [{'media_url': 'http://pbs.twimg.com/media/CE4k8qtUkAAasYy.jpg'}]},\n",
      " 'text': 'A man scrapes barren Tudhikhel inside his tent for more even, '\n",
      "         'comfortable indefinite stay after yesterdays aftershock '\n",
      "         'http://t.co/lO5WY7bbsE',\n",
      " 'user': {'location': 'Kathmandu + New York'}}\n",
      "{'coordinates': {'coordinates': [85.32234, 27.717944], 'type': 'Point'},\n",
      " 'entities': {'media': [{'media_url': 'http://pbs.twimg.com/media/CE4lskwVAAECWuJ.jpg'}]},\n",
      " 'text': 'Why arent these #Chinese tents avail for all April 25 quake May 12 '\n",
      "         'aftershock IDPs? (as we tweak misc prefab options) '\n",
      "         'http://t.co/OoColkoWfN',\n",
      " 'user': {'location': 'Kathmandu + New York'}}\n",
      "{'coordinates': {'coordinates': [85.321921, 27.717977], 'type': 'Point'},\n",
      " 'entities': {'media': [{'media_url': 'http://pbs.twimg.com/media/CE4jADzUEAEyffB.jpg'}]},\n",
      " 'text': \"Children at play in Tudhikhel, 1 of KTM's bigger quake relief site. \"\n",
      "         'Amazing spirit even after ystrdays big aftershock '\n",
      "         'http://t.co/bOfPqUjBj0',\n",
      " 'user': {'location': 'Kathmandu + New York'}}\n",
      "{'coordinates': {'coordinates': [85.325205, 27.714934], 'type': 'Point'},\n",
      " 'entities': {'media': [{'media_url': 'http://pbs.twimg.com/media/CDghgrjUsAEXeRw.jpg'}]},\n",
      " 'text': 'Shelter... #EarthQuake #Nepal #Panic http://t.co/YtJ1e17ca7',\n",
      " 'user': {'location': 'Everything from Everywhere'}}\n",
      "{'coordinates': {'coordinates': [85.32810688, 27.7179911], 'type': 'Point'},\n",
      " 'entities': {'media': [{'media_url': 'http://pbs.twimg.com/media/CRcd_sKVAAA_l_t.jpg'}]},\n",
      " 'text': 'Too good, #foodgasm (@ Tama in Kathmandu, Central Region w/ '\n",
      "         '@jazzyishu) https://t.co/djQcAuYdk3 http://t.co/ICo1Hrkrjx',\n",
      " 'user': {'location': 'Mt.Everest'}}\n",
      "{'coordinates': {'coordinates': [85.325169, 27.714619], 'type': 'Point'},\n",
      " 'entities': {'media': [{'media_url': 'http://pbs.twimg.com/media/CDhMS67UkAA-RpS.jpg'}]},\n",
      " 'text': 'Naksal #Kathmandu #EarthQuake #Shelter http://t.co/kI5DYxFXcJ',\n",
      " 'user': {'location': 'Everything from Everywhere'}}\n",
      "{'coordinates': {'coordinates': [85.321763, 27.719467], 'type': 'Point'},\n",
      " 'entities': {'media': [{'media_url': 'http://pbs.twimg.com/media/CDnnjvSWoAEvyXE.jpg'}]},\n",
      " 'text': 'Turkish Humanitarian Assistance in #Kathmandu #Nepal @TurkKizilayi '\n",
      "         '@afadbaskanlik @TK_TR @saglikbakanligi http://t.co/CHwJQbPYf9',\n",
      " 'user': {'location': 'Islamabad'}}\n",
      "{'coordinates': {'coordinates': [85.321106, 27.718232], 'type': 'Point'},\n",
      " 'entities': {'media': [{'media_url': 'http://pbs.twimg.com/media/CK62IijW8AAGvF1.jpg'}]},\n",
      " 'text': \"I'm at Tukuche Thakali Kitchen in Kathmandu, Central Region \"\n",
      "         'https://t.co/84bD60svxH http://t.co/5bsuSeOMa6',\n",
      " 'user': {'location': 'In the cloud.'}}\n",
      "{'coordinates': {'coordinates': [85.321606, 27.719426], 'type': 'Point'},\n",
      " 'entities': {'media': [{'media_url': 'http://pbs.twimg.com/media/CLz0aiCWUAEb2tT.jpg'}]},\n",
      " 'text': \"I'm at Manaslu Hotel in Kathmandu, Central Region \"\n",
      "         'https://t.co/pyTPIwQrvt http://t.co/TQkL1NldgC',\n",
      " 'user': {'location': ''}}\n",
      "{'coordinates': {'coordinates': [85.321566, 27.719488], 'type': 'Point'},\n",
      " 'entities': {'media': [{'media_url': 'http://pbs.twimg.com/media/CDlxMx8UUAIFIOC.jpg'}]},\n",
      " 'text': \"24 Saat Gecmeden Kizilay yardimlarini Kathmandu'ya ulastrdk. #Nepal \"\n",
      "         \"de ölü sayısı 2000'i geçti #NepalYaz2868 e gonder \"\n",
      "         'http://t.co/GF6SoZrQWu',\n",
      " 'user': {'location': 'Islamabad'}}\n",
      "{'coordinates': {'coordinates': [85.321478, 27.720188], 'type': 'Point'},\n",
      " 'entities': {'media': [{'media_url': 'http://pbs.twimg.com/media/CD_bMfGVEAA8Wa6.jpg'}]},\n",
      " 'text': 'Life is little by little going back to normal in Katmandu '\n",
      "         '#IRPFellows @IRPChirps http://t.co/XJx16dIcJL',\n",
      " 'user': {'location': 'Brasília'}}\n",
      "{'coordinates': {'coordinates': [85.321434, 27.720256], 'type': 'Point'},\n",
      " 'entities': {'media': [{'media_url': 'http://pbs.twimg.com/media/CHWij_IVAAAZb2f.jpg'}]},\n",
      " 'text': \"In preparation of the International Conference on Nepal's \"\n",
      "         'Reconstruction, Towards Resilience, 25 June 2015 '\n",
      "         'http://t.co/yhRm81QJS7',\n",
      " 'user': {'location': 'Kathmandu, Nepal'}}\n",
      "{'coordinates': {'coordinates': [85.32057, 27.718979], 'type': 'Point'},\n",
      " 'entities': {'media': [{'media_url': 'http://pbs.twimg.com/media/CMsHBEsWwAArf9Q.jpg'}]},\n",
      " 'text': 'तीन एकान्त @Ghiyub @sewa_ditee (@ The Theatre Village in Kathmandu) '\n",
      "         'https://t.co/oCxHwbdkjH http://t.co/kAqb83hBqb',\n",
      " 'user': {'location': 'Nepal'}}\n",
      "{'coordinates': {'coordinates': [85.327188, 27.721206], 'type': 'Point'},\n",
      " 'entities': {'media': [{'media_url': 'http://pbs.twimg.com/media/CLocXcjWgAEtfIU.jpg'}]},\n",
      " 'text': \"I'm at Ringmo Restaurant &amp; Bar in Kathmandu \"\n",
      "         'https://t.co/ltMyg5UuKu http://t.co/rSNGJmYYfg',\n",
      " 'user': {'location': 'ktm'}}\n",
      "{'coordinates': {'coordinates': [85.3212645, 27.7201652], 'type': 'Point'},\n",
      " 'entities': {'media': [{'media_url': 'http://pbs.twimg.com/media/CWK2zsKUkAAKzZc.jpg'}]},\n",
      " 'text': 'Program in progress: Discourse on \"Translating Universal Health '\n",
      "         'Coverage into Action in Nepal\" https://t.co/MK0moUVt4x',\n",
      " 'user': {'location': 'Kathmandu'}}\n",
      "{'coordinates': {'coordinates': [85.32099196, 27.71996332], 'type': 'Point'},\n",
      " 'entities': {'media': [{'media_url': 'http://pbs.twimg.com/media/CaVOAUuUEAAkOJc.jpg'}]},\n",
      " 'text': 'What a long journey ! Safe and sound in Kathmandu ! '\n",
      "         'https://t.co/CPscpjtmSh',\n",
      " 'user': {'location': 'cronulla'}}\n",
      "{'coordinates': {'coordinates': [85.321135, 27.720253], 'type': 'Point'},\n",
      " 'entities': {'media': [{'media_url': 'http://pbs.twimg.com/media/CD_cCndVAAAH1Li.jpg'}]},\n",
      " 'text': 'Trying to go back to normal in Katmandu. #IRPFellows @IRPChirps '\n",
      "         'http://t.co/nXH1fPmXhA',\n",
      " 'user': {'location': 'Brasília'}}\n",
      "{'coordinates': {'coordinates': [85.321088, 27.720209], 'type': 'Point'},\n",
      " 'entities': {'media': [{'media_url': 'http://pbs.twimg.com/media/CEGXORBVEAAfsBP.jpg'}]},\n",
      " 'text': 'Made it to Nepal. http://t.co/E92oqHZEsu',\n",
      " 'user': {'location': 'New York'}}\n",
      "{'coordinates': {'coordinates': [85.32200623, 27.72108459], 'type': 'Point'},\n",
      " 'entities': {'media': [{'media_url': 'http://pbs.twimg.com/media/CYMmNOuWMAEU5gu.jpg'}]},\n",
      " 'text': 'Mt Ama Dablam Nepal https://t.co/LmeE6A4bzR',\n",
      " 'user': {'location': 'Nepal'}}\n",
      "{'coordinates': {'coordinates': [85.320904, 27.72021], 'type': 'Point'},\n",
      " 'entities': {'media': [{'media_url': 'http://pbs.twimg.com/media/CFmlEMBUIAAfNtz.jpg'}]},\n",
      " 'text': \"Nepal you are one of the most amazing countries I've ever been to. \"\n",
      "         'God bless everyone here. #Nepal #Vengeance http://t.co/SEi9uzGwxR',\n",
      " 'user': {'location': 'New York'}}\n",
      "{'coordinates': {'coordinates': [85.324378, 27.722002], 'type': 'Point'},\n",
      " 'entities': {'media': [{'media_url': 'http://pbs.twimg.com/media/CD0k1NPUkAAxMK5.jpg'}]},\n",
      " 'text': 'Pray for Nepal! http://t.co/c34A60feb2',\n",
      " 'user': {'location': 'Nepal,Kathmandu'}}\n",
      "{'coordinates': {'coordinates': [85.320787, 27.720069], 'type': 'Point'},\n",
      " 'entities': {'media': [{'media_url': 'http://pbs.twimg.com/media/CD807NdVEAAwGvk.jpg'}]},\n",
      " 'text': 'A camiseta da seleção brasileira (ainda) está em todo lugar. Menina '\n",
      "         'na fila da comida em um acampamento em Katmandu. '\n",
      "         'http://t.co/R15SsCym9G',\n",
      " 'user': {'location': 'Brasília'}}\n",
      "{'coordinates': {'coordinates': [85.320924, 27.720255], 'type': 'Point'},\n",
      " 'entities': {'media': [{'media_url': 'http://pbs.twimg.com/media/CNAqXWyUYAAZv4i.jpg'}]},\n",
      " 'text': 'Three hints of why I am happy in #Kathmandu? Want to guess? '\n",
      "         '#dietcokepower @EmersonCollege chocolates for Ambassador '\n",
      "         'http://t.co/KbLZ9LAMbc',\n",
      " 'user': {'location': 'Boston, Laguna, Rosarito'}}\n",
      "{'coordinates': {'coordinates': [85.320888, 27.720266], 'type': 'Point'},\n",
      " 'entities': {'media': [{'media_url': 'http://pbs.twimg.com/media/CNNRb6dVEAAxcV-.jpg'}]},\n",
      " 'text': '#IncessantRain’s Red Panda credible spokesperson #crisis comm '\n",
      "         'earthquake project #Nepal @emersoncollege http://t.co/69kTWaV1s4',\n",
      " 'user': {'location': 'Boston, Laguna, Rosarito'}}\n",
      "{'coordinates': {'coordinates': [85.320925, 27.72035], 'type': 'Point'},\n",
      " 'entities': {'media': [{'media_url': 'http://pbs.twimg.com/media/CESYelWWYAAf7oJ.jpg'}]},\n",
      " 'text': 'I am so in love with this place!! #Nepal http://t.co/kpiUN5Kq5O',\n",
      " 'user': {'location': 'New York'}}\n",
      "{'coordinates': {'coordinates': [85.32077008, 27.72060986], 'type': 'Point'},\n",
      " 'entities': {'media': [{'media_url': 'http://pbs.twimg.com/media/CVcBLDLWEAAvQs3.jpg'}]},\n",
      " 'text': 'Great bit of international surveying with WYG - Kathmandu Nepal 👍 '\n",
      "         'https://t.co/jJbcRj5eKT',\n",
      " 'user': {'location': None}}\n",
      "{'coordinates': {'coordinates': [85.320511, 27.720444], 'type': 'Point'},\n",
      " 'entities': {'media': [{'media_url': 'http://pbs.twimg.com/media/CM-wzU5UcAAOPlV.jpg'}]},\n",
      " 'text': 'Arrived in #Nepal #publicdiplomacy #crisiscomm project '\n",
      "         '@EC_CommStudies @EmersonCollege @StateDept http://t.co/hR8SXviKo6',\n",
      " 'user': {'location': 'Boston, Laguna, Rosarito'}}\n",
      "{'coordinates': {'coordinates': [85.32201105, 27.72198817], 'type': 'Point'},\n",
      " 'entities': {'media': [{'media_url': 'http://pbs.twimg.com/media/CWuNqenWsAAs6Pr.jpg'}]},\n",
      " 'text': 'Beautiful view from Sarangkot Pokhara with @rojina2smile2 '\n",
      "         'https://t.co/tkcPup0psT',\n",
      " 'user': {'location': 'Nepal'}}\n",
      "{'coordinates': {'coordinates': [85.330782, 27.719098], 'type': 'Point'},\n",
      " 'entities': {'media': [{'media_url': 'http://pbs.twimg.com/media/CI9csv1UkAAnH9B.jpg'}]},\n",
      " 'text': 'Right Now: Orientation to journalists by National Planning '\n",
      "         'Commission on nutrition and food security ongoing #Nepal '\n",
      "         'http://t.co/3Xehpzti7f',\n",
      " 'user': {'location': 'Kathmandu, Nepal'}}\n",
      "{'coordinates': {'coordinates': [85.320084, 27.721503], 'type': 'Point'},\n",
      " 'entities': {'media': [{'media_url': 'http://pbs.twimg.com/media/CT1FupRUAAAr46B.jpg'}]},\n",
      " 'text': 'Jeg forbeholder mig retten til at være naiv – morgenparanoia fra '\n",
      "         'Kathmandu… https://t.co/PJXz0iVRz9 https://t.co/vzByOCbzQW',\n",
      " 'user': {'location': 'Copenhagen, Dennark'}}\n",
      "{'coordinates': {'coordinates': [85.318836, 27.719859], 'type': 'Point'},\n",
      " 'entities': {'media': [{'media_url': 'http://pbs.twimg.com/media/CD4e3o0VEAAq3mK.jpg'}]},\n",
      " 'text': 'Good morning from Kathmandu.Grt weather, waste pick up, AND taxi '\n",
      "         'running on meter again! Hoping best for SAR &amp; relief '\n",
      "         'http://t.co/T6SxyYeR2V',\n",
      " 'user': {'location': 'Kathmandu + New York'}}\n",
      "{'coordinates': {'coordinates': [85.326361, 27.723499], 'type': 'Point'},\n",
      " 'entities': {'media': [{'media_url': 'http://pbs.twimg.com/media/CF5NCXCVIAEjN4w.jpg'}]},\n",
      " 'text': 'Hey #Nepal. We still have 4 sat  devices to lend out for any '\n",
      "         'organization doing relief work. #earthquakenepal '\n",
      "         'http://t.co/QiWhnb9gVp',\n",
      " 'user': {'location': 'Seattle, WA'}}\n",
      "{'coordinates': {'coordinates': [85.318496, 27.719782], 'type': 'Point'},\n",
      " 'entities': {'media': [{'media_url': 'http://pbs.twimg.com/media/CETGFvYWoAAAiB-.jpg'}]},\n",
      " 'text': 'Standing on whats left of her world, with  strength, composure, '\n",
      "         'determination. #NepalEarthquake #Sindhupalchowk '\n",
      "         'http://t.co/GV7aIJAxOg',\n",
      " 'user': {'location': 'Kathmandu + New York'}}\n",
      "{'coordinates': {'coordinates': [85.31804, 27.718562], 'type': 'Point'},\n",
      " 'entities': {'media': [{'media_url': 'http://pbs.twimg.com/media/CEJgLc2VAAAF85j.jpg'}]},\n",
      " 'text': 'Grandfather took this, was on exhibit at '\n",
      "         '@TheCityMuseum“@ShwetaBajaj: #Bhaktapur circa 1975. Pic courtesy '\n",
      "         '@kashishds http://t.co/hKlAnwHpOW”',\n",
      " 'user': {'location': 'Kathmandu + New York'}}\n",
      "{'coordinates': {'coordinates': [85.32019813, 27.7222315], 'type': 'Point'},\n",
      " 'entities': {'media': [{'media_url': 'http://pbs.twimg.com/media/CWRpDPbWIAIF50w.jpg'}]},\n",
      " 'text': 'View from Sarangkot Pokhara with @rojina2smile2 '\n",
      "         'https://t.co/g12D0MsRze',\n",
      " 'user': {'location': 'Nepal'}}\n",
      "{'coordinates': {'coordinates': [85.328533, 27.71222], 'type': 'Point'},\n",
      " 'entities': {'media': [{'media_url': 'http://pbs.twimg.com/media/CDhNJWmUsAA-5bO.jpg'}]},\n",
      " 'text': 'Even in the better Kathmandu neighbourhood people are sleeping '\n",
      "         'outside #NepalEarthquake http://t.co/45RY8nEKTz',\n",
      " 'user': {'location': 'Delhi India'}}\n",
      "{'coordinates': {'coordinates': [85.319602, 27.713487], 'type': 'Point'},\n",
      " 'entities': {'media': [{'media_url': 'http://pbs.twimg.com/media/CRGKFOVVAAAQF7d.jpg'}]},\n",
      " 'text': '#ChinaSouthernAirlinesCancels flights out of #Nepal until Oct25th! '\n",
      "         'http://t.co/C33HiCuqaL',\n",
      " 'user': {'location': 'SF Bay Area'}}\n",
      "{'coordinates': {'coordinates': [85.328529, 27.712212], 'type': 'Point'},\n",
      " 'entities': {'media': [{'media_url': 'http://pbs.twimg.com/media/CDmUkkBWMAAJR7I.jpg'}]},\n",
      " 'text': 'Quake survivors sheltering from the rain in Kathmandu '\n",
      "         'http://t.co/u0Hp4W5LVx',\n",
      " 'user': {'location': 'Delhi India'}}\n",
      "{'coordinates': {'coordinates': [85.3313586, 27.7202838], 'type': 'Point'},\n",
      " 'entities': {'media': [{'media_url': 'http://pbs.twimg.com/media/CXCdMp5VAAAcTEd.jpg'}]},\n",
      " 'text': 'Goodbye Kathmandu ,that was our shortest love story, till I am '\n",
      "         'back,enjoy the interval! #amwriting https://t.co/AYIsb2nffi',\n",
      " 'user': {'location': 'London'}}\n",
      "{'coordinates': {'coordinates': [85.3311047, 27.720871], 'type': 'Point'},\n",
      " 'entities': {'media': [{'media_url': 'http://pbs.twimg.com/media/CV6pkFCWsAAQ7Pk.jpg'}]},\n",
      " 'text': \"Gdmorn' Kathmandu! I am loving the mushy feeling evoking sunlit sky \"\n",
      "         '&amp; my stoked shadow in the compound #amwriting '\n",
      "         'https://t.co/9sW0FESzDL',\n",
      " 'user': {'location': 'London'}}\n",
      "{'coordinates': {'coordinates': [85.31984071, 27.7221492], 'type': 'Point'},\n",
      " 'entities': {'media': [{'media_url': 'http://pbs.twimg.com/media/CY_IGv5UEAAR9LB.jpg'}]},\n",
      " 'text': \"Rara Lake - nepal's little Switzerland with @rojina2smile2 \"\n",
      "         'https://t.co/zSw0vxnJws',\n",
      " 'user': {'location': 'Nepal'}}\n",
      "{'coordinates': {'coordinates': [85.328673, 27.712089], 'type': 'Point'},\n",
      " 'entities': {'media': [{'media_url': 'http://pbs.twimg.com/media/CDpoCyfWgAI0i7O.png'}]},\n",
      " 'text': 'Phone # on Min web MT“@AnupKaphle: #Nepal govt divided '\n",
      "         'responsibilities among officials as follows, acc. to @ThapaGK '\n",
      "         'http://t.co/fNlxWwRvjm”',\n",
      " 'user': {'location': 'Kathmandu + New York'}}\n",
      "{'coordinates': {'coordinates': [85.317686, 27.718521], 'type': 'Point'},\n",
      " 'entities': {'media': [{'media_url': 'http://pbs.twimg.com/media/CEPrs1XVEAE6KX3.jpg'}]},\n",
      " 'text': 'Day 11. Chautara, District HQ of Sindhupalchowk, hardest quake hit '\n",
      "         'district, is a concrete jungle perched on a hill '\n",
      "         'http://t.co/cAv4ivavvn',\n",
      " 'user': {'location': 'Kathmandu + New York'}}\n",
      "{'coordinates': {'coordinates': [85.317673, 27.718524], 'type': 'Point'},\n",
      " 'entities': {'media': [{'media_url': 'http://pbs.twimg.com/media/CFsYpTKUIAALq9T.jpg'}]},\n",
      " 'text': \"Today's storm has destroyed crops worth millions in different parts \"\n",
      "         'of Nepal. https://t.co/9q7Omvf9ke http://t.co/MXzdCTYrSn” '\n",
      "         '#foodsecurity',\n",
      " 'user': {'location': 'Kathmandu + New York'}}\n",
      "{'coordinates': {'coordinates': [85.317672, 27.718741], 'type': 'Point'},\n",
      " 'entities': {'media': [{'media_url': 'http://pbs.twimg.com/media/CFsSY6YWEAAi2Lu.jpg'}]},\n",
      " 'text': \"#MarRef :) “@bibekbhandari: Ok, this seems like #Kathmandu's \"\n",
      "         'solidarity with #Ireland #MarRef http://t.co/Pl4Ful8tfJ”',\n",
      " 'user': {'location': 'Kathmandu + New York'}}\n",
      "{'coordinates': {'coordinates': [85.317495, 27.718405], 'type': 'Point'},\n",
      " 'entities': {'media': [{'media_url': 'http://pbs.twimg.com/media/CEoq-opUEAAJ69H.jpg'}]},\n",
      " 'text': 'NOW: Happy to assist Kathmandu Metropolitan City+its Sam Yubaa for '\n",
      "         'post-quake Social Mapping Heritage Site workshop '\n",
      "         'http://t.co/QRyHIMyUr6',\n",
      " 'user': {'location': 'Kathmandu, Nepal'}}\n",
      "{'coordinates': {'coordinates': [85.317498, 27.71852], 'type': 'Point'},\n",
      " 'entities': {'media': [{'media_url': 'http://pbs.twimg.com/media/CFm3R45UsAAlZmC.jpg'}]},\n",
      " 'text': 'Beautiful Solukhumbu. #MoreThanMountains '\n",
      "         '#TravemTheWorldAroundYouWithinYou #Nature #VisitNepal '\n",
      "         'http://t.co/Z9w3FM2C25',\n",
      " 'user': {'location': 'Kathmandu + New York'}}\n",
      "{'coordinates': {'coordinates': [85.3316341, 27.7206657], 'type': 'Point'},\n",
      " 'entities': {'media': [{'media_url': 'http://pbs.twimg.com/media/CU82ZLUUcAAd8tY.jpg'}]},\n",
      " 'text': 'Nepal,2 ppl talking &amp; 50 join in the middle of road for '\n",
      "         'discussing fuel crisis hehe #amwriting #NepalChokedByIndia '\n",
      "         'https://t.co/kGwdl0C04E',\n",
      " 'user': {'location': 'London'}}\n",
      "{'coordinates': {'coordinates': [85.331669, 27.714344], 'type': 'Point'},\n",
      " 'entities': {'media': [{'media_url': 'http://pbs.twimg.com/media/CPjyqmoWEAQf02f.jpg'}]},\n",
      " 'text': 'Grade 12 (@ Brihaspati Vidyasadan - @brihaspatian in Kathmandu, '\n",
      "         'Nepal) https://t.co/u6OBBvALYb http://t.co/qmIAjaKZLw',\n",
      " 'user': {'location': 'Irving, TX'}}\n",
      "{'coordinates': {'coordinates': [85.320546, 27.711796], 'type': 'Point'},\n",
      " 'entities': {'media': [{'media_url': 'http://pbs.twimg.com/media/CDhItcBVEAE42Iy.jpg'}]},\n",
      " 'text': \"1st image: Taken from Dharahara's viewing platform last year. 2nd: \"\n",
      "         \"Taken from on + of Dharahara's rubble yesterday \"\n",
      "         'http://t.co/fPCWoqFjFN',\n",
      " 'user': {'location': 'Kathmandu + New York'}}\n",
      "{'coordinates': {'coordinates': [85.319483, 27.712521], 'type': 'Point'},\n",
      " 'entities': {'media': [{'media_url': 'http://pbs.twimg.com/media/CMv8iRbUAAEMhGZ.jpg'}]},\n",
      " 'text': 'Happy travelers with mt. annapurna mountains #SafeNepal '\n",
      "         '@Manishsinghvns @shiva_nepal @GAdv_Rajju  @gadventures '\n",
      "         'http://t.co/LcTsO9cZYJ',\n",
      " 'user': {'location': 'Kathmandu Nepal'}}\n",
      "{'coordinates': {'coordinates': [85.319483, 27.712521], 'type': 'Point'},\n",
      " 'entities': {'media': [{'media_url': 'http://pbs.twimg.com/media/CMv_15hU8AAokWD.jpg'}]},\n",
      " 'text': 'Last dinner with great people #Nepal #SafeNepal @GAdv_Bk '\n",
      "         '@G_JulieFitzG @gadventures http://t.co/wPU7YEFTHM',\n",
      " 'user': {'location': 'Kathmandu Nepal'}}\n",
      "{'coordinates': {'coordinates': [85.322822, 27.724444], 'type': 'Point'},\n",
      " 'entities': {'media': [{'media_url': 'http://pbs.twimg.com/media/COx7YqdWsAAQHyJ.jpg'}]},\n",
      " 'text': '#ETalkKTM with Mahabir Pun. (@ Bhumi Restro Lounge in Kathmandu, '\n",
      "         'Central Region) https://t.co/KgfgAEJExZ http://t.co/RO7DlE3GoJ',\n",
      " 'user': {'location': 'Nepal'}}\n",
      "{'coordinates': {'coordinates': [85.326186, 27.71059], 'type': 'Point'},\n",
      " 'entities': {'media': [{'media_url': 'http://pbs.twimg.com/media/CGuBaFJUgAA8EQt.jpg'}]},\n",
      " 'text': 'Do you want to meet people working #NepalEarthquake relief?Join us '\n",
      "         'before 6 today at RAN, Kamalpokhari!@edgeryders '\n",
      "         'http://t.co/4WyGD8zoXI',\n",
      " 'user': {'location': ''}}\n",
      "{'coordinates': {'coordinates': [85.320221, 27.711668], 'type': 'Point'},\n",
      " 'entities': {'media': [{'media_url': 'http://pbs.twimg.com/media/CKo1dsPUkAAqs2w.jpg'}]},\n",
      " 'text': 'Good morning Kathmandu! City looks surprisingly good for just having '\n",
      "         'a 7.8 quake. Most buildings handled it. #npr15 '\n",
      "         'http://t.co/v716ofe3er',\n",
      " 'user': {'location': 'Washington, D.C.'}}\n",
      "{'coordinates': {'coordinates': [85.320232, 27.71164], 'type': 'Point'},\n",
      " 'entities': {'media': [{'media_url': 'http://pbs.twimg.com/media/CDgPmTRUEAAWzTA.jpg'}]},\n",
      " 'text': 'Similar scenes across the city, in parks, pavements... '\n",
      "         '“@BellThomasBell: This is how people are camping in Patan. '\n",
      "         'http://t.co/7a8ZecSHCa”',\n",
      " 'user': {'location': 'Kathmandu + New York'}}\n",
      "{'coordinates': {'coordinates': [85.320219, 27.71159], 'type': 'Point'},\n",
      " 'entities': {'media': [{'media_url': 'http://pbs.twimg.com/media/CDlpPIPUEAEWJlI.jpg'}]},\n",
      " 'text': 'Everyone can do with Kindness at trying times. A young girl feeds '\n",
      "         'her #dog food to street dogs around Boudha. http://t.co/rJfs39Essx',\n",
      " 'user': {'location': 'Kathmandu + New York'}}\n",
      "{'coordinates': {'coordinates': [85.3167, 27.7167], 'type': 'Point'},\n",
      " 'entities': {'media': [{'media_url': 'http://pbs.twimg.com/media/CT6134TUwAABbk4.jpg'}]},\n",
      " 'text': \"Don't you agree! Nepal on the merge for a appreciated score.... \"\n",
      "         'https://t.co/QII4DxuTZo',\n",
      " 'user': {'location': 'नेपाल !'}}\n",
      "{'coordinates': {'coordinates': [85.320244, 27.711544], 'type': 'Point'},\n",
      " 'entities': {'media': [{'media_url': 'http://pbs.twimg.com/media/CDq7CY7VIAE2Ysh.jpg'}]},\n",
      " 'text': 'Chinese military rescuers searching for survivors in Kathmandu. '\n",
      "         'http://t.co/E5ghSQjuIH',\n",
      " 'user': {'location': 'Hong Kong'}}\n",
      "{'coordinates': {'coordinates': [85.320068, 27.711652], 'type': 'Point'},\n",
      " 'entities': {'media': [{'media_url': 'http://pbs.twimg.com/media/CEy2PgUUUAEsbgs.jpg'}]},\n",
      " 'text': \"People out on Thamel's streets shortly after a magnitude 7.3 \"\n",
      "         'earthquake struck http://t.co/1vwX2ss4lZ #NepalQuake '\n",
      "         'http://t.co/bXIjaioww1',\n",
      " 'user': {'location': 'Doha, Qatar.'}}\n",
      "{'coordinates': {'coordinates': [85.320741, 27.711227], 'type': 'Point'},\n",
      " 'entities': {'media': [{'media_url': 'http://pbs.twimg.com/media/CDsVgPRUUAEOH16.jpg'}]},\n",
      " 'text': 'Voluntários distribuem comida a desabrigados em frente ao parque '\n",
      "         'Tundikhel,  em Katmandu. http://t.co/6TFjvMhiCt',\n",
      " 'user': {'location': 'Brasília'}}\n",
      "{'coordinates': {'coordinates': [85.330969, 27.722767], 'type': 'Point'},\n",
      " 'entities': {'media': [{'media_url': 'http://pbs.twimg.com/media/CDfRt-NVIAAn7gw.jpg'}]},\n",
      " 'text': '@KTMLivingLabs situation room is now up. Contact us for any mapping '\n",
      "         'needs related to the #earthquake #Nepal http://t.co/m1gB403vdl',\n",
      " 'user': {'location': 'New York'}}\n",
      "{'coordinates': {'coordinates': [85.330985, 27.722806], 'type': 'Point'},\n",
      " 'entities': {'media': [{'media_url': 'http://pbs.twimg.com/media/CDwc1NDVAAAHY_z.jpg'}]},\n",
      " 'text': 'These people are coordinating with victims,  relief organisations '\n",
      "         'and volunteers.  #KLLSituationRoom #NepalEarthquake '\n",
      "         'http://t.co/DH9NFhAE01',\n",
      " 'user': {'location': ''}}\n",
      "{'coordinates': {'coordinates': [85.320559, 27.711167], 'type': 'Point'},\n",
      " 'entities': {'media': [{'media_url': 'http://pbs.twimg.com/media/CMDTQWXVAAEONn9.jpg'}]},\n",
      " 'text': \"Walking on Kathmandu's tony Durbar Sq, 2 thots: good buildings \"\n",
      "         'survive force 8 quakes, human spirit survives anything '\n",
      "         'http://t.co/9ifHF9LLxB',\n",
      " 'user': {'location': ' sg@mediascape.in'}}\n",
      "{'coordinates': {'coordinates': [85.320336, 27.711201], 'type': 'Point'},\n",
      " 'entities': {'media': [{'media_url': 'http://pbs.twimg.com/media/CEWfaBuUkAAVesf.jpg'}]},\n",
      " 'text': 'En reunión del gobierno de Nepal con OMS y equipos de rescate, '\n",
      "         '#Nepal anunció inminente llegada de médicos de #Cuba '\n",
      "         'http://t.co/60s6EewtNf',\n",
      " 'user': {'location': 'México'}}\n",
      "{'coordinates': {'coordinates': [85.32809192, 27.71026982], 'type': 'Point'},\n",
      " 'entities': {'media': [{'media_url': 'http://pbs.twimg.com/media/CP_YvPSWsAAfDyn.jpg'}]},\n",
      " 'text': \"I'm at Chito Mitho Stick Fast Food in Kathmandu \"\n",
      "         'https://t.co/rW5PQEhhGm http://t.co/75wQfp7dVB',\n",
      " 'user': {'location': 'Kathmandu'}}\n",
      "{'coordinates': {'coordinates': [85.319978, 27.711042], 'type': 'Point'},\n",
      " 'entities': {'media': [{'media_url': 'http://pbs.twimg.com/media/CD632t9UkAAg7hp.jpg'}]},\n",
      " 'text': 'La ayuda cae a cuentagotas en los campamentos se desplazados en '\n",
      "         '#Katmandú #Nepal 6 días después del potente terremoto '\n",
      "         'http://t.co/WYNl02xdrd',\n",
      " 'user': {'location': 'México'}}\n",
      "{'coordinates': {'coordinates': [85.330925, 27.72357], 'type': 'Point'},\n",
      " 'entities': {'media': [{'media_url': 'http://pbs.twimg.com/media/CLT81fVWoAA8XC6.jpg'}]},\n",
      " 'text': 'Saturday Treat 💃🏻💃🏻 @Ghiyub (@ Nepal House Restaurant &amp; Bar) '\n",
      "         'https://t.co/3RI1DIOHCf http://t.co/ADqPLGsUD5',\n",
      " 'user': {'location': 'Nepal'}}\n",
      "{'coordinates': {'coordinates': [85.32708739, 27.70975721], 'type': 'Point'},\n",
      " 'entities': {'media': [{'media_url': 'http://pbs.twimg.com/media/CaWLGnqWYAAsoM2.jpg'}]},\n",
      " 'text': 'ईतिहासमा फेरी  अर्को अध्याय को  साक्छी बन्न चाहन्छौ ! सुभकामना छ टिम '\n",
      "         'नेपाल ! https://t.co/fzsl5MjS24',\n",
      " 'user': {'location': None}}\n",
      "{'coordinates': {'coordinates': [85.322744, 27.725478], 'type': 'Point'},\n",
      " 'entities': {'media': [{'media_url': 'http://pbs.twimg.com/media/CD65GhNUUAEqAhb.jpg'}]},\n",
      " 'text': 'Manisha, 5, got hit by falling rocks in her village. She suffered '\n",
      "         'serious injuries in #NepalEarthquake. http://t.co/5pdHZWeoRD',\n",
      " 'user': {'location': 'ATL, DEL देल्ही, CCU কলকাতা'}}\n",
      "{'coordinates': {'coordinates': [85.32192, 27.725319], 'type': 'Point'},\n",
      " 'entities': {'media': [{'media_url': 'http://pbs.twimg.com/media/CEACFcuVEAE6l19.jpg'}]},\n",
      " 'text': 'Going on sky news in 10 minutes to talk about #NepalQuake . GOAL is '\n",
      "         'responding with your support. http://t.co/fGhzFFr5Ev',\n",
      " 'user': {'location': 'Dublin, Ireland'}}\n",
      "{'coordinates': {'coordinates': [85.321899, 27.725379], 'type': 'Point'},\n",
      " 'entities': {'media': [{'media_url': 'http://pbs.twimg.com/media/CEALRTkUEAADRqU.jpg'}]},\n",
      " 'text': '@SkyNews interview with @martinstanford  on @GOAL_Global work in '\n",
      "         '#NepalQuake ... view from behind the camera..!! '\n",
      "         'http://t.co/QykuUtUsiQ',\n",
      " 'user': {'location': 'Dublin, Ireland'}}\n",
      "{'coordinates': {'coordinates': [85.333424, 27.71423], 'type': 'Point'},\n",
      " 'entities': {'media': [{'media_url': 'http://pbs.twimg.com/media/CEzrjN4UgAAd7S9.jpg'}]},\n",
      " 'text': 'Collapsing building at thamel kathmandu . http://t.co/Q1WVAbI4nU',\n",
      " 'user': {'location': 'Nepal'}}\n",
      "{'coordinates': {'coordinates': [85.32984332, 27.71058497], 'type': 'Point'},\n",
      " 'entities': {'media': [{'media_url': 'http://pbs.twimg.com/media/CTQyNN0WIAASLqv.jpg'}]},\n",
      " 'text': 'Apis apis #notmySunday 😎😎 (@ Global Platform Nepal in Gyaneswor, '\n",
      "         'Kathmandu) https://t.co/KXO01mBfd3 https://t.co/zGOUp2T7zo',\n",
      " 'user': {'location': 'Kathmandu'}}\n",
      "{'coordinates': {'coordinates': [85.334021, 27.719988], 'type': 'Point'},\n",
      " 'entities': {'media': [{'media_url': 'http://pbs.twimg.com/media/CEylHNvUgAESS0K.jpg'}]},\n",
      " 'text': 'Traffic at standstill all around Kathmandu. Myself @richjjones are '\n",
      "         'safe for the 2nd time in 2 weeks #NepalQuake http://t.co/MmIBl4v62C',\n",
      " 'user': {'location': 'Solihull'}}\n",
      "{'coordinates': {'coordinates': [85.318437, 27.71117], 'type': 'Point'},\n",
      " 'entities': {'media': [{'media_url': 'http://pbs.twimg.com/media/CD0vPPnUkAETozt.jpg'}]},\n",
      " 'text': \"Local+global context to why Nepal's lost heritage sites more than \"\n",
      "         '\"just temples\" http://t.co/MVheqkWhmp by @guardian '\n",
      "         'http://t.co/YX8RDz0iUR',\n",
      " 'user': {'location': 'Kathmandu, Nepal'}}\n",
      "{'coordinates': {'coordinates': [85.318225, 27.711128], 'type': 'Point'},\n",
      " 'entities': {'media': [{'media_url': 'http://pbs.twimg.com/media/CFIE7qBUUAIVNye.jpg'}]},\n",
      " 'text': '\"How to go on? 1 aftershock &amp; whole street shuts down,\" said '\n",
      "         \"owner of this Durbarmarg shop. Ppl's anxiety up again. \"\n",
      "         'http://t.co/GGX0QnmK8j',\n",
      " 'user': {'location': 'Kathmandu + New York'}}\n",
      "{'coordinates': {'coordinates': [85.318062, 27.711168], 'type': 'Point'},\n",
      " 'entities': {'media': [{'media_url': 'http://pbs.twimg.com/media/CFMG6-2VEAEXgm7.jpg'}]},\n",
      " 'text': 'Day 23. Picking up the pieces, moving on. Like Bhaktapur, seems '\n",
      "         'parts of Old Kathmandu will be vacant for some time. '\n",
      "         'http://t.co/1eVgUrguGH',\n",
      " 'user': {'location': 'Kathmandu + New York'}}\n",
      "{'coordinates': {'coordinates': [85.318195, 27.710978], 'type': 'Point'},\n",
      " 'entities': {'media': [{'media_url': 'http://pbs.twimg.com/media/CD7eK5WUMAAPE8M.jpg'}]},\n",
      " 'text': 'Nepal Govt. pretty much out of tents (needs 400,000 more) reports '\n",
      "         '@svbel: http://t.co/cmtvyIDJf6 http://t.co/LeN7jPBGvc',\n",
      " 'user': {'location': 'Kathmandu + New York'}}\n",
      "{'coordinates': {'coordinates': [85.319925, 27.709859], 'type': 'Point'},\n",
      " 'entities': {'media': [{'media_url': 'http://pbs.twimg.com/media/CEd5JEhVAAAoMSR.jpg'}]},\n",
      " 'text': 'Living in tents in #Kathmandu after #NepalQuake. '\n",
      "         'http://t.co/uNm5YAFYdQ',\n",
      " 'user': {'location': 'ATL, DEL देल्ही, CCU কলকাতা'}}\n",
      "{'coordinates': {'coordinates': [85.325137, 27.708528], 'type': 'Point'},\n",
      " 'entities': {'media': [{'media_url': 'http://pbs.twimg.com/media/CEzYCWIUIAA8zQM.jpg'}]},\n",
      " 'text': 'People beginning to camp out for the night already #NepalEarthquake '\n",
      "         'http://t.co/ewnxcCnUJk',\n",
      " 'user': {'location': 'Africa, Asia, Middle-East'}}\n",
      "{'coordinates': {'coordinates': [85.325139, 27.708519], 'type': 'Point'},\n",
      " 'entities': {'media': [{'media_url': 'http://pbs.twimg.com/media/CE02NAbUsAAMD8Q.jpg'}]},\n",
      " 'text': 'Hot meals distributed to people staying tonight @muslimhandsuk '\n",
      "         'office in #Nepal. Numbers are likely to grow tomorrow '\n",
      "         'http://t.co/YgsHDAOs8l',\n",
      " 'user': {'location': 'United Kingdom'}}\n",
      "{'coordinates': {'coordinates': [85.319091, 27.710028], 'type': 'Point'},\n",
      " 'entities': {'media': [{'media_url': 'http://pbs.twimg.com/media/CEeBMEHUkAARAe5.jpg'}]},\n",
      " 'text': '#Kathmandu. #NepalQuake http://t.co/9lmWiJq4CE',\n",
      " 'user': {'location': 'ATL, DEL देल्ही, CCU কলকাতা'}}\n",
      "{'coordinates': {'coordinates': [85.325098, 27.708398], 'type': 'Point'},\n",
      " 'entities': {'media': [{'media_url': 'http://pbs.twimg.com/media/CExtPJaVEAAnM1_.jpg'}]},\n",
      " 'text': 'Visiting our board member injured by #NepalEarthquake- hospital now '\n",
      "         'almost empty 2 wks later &amp; cracks in the wall... '\n",
      "         'http://t.co/PlI1wpnJlr',\n",
      " 'user': {'location': 'Africa, Asia, Middle-East'}}\n",
      "{'coordinates': {'coordinates': [85.314604, 27.716322], 'type': 'Point'},\n",
      " 'entities': {'media': [{'media_url': 'http://pbs.twimg.com/media/CF_TJ1QUgAAnP1Y.jpg'}]},\n",
      " 'text': 'Nicely done. “@surajshakya: My latest on http://t.co/0ofHPOgDSd\\n'\n",
      "         '\\n'\n",
      "         'I want YOU\\n'\n",
      "         'to rebuild\\n'\n",
      "         '#NEPAL http://t.co/HKBMt7YMo0”',\n",
      " 'user': {'location': 'Kathmandu + New York'}}\n",
      "{'coordinates': {'coordinates': [85.325042, 27.708381], 'type': 'Point'},\n",
      " 'entities': {'media': [{'media_url': 'http://pbs.twimg.com/media/CE9O6maVIAAYNMK.jpg'}]},\n",
      " 'text': '#quakehelpdesk volunteers at work synthesizing data in #nepal- tks '\n",
      "         'for support @GlobalGiving @OpenGovHub @tinyGive! '\n",
      "         'http://t.co/yedM4cBUTN',\n",
      " 'user': {'location': 'Africa, Asia, Middle-East'}}\n",
      "{'coordinates': {'coordinates': [85.3246908, 27.7083056], 'type': 'Point'},\n",
      " 'entities': {'media': [{'media_url': 'http://pbs.twimg.com/media/CWHbcmCUsAAVx4J.jpg'}]},\n",
      " 'text': 'And the condition will be like this :( hunechha yesto hamrai Nepal '\n",
      "         'ma https://t.co/AhZkOLa7Tm',\n",
      " 'user': {'location': 'Bardiya, Nepal'}}\n",
      "{'coordinates': {'coordinates': [85.317688, 27.710834], 'type': 'Point'},\n",
      " 'entities': {'media': [{'media_url': 'http://pbs.twimg.com/media/CGa5VUkXEAEN10s.jpg'}]},\n",
      " 'text': 'Area Thamel punya makan gua takleh masuk arh beb (at @Cafereena in '\n",
      "         'Kathmandu, Central Region) https://t.co/q1DpPMQtBy '\n",
      "         'http://t.co/8DuiSdJigI',\n",
      " 'user': {'location': 'Malaysia '}}\n",
      "{'coordinates': {'coordinates': [85.314415, 27.716198], 'type': 'Point'},\n",
      " 'entities': {'media': [{'media_url': 'http://pbs.twimg.com/media/CFAuazGWEAA5GlX.jpg'}]},\n",
      " 'text': 'Says here: “@LastQuake: #earthquake M4.8 strikes 65 km W of '\n",
      "         '#Kathmandu (#Nepal) 10 min ago. http://t.co/y9JnJ16fMs '\n",
      "         'http://t.co/YeN3UwvYV9”',\n",
      " 'user': {'location': 'Kathmandu + New York'}}\n",
      "{'coordinates': {'coordinates': [85.327751, 27.726716], 'type': 'Point'},\n",
      " 'entities': {'media': [{'media_url': 'http://pbs.twimg.com/media/CFnZb0mUkAEaCZR.jpg'}]},\n",
      " 'text': 'काठमाडौं उपत्यका का सांसदहरू, प्रम कोइराला सँग भूकम्प पश्चातको '\n",
      "         'अवस्थामा तत्काल गर्नु पर्ने कामको बारेमा माग राख्दै '\n",
      "         'http://t.co/G1ugpZ6iak',\n",
      " 'user': {'location': 'Nepal'}}\n",
      "{'coordinates': {'coordinates': [85.32120689, 27.70877805], 'type': 'Point'},\n",
      " 'entities': {'media': [{'media_url': 'http://pbs.twimg.com/media/CZZEZAaXEAA0b-c.jpg'}]},\n",
      " 'text': '#फिरफिरे बिमोचन कार्यक्रम :) (@ Nepal Academy) '\n",
      "         'https://t.co/do6GMeZetZ https://t.co/vdkGcGKKEZ',\n",
      " 'user': {'location': 'प्रदेश नं. ३'}}\n",
      "{'coordinates': {'coordinates': [85.31692, 27.711218], 'type': 'Point'},\n",
      " 'entities': {'media': [{'media_url': 'http://pbs.twimg.com/media/CDdmg5hUsAAiIIn.jpg'}]},\n",
      " 'text': '1:40AM. 13C/55F Kathmandu. Cold out even with sweater, imagine those '\n",
      "         'sleeping on wet grass, concrete. Rain tomorrow? '\n",
      "         'http://t.co/qdDSbfGYIK',\n",
      " 'user': {'location': 'Kathmandu + New York'}}\n",
      "1505\n"
     ]
    }
   ],
   "source": [
    "cursor = tweets.find({\"coordinates\":{\"$near\":\n",
    "                         {\"$geometry\":{\"type\":\"Point\", \"coordinates\":[85.324931,27.717618]}, \"$maxDistance\":50000}}#,\n",
    "#                       \"entities.media.media_url\":{\"$exists\":True, \"$ne\": None}\n",
    "                     }\n",
    "                     {\"coordinates\":1, \"text\":1, \"user.location\":1, \"entities.media.media_url\":1, \"_id\":0}\n",
    "                    ).limit(100)\n",
    "for doc in cursor:\n",
    "    pprint(doc)\n",
    "print(cursor.count())"
   ]
  },
  {
   "cell_type": "code",
   "execution_count": 193,
   "metadata": {
    "collapsed": false
   },
   "outputs": [
    {
     "name": "stdout",
     "output_type": "stream",
     "text": [
      "12914430\n"
     ]
    }
   ],
   "source": [
    "start = datetime.datetime(2015, 4, 25, 0, 0, 0)\n",
    "end = datetime.datetime(2015, 6, 1, 0, 0, 0)\n",
    "\n",
    "cursor = tweets.find({'created_at': {'$gte': start, '$lt': end}})\n",
    "print(cursor.count())\n",
    "\n",
    "# for doc in cursor:\n",
    "#     print(doc)"
   ]
  },
  {
   "cell_type": "markdown",
   "metadata": {},
   "source": [
    "### Find and plot tweets per day from 4/25/15 to 5/31/15"
   ]
  },
  {
   "cell_type": "code",
   "execution_count": 259,
   "metadata": {
    "collapsed": false
   },
   "outputs": [],
   "source": [
    "dates = []\n",
    "counts = []\n",
    "end = datetime.date(2015, 6, 1)\n",
    "\n",
    "for tweet in tweets_per_day.find().sort(\"value.count\", pymongo.DESCENDING):\n",
    "#     print(tweet['_id'], tweet['value']['count'])\n",
    "    date = datetime.datetime.strptime(tweet['_id'], \"%m/%d/%Y\").date()\n",
    "    if date < end:\n",
    "        dates.append(date)\n",
    "        counts.append(tweet['value']['count'])"
   ]
  },
  {
   "cell_type": "code",
   "execution_count": 296,
   "metadata": {
    "collapsed": false
   },
   "outputs": [
    {
     "name": "stderr",
     "output_type": "stream",
     "text": [
      "/usr/local/lib/python3.5/site-packages/dateutil/rrule.py:415: DeprecationWarning: Using both 'count' and 'until' is inconsistent with RFC 2445 and has been deprecated in dateutil. Future versions will raise an error.\n",
      "  \"raise an error.\", DeprecationWarning)\n",
      "/usr/local/lib/python3.5/site-packages/dateutil/rrule.py:415: DeprecationWarning: Using both 'count' and 'until' is inconsistent with RFC 2445 and has been deprecated in dateutil. Future versions will raise an error.\n",
      "  \"raise an error.\", DeprecationWarning)\n",
      "/usr/local/lib/python3.5/site-packages/dateutil/rrule.py:415: DeprecationWarning: Using both 'count' and 'until' is inconsistent with RFC 2445 and has been deprecated in dateutil. Future versions will raise an error.\n",
      "  \"raise an error.\", DeprecationWarning)\n",
      "/usr/local/lib/python3.5/site-packages/dateutil/rrule.py:415: DeprecationWarning: Using both 'count' and 'until' is inconsistent with RFC 2445 and has been deprecated in dateutil. Future versions will raise an error.\n",
      "  \"raise an error.\", DeprecationWarning)\n",
      "/usr/local/lib/python3.5/site-packages/dateutil/rrule.py:415: DeprecationWarning: Using both 'count' and 'until' is inconsistent with RFC 2445 and has been deprecated in dateutil. Future versions will raise an error.\n",
      "  \"raise an error.\", DeprecationWarning)\n",
      "/usr/local/lib/python3.5/site-packages/dateutil/rrule.py:415: DeprecationWarning: Using both 'count' and 'until' is inconsistent with RFC 2445 and has been deprecated in dateutil. Future versions will raise an error.\n",
      "  \"raise an error.\", DeprecationWarning)\n"
     ]
    },
    {
     "data": {
      "image/png": "[encoded data removed]",
      "text/plain": [
       "<matplotlib.figure.Figure at 0x111c00390>"
      ]
     },
     "metadata": {},
     "output_type": "display_data"
    }
   ],
   "source": [
    "fig = plt.figure(figsize=(20,10))\n",
    "ax = plt.subplot(111)\n",
    "ax.bar(dates, counts, width=0.75, align='center')\n",
    "# ax.xaxis_date()\n",
    "fig.autofmt_xdate()\n",
    "\n",
    "ax.set_title('Tweets Per Day from 4/25/15 to 5/31/15', fontsize=14, fontweight='bold')\n",
    "ax.set_xlabel('Date')\n",
    "ax.set_ylabel('# Tweets')\n",
    "\n",
    "plt.savefig('tweetsperday.png')"
   ]
  },
  {
   "cell_type": "markdown",
   "metadata": {},
   "source": [
    "### Find top 50 most retweeted images"
   ]
  },
  {
   "cell_type": "code",
   "execution_count": 61,
   "metadata": {
    "collapsed": false
   },
   "outputs": [],
   "source": [
    "# cursor = tweets.find({\"entities.media.media_url\":{\"$exists\":True, \"$ne\": None},\n",
    "#                       \"retweeted_status\":{\"$exists\":True, \"$ne\": None}},\n",
    "#                      {\"retweeted_status.id\":1, \"_id\":0}\n",
    "#                     )\n",
    "start = datetime.datetime(2015, 4, 25, 0, 0, 0)\n",
    "end = datetime.datetime(2015, 6, 1, 0, 0, 0)\n",
    "\n",
    "most_tweeted_images = list(tweets.aggregate([\n",
    "    {\"$match\": {\n",
    "        \"entities.media.media_url\":{\"$exists\":True, \"$ne\": None},\n",
    "        \"retweeted_status\":{\"$exists\":True, \"$ne\": None},\n",
    "        \"created_at\": {'$gte': start, '$lt': end} \n",
    "    }},\n",
    "        \n",
    "    {\"$group\": { \n",
    "        \"_id\": '$retweeted_status.id',\n",
    "        \"count\": {\"$sum\": 1}\n",
    "    }},\n",
    "\n",
    "    {\"$sort\": {\n",
    "        \"count\": -1\n",
    "    }},\n",
    "\n",
    "    {\"$limit\": 50}\n",
    "]))"
   ]
  },
  {
   "cell_type": "code",
   "execution_count": 125,
   "metadata": {
    "collapsed": false,
    "scrolled": true
   },
   "outputs": [
    {
     "name": "stdout",
     "output_type": "stream",
     "text": [
      "{\"_id\": 593041414583414784, \"count\": 12187}\n",
      "http://pbs.twimg.com/media/CDroBfoW0AEWS85.jpg\n"
     ]
    },
    {
     "data": {
      "text/html": [
       "<img src=\"http://pbs.twimg.com/media/CDroBfoW0AEWS85.jpg\"/>"
      ],
      "text/plain": [
       "<IPython.core.display.Image object>"
      ]
     },
     "metadata": {},
     "output_type": "display_data"
    },
    {
     "name": "stdout",
     "output_type": "stream",
     "text": [
      "{\"_id\": 598052172312391680, \"count\": 8312}\n",
      "http://pbs.twimg.com/media/CEy1Re_UsAEEUOe.jpg\n"
     ]
    },
    {
     "data": {
      "text/html": [
       "<img src=\"http://pbs.twimg.com/media/CEy1Re_UsAEEUOe.jpg\"/>"
      ],
      "text/plain": [
       "<IPython.core.display.Image object>"
      ]
     },
     "metadata": {},
     "output_type": "display_data"
    },
    {
     "name": "stdout",
     "output_type": "stream",
     "text": [
      "{\"_id\": 595989727108444161, \"count\": 7915}\n",
      "http://pbs.twimg.com/media/CEVfWweUMAE0Ltf.jpg\n"
     ]
    },
    {
     "data": {
      "text/html": [
       "<img src=\"http://pbs.twimg.com/media/CEVfWweUMAE0Ltf.jpg\"/>"
      ],
      "text/plain": [
       "<IPython.core.display.Image object>"
      ]
     },
     "metadata": {},
     "output_type": "display_data"
    },
    {
     "name": "stdout",
     "output_type": "stream",
     "text": [
      "{\"_id\": 598221514345943040, \"count\": 7715}\n",
      "http://pbs.twimg.com/media/CE1PHwQWgAEeKrb.jpg\n"
     ]
    },
    {
     "data": {
      "text/html": [
       "<img src=\"http://pbs.twimg.com/media/CE1PHwQWgAEeKrb.jpg\"/>"
      ],
      "text/plain": [
       "<IPython.core.display.Image object>"
      ]
     },
     "metadata": {},
     "output_type": "display_data"
    },
    {
     "name": "stdout",
     "output_type": "stream",
     "text": [
      "{\"_id\": 601171857878953985, \"count\": 7205}\n",
      "http://pbs.twimg.com/media/CFfKnnFUkAAmB1Z.jpg\n"
     ]
    },
    {
     "data": {
      "text/html": [
       "<img src=\"http://pbs.twimg.com/media/CFfKnnFUkAAmB1Z.jpg\"/>"
      ],
      "text/plain": [
       "<IPython.core.display.Image object>"
      ]
     },
     "metadata": {},
     "output_type": "display_data"
    },
    {
     "name": "stdout",
     "output_type": "stream",
     "text": [
      "{\"_id\": 596070919476420608, \"count\": 7198}\n",
      "http://pbs.twimg.com/media/CEWrV5OUkAAWsHK.jpg\n"
     ]
    },
    {
     "data": {
      "text/html": [
       "<img src=\"http://pbs.twimg.com/media/CEWrV5OUkAAWsHK.jpg\"/>"
      ],
      "text/plain": [
       "<IPython.core.display.Image object>"
      ]
     },
     "metadata": {},
     "output_type": "display_data"
    },
    {
     "name": "stdout",
     "output_type": "stream",
     "text": [
      "{\"_id\": 601397082902102016, \"count\": 6882}\n",
      "http://pbs.twimg.com/media/CFiXdbiUsAEFAX7.jpg\n"
     ]
    },
    {
     "data": {
      "text/html": [
       "<img src=\"http://pbs.twimg.com/media/CFiXdbiUsAEFAX7.jpg\"/>"
      ],
      "text/plain": [
       "<IPython.core.display.Image object>"
      ]
     },
     "metadata": {},
     "output_type": "display_data"
    },
    {
     "name": "stdout",
     "output_type": "stream",
     "text": [
      "{\"_id\": 592164258449756162, \"count\": 6826}\n",
      "None\n",
      "http://pbs.twimg.com/media/CFiXdbiUsAEFAX7.jpg\n"
     ]
    },
    {
     "data": {
      "text/html": [
       "<img src=\"http://pbs.twimg.com/media/CFiXdbiUsAEFAX7.jpg\"/>"
      ],
      "text/plain": [
       "<IPython.core.display.Image object>"
      ]
     },
     "metadata": {},
     "output_type": "display_data"
    },
    {
     "name": "stdout",
     "output_type": "stream",
     "text": [
      "{\"_id\": 594219630308290560, \"count\": 6445}\n",
      "http://pbs.twimg.com/media/CD8XmYaWoAA81Xw.jpg\n"
     ]
    },
    {
     "data": {
      "text/html": [
       "<img src=\"http://pbs.twimg.com/media/CD8XmYaWoAA81Xw.jpg\"/>"
      ],
      "text/plain": [
       "<IPython.core.display.Image object>"
      ]
     },
     "metadata": {},
     "output_type": "display_data"
    },
    {
     "name": "stdout",
     "output_type": "stream",
     "text": [
      "{\"_id\": 592605726360608769, \"count\": 6396}\n",
      "http://pbs.twimg.com/media/CDlbdEwWAAAmDMu.jpg\n"
     ]
    },
    {
     "data": {
      "text/html": [
       "<img src=\"http://pbs.twimg.com/media/CDlbdEwWAAAmDMu.jpg\"/>"
      ],
      "text/plain": [
       "<IPython.core.display.Image object>"
      ]
     },
     "metadata": {},
     "output_type": "display_data"
    },
    {
     "name": "stdout",
     "output_type": "stream",
     "text": [
      "{\"_id\": 593851610415165441, \"count\": 5739}\n",
      "http://pbs.twimg.com/media/CD3I4kqWgAAtop0.jpg\n"
     ]
    },
    {
     "data": {
      "text/html": [
       "<img src=\"http://pbs.twimg.com/media/CD3I4kqWgAAtop0.jpg\"/>"
      ],
      "text/plain": [
       "<IPython.core.display.Image object>"
      ]
     },
     "metadata": {},
     "output_type": "display_data"
    },
    {
     "name": "stdout",
     "output_type": "stream",
     "text": [
      "{\"_id\": 592926972365385729, \"count\": 5604}\n",
      "http://pbs.twimg.com/media/CDp_8JoWYAAjypR.png\n"
     ]
    },
    {
     "data": {
      "text/html": [
       "<img src=\"http://pbs.twimg.com/media/CDp_8JoWYAAjypR.png\"/>"
      ],
      "text/plain": [
       "<IPython.core.display.Image object>"
      ]
     },
     "metadata": {},
     "output_type": "display_data"
    },
    {
     "name": "stdout",
     "output_type": "stream",
     "text": [
      "{\"_id\": 592001705132326913, \"count\": 4708}\n",
      "http://pbs.twimg.com/media/CDc2afmWYAIPxaG.jpg\n"
     ]
    },
    {
     "data": {
      "text/html": [
       "<img src=\"http://pbs.twimg.com/media/CDc2afmWYAIPxaG.jpg\"/>"
      ],
      "text/plain": [
       "<IPython.core.display.Image object>"
      ]
     },
     "metadata": {},
     "output_type": "display_data"
    },
    {
     "name": "stdout",
     "output_type": "stream",
     "text": [
      "{\"_id\": 593632736453099521, \"count\": 4647}\n",
      "http://pbs.twimg.com/media/CD0B1BQVEAAV3El.jpg\n"
     ]
    },
    {
     "data": {
      "text/html": [
       "<img src=\"http://pbs.twimg.com/media/CD0B1BQVEAAV3El.jpg\"/>"
      ],
      "text/plain": [
       "<IPython.core.display.Image object>"
      ]
     },
     "metadata": {},
     "output_type": "display_data"
    },
    {
     "name": "stdout",
     "output_type": "stream",
     "text": [
      "{\"_id\": 592519492200103936, \"count\": 4629}\n",
      "http://pbs.twimg.com/media/CDkNVdRWMAANVEr.jpg\n"
     ]
    },
    {
     "data": {
      "text/html": [
       "<img src=\"http://pbs.twimg.com/media/CDkNVdRWMAANVEr.jpg\"/>"
      ],
      "text/plain": [
       "<IPython.core.display.Image object>"
      ]
     },
     "metadata": {},
     "output_type": "display_data"
    },
    {
     "name": "stdout",
     "output_type": "stream",
     "text": [
      "{\"_id\": 592865808130437120, \"count\": 4543}\n",
      "http://pbs.twimg.com/media/CDpIT2IWgAITqe7.jpg\n"
     ]
    },
    {
     "data": {
      "text/html": [
       "<img src=\"http://pbs.twimg.com/media/CDpIT2IWgAITqe7.jpg\"/>"
      ],
      "text/plain": [
       "<IPython.core.display.Image object>"
      ]
     },
     "metadata": {},
     "output_type": "display_data"
    },
    {
     "name": "stdout",
     "output_type": "stream",
     "text": [
      "{\"_id\": 592102872780771328, \"count\": 4021}\n",
      "http://pbs.twimg.com/media/CDeSbLHWYAA3IEJ.jpg\n"
     ]
    },
    {
     "data": {
      "text/html": [
       "<img src=\"http://pbs.twimg.com/media/CDeSbLHWYAA3IEJ.jpg\"/>"
      ],
      "text/plain": [
       "<IPython.core.display.Image object>"
      ]
     },
     "metadata": {},
     "output_type": "display_data"
    },
    {
     "name": "stdout",
     "output_type": "stream",
     "text": [
      "{\"_id\": 592020273718767617, \"count\": 3983}\n",
      "None\n",
      "http://pbs.twimg.com/media/CDeSbLHWYAA3IEJ.jpg\n"
     ]
    },
    {
     "data": {
      "text/html": [
       "<img src=\"http://pbs.twimg.com/media/CDeSbLHWYAA3IEJ.jpg\"/>"
      ],
      "text/plain": [
       "<IPython.core.display.Image object>"
      ]
     },
     "metadata": {},
     "output_type": "display_data"
    },
    {
     "name": "stdout",
     "output_type": "stream",
     "text": [
      "{\"_id\": 594712122703024128, \"count\": 3881}\n",
      "http://pbs.twimg.com/media/CEDXhT-UsAELL_L.jpg\n"
     ]
    },
    {
     "data": {
      "text/html": [
       "<img src=\"http://pbs.twimg.com/media/CEDXhT-UsAELL_L.jpg\"/>"
      ],
      "text/plain": [
       "<IPython.core.display.Image object>"
      ]
     },
     "metadata": {},
     "output_type": "display_data"
    },
    {
     "name": "stdout",
     "output_type": "stream",
     "text": [
      "{\"_id\": 594108060378902529, \"count\": 3867}\n",
      "None\n",
      "http://pbs.twimg.com/media/CEDXhT-UsAELL_L.jpg\n"
     ]
    },
    {
     "data": {
      "text/html": [
       "<img src=\"http://pbs.twimg.com/media/CEDXhT-UsAELL_L.jpg\"/>"
      ],
      "text/plain": [
       "<IPython.core.display.Image object>"
      ]
     },
     "metadata": {},
     "output_type": "display_data"
    },
    {
     "name": "stdout",
     "output_type": "stream",
     "text": [
      "{\"_id\": 594298579612606464, \"count\": 3766}\n",
      "http://pbs.twimg.com/media/CD9faMqUMAE_Q4z.jpg\n"
     ]
    },
    {
     "data": {
      "text/html": [
       "<img src=\"http://pbs.twimg.com/media/CD9faMqUMAE_Q4z.jpg\"/>"
      ],
      "text/plain": [
       "<IPython.core.display.Image object>"
      ]
     },
     "metadata": {},
     "output_type": "display_data"
    },
    {
     "name": "stdout",
     "output_type": "stream",
     "text": [
      "{\"_id\": 592371640299728896, \"count\": 3737}\n",
      "http://pbs.twimg.com/media/CDiG2yEVIAAURvh.jpg\n"
     ]
    },
    {
     "data": {
      "text/html": [
       "<img src=\"http://pbs.twimg.com/media/CDiG2yEVIAAURvh.jpg\"/>"
      ],
      "text/plain": [
       "<IPython.core.display.Image object>"
      ]
     },
     "metadata": {},
     "output_type": "display_data"
    },
    {
     "name": "stdout",
     "output_type": "stream",
     "text": [
      "{\"_id\": 591890107780599809, \"count\": 3696}\n",
      "None\n",
      "http://pbs.twimg.com/media/CDiG2yEVIAAURvh.jpg\n"
     ]
    },
    {
     "data": {
      "text/html": [
       "<img src=\"http://pbs.twimg.com/media/CDiG2yEVIAAURvh.jpg\"/>"
      ],
      "text/plain": [
       "<IPython.core.display.Image object>"
      ]
     },
     "metadata": {},
     "output_type": "display_data"
    },
    {
     "name": "stdout",
     "output_type": "stream",
     "text": [
      "{\"_id\": 593235512208424960, \"count\": 3601}\n",
      "http://pbs.twimg.com/media/CDuYihQVIAEVY-1.jpg\n"
     ]
    },
    {
     "data": {
      "text/html": [
       "<img src=\"http://pbs.twimg.com/media/CDuYihQVIAEVY-1.jpg\"/>"
      ],
      "text/plain": [
       "<IPython.core.display.Image object>"
      ]
     },
     "metadata": {},
     "output_type": "display_data"
    },
    {
     "name": "stdout",
     "output_type": "stream",
     "text": [
      "{\"_id\": 592437743734493184, \"count\": 3550}\n",
      "http://pbs.twimg.com/media/CDjC-ggVIAADM4W.jpg\n"
     ]
    },
    {
     "data": {
      "text/html": [
       "<img src=\"http://pbs.twimg.com/media/CDjC-ggVIAADM4W.jpg\"/>"
      ],
      "text/plain": [
       "<IPython.core.display.Image object>"
      ]
     },
     "metadata": {},
     "output_type": "display_data"
    },
    {
     "name": "stdout",
     "output_type": "stream",
     "text": [
      "{\"_id\": 594468083588149249, \"count\": 3516}\n",
      "http://pbs.twimg.com/media/CD_5kQlUEAA8U7a.jpg\n"
     ]
    },
    {
     "data": {
      "text/html": [
       "<img src=\"http://pbs.twimg.com/media/CD_5kQlUEAA8U7a.jpg\"/>"
      ],
      "text/plain": [
       "<IPython.core.display.Image object>"
      ]
     },
     "metadata": {},
     "output_type": "display_data"
    },
    {
     "name": "stdout",
     "output_type": "stream",
     "text": [
      "{\"_id\": 593258415402561536, \"count\": 3470}\n",
      "http://pbs.twimg.com/media/CDutYrGUMAAb8Fr.jpg\n"
     ]
    },
    {
     "data": {
      "text/html": [
       "<img src=\"http://pbs.twimg.com/media/CDutYrGUMAAb8Fr.jpg\"/>"
      ],
      "text/plain": [
       "<IPython.core.display.Image object>"
      ]
     },
     "metadata": {},
     "output_type": "display_data"
    },
    {
     "name": "stdout",
     "output_type": "stream",
     "text": [
      "{\"_id\": 602127764267749377, \"count\": 3403}\n",
      "http://pbs.twimg.com/media/CFswAPlUMAAIsa2.jpg\n"
     ]
    },
    {
     "data": {
      "text/html": [
       "<img src=\"http://pbs.twimg.com/media/CFswAPlUMAAIsa2.jpg\"/>"
      ],
      "text/plain": [
       "<IPython.core.display.Image object>"
      ]
     },
     "metadata": {},
     "output_type": "display_data"
    },
    {
     "name": "stdout",
     "output_type": "stream",
     "text": [
      "{\"_id\": 592069184357412865, \"count\": 3374}\n",
      "None\n",
      "http://pbs.twimg.com/media/CFswAPlUMAAIsa2.jpg\n"
     ]
    },
    {
     "data": {
      "text/html": [
       "<img src=\"http://pbs.twimg.com/media/CFswAPlUMAAIsa2.jpg\"/>"
      ],
      "text/plain": [
       "<IPython.core.display.Image object>"
      ]
     },
     "metadata": {},
     "output_type": "display_data"
    },
    {
     "name": "stdout",
     "output_type": "stream",
     "text": [
      "{\"_id\": 592942921982279680, \"count\": 3262}\n",
      "http://pbs.twimg.com/media/CDqN75mWEAAzABc.jpg\n"
     ]
    },
    {
     "data": {
      "text/html": [
       "<img src=\"http://pbs.twimg.com/media/CDqN75mWEAAzABc.jpg\"/>"
      ],
      "text/plain": [
       "<IPython.core.display.Image object>"
      ]
     },
     "metadata": {},
     "output_type": "display_data"
    },
    {
     "name": "stdout",
     "output_type": "stream",
     "text": [
      "{\"_id\": 594133822259658752, \"count\": 3236}\n",
      "http://pbs.twimg.com/media/CD7JjC3VEAALbP6.jpg\n"
     ]
    },
    {
     "data": {
      "text/html": [
       "<img src=\"http://pbs.twimg.com/media/CD7JjC3VEAALbP6.jpg\"/>"
      ],
      "text/plain": [
       "<IPython.core.display.Image object>"
      ]
     },
     "metadata": {},
     "output_type": "display_data"
    },
    {
     "name": "stdout",
     "output_type": "stream",
     "text": [
      "{\"_id\": 593763503288283136, \"count\": 3235}\n",
      "http://pbs.twimg.com/media/CD13zBgW0AAJtYO.jpg\n"
     ]
    },
    {
     "data": {
      "text/html": [
       "<img src=\"http://pbs.twimg.com/media/CD13zBgW0AAJtYO.jpg\"/>"
      ],
      "text/plain": [
       "<IPython.core.display.Image object>"
      ]
     },
     "metadata": {},
     "output_type": "display_data"
    },
    {
     "name": "stdout",
     "output_type": "stream",
     "text": [
      "{\"_id\": 592056894052786176, \"count\": 3212}\n",
      "http://pbs.twimg.com/media/CDdoibgUIAApaGW.jpg\n"
     ]
    },
    {
     "data": {
      "text/html": [
       "<img src=\"http://pbs.twimg.com/media/CDdoibgUIAApaGW.jpg\"/>"
      ],
      "text/plain": [
       "<IPython.core.display.Image object>"
      ]
     },
     "metadata": {},
     "output_type": "display_data"
    },
    {
     "name": "stdout",
     "output_type": "stream",
     "text": [
      "{\"_id\": 593762686753583104, \"count\": 3138}\n",
      "http://pbs.twimg.com/media/CD13-9JVAAAO3y0.jpg\n"
     ]
    },
    {
     "data": {
      "text/html": [
       "<img src=\"http://pbs.twimg.com/media/CD13-9JVAAAO3y0.jpg\"/>"
      ],
      "text/plain": [
       "<IPython.core.display.Image object>"
      ]
     },
     "metadata": {},
     "output_type": "display_data"
    },
    {
     "name": "stdout",
     "output_type": "stream",
     "text": [
      "{\"_id\": 592524867519545346, \"count\": 3128}\n",
      "http://pbs.twimg.com/media/CDkSOjEUMAARQlC.jpg\n"
     ]
    },
    {
     "data": {
      "text/html": [
       "<img src=\"http://pbs.twimg.com/media/CDkSOjEUMAARQlC.jpg\"/>"
      ],
      "text/plain": [
       "<IPython.core.display.Image object>"
      ]
     },
     "metadata": {},
     "output_type": "display_data"
    },
    {
     "name": "stdout",
     "output_type": "stream",
     "text": [
      "{\"_id\": 594543607782051840, \"count\": 3057}\n",
      "http://pbs.twimg.com/media/CEA-QFEUgAE9DUn.jpg\n"
     ]
    },
    {
     "data": {
      "text/html": [
       "<img src=\"http://pbs.twimg.com/media/CEA-QFEUgAE9DUn.jpg\"/>"
      ],
      "text/plain": [
       "<IPython.core.display.Image object>"
      ]
     },
     "metadata": {},
     "output_type": "display_data"
    },
    {
     "name": "stdout",
     "output_type": "stream",
     "text": [
      "{\"_id\": 592298453860032512, \"count\": 3045}\n",
      "http://pbs.twimg.com/media/CDhEMxsW0AABxCX.jpg\n"
     ]
    },
    {
     "data": {
      "text/html": [
       "<img src=\"http://pbs.twimg.com/media/CDhEMxsW0AABxCX.jpg\"/>"
      ],
      "text/plain": [
       "<IPython.core.display.Image object>"
      ]
     },
     "metadata": {},
     "output_type": "display_data"
    },
    {
     "name": "stdout",
     "output_type": "stream",
     "text": [
      "{\"_id\": 592366832457220096, \"count\": 3034}\n",
      "http://pbs.twimg.com/media/CDiCftHWEAIEYYA.jpg\n"
     ]
    },
    {
     "data": {
      "text/html": [
       "<img src=\"http://pbs.twimg.com/media/CDiCftHWEAIEYYA.jpg\"/>"
      ],
      "text/plain": [
       "<IPython.core.display.Image object>"
      ]
     },
     "metadata": {},
     "output_type": "display_data"
    },
    {
     "name": "stdout",
     "output_type": "stream",
     "text": [
      "{\"_id\": 598033423693979648, \"count\": 3020}\n",
      "http://pbs.twimg.com/media/CEyj9oOWEAER5sd.jpg\n"
     ]
    },
    {
     "data": {
      "text/html": [
       "<img src=\"http://pbs.twimg.com/media/CEyj9oOWEAER5sd.jpg\"/>"
      ],
      "text/plain": [
       "<IPython.core.display.Image object>"
      ]
     },
     "metadata": {},
     "output_type": "display_data"
    },
    {
     "name": "stdout",
     "output_type": "stream",
     "text": [
      "{\"_id\": 594589928505397248, \"count\": 2931}\n",
      "http://pbs.twimg.com/media/CEBoY75W8AEQtww.jpg\n"
     ]
    },
    {
     "data": {
      "text/html": [
       "<img src=\"http://pbs.twimg.com/media/CEBoY75W8AEQtww.jpg\"/>"
      ],
      "text/plain": [
       "<IPython.core.display.Image object>"
      ]
     },
     "metadata": {},
     "output_type": "display_data"
    },
    {
     "name": "stdout",
     "output_type": "stream",
     "text": [
      "{\"_id\": 596190859411984384, \"count\": 2834}\n",
      "http://pbs.twimg.com/media/CEYYaPHWYAATmR1.jpg\n"
     ]
    },
    {
     "data": {
      "text/html": [
       "<img src=\"http://pbs.twimg.com/media/CEYYaPHWYAATmR1.jpg\"/>"
      ],
      "text/plain": [
       "<IPython.core.display.Image object>"
      ]
     },
     "metadata": {},
     "output_type": "display_data"
    },
    {
     "name": "stdout",
     "output_type": "stream",
     "text": [
      "{\"_id\": 604242484667883520, \"count\": 2758}\n",
      "http://pbs.twimg.com/media/CGKzULBUQAAg0e0.jpg\n"
     ]
    },
    {
     "data": {
      "text/html": [
       "<img src=\"http://pbs.twimg.com/media/CGKzULBUQAAg0e0.jpg\"/>"
      ],
      "text/plain": [
       "<IPython.core.display.Image object>"
      ]
     },
     "metadata": {},
     "output_type": "display_data"
    },
    {
     "name": "stdout",
     "output_type": "stream",
     "text": [
      "{\"_id\": 597008123455361024, \"count\": 2622}\n",
      "http://pbs.twimg.com/media/CEj_rgdWMAEJN9C.jpg\n"
     ]
    },
    {
     "data": {
      "text/html": [
       "<img src=\"http://pbs.twimg.com/media/CEj_rgdWMAEJN9C.jpg\"/>"
      ],
      "text/plain": [
       "<IPython.core.display.Image object>"
      ]
     },
     "metadata": {},
     "output_type": "display_data"
    },
    {
     "name": "stdout",
     "output_type": "stream",
     "text": [
      "{\"_id\": 592063878575468544, \"count\": 2561}\n",
      "None\n",
      "http://pbs.twimg.com/media/CEj_rgdWMAEJN9C.jpg\n"
     ]
    },
    {
     "data": {
      "text/html": [
       "<img src=\"http://pbs.twimg.com/media/CEj_rgdWMAEJN9C.jpg\"/>"
      ],
      "text/plain": [
       "<IPython.core.display.Image object>"
      ]
     },
     "metadata": {},
     "output_type": "display_data"
    },
    {
     "name": "stdout",
     "output_type": "stream",
     "text": [
      "{\"_id\": 592021482781483009, \"count\": 2481}\n",
      "http://pbs.twimg.com/media/CDdIZSuWEAEMJfJ.jpg\n"
     ]
    },
    {
     "data": {
      "text/html": [
       "<img src=\"http://pbs.twimg.com/media/CDdIZSuWEAEMJfJ.jpg\"/>"
      ],
      "text/plain": [
       "<IPython.core.display.Image object>"
      ]
     },
     "metadata": {},
     "output_type": "display_data"
    },
    {
     "name": "stdout",
     "output_type": "stream",
     "text": [
      "{\"_id\": 592293676325347328, \"count\": 2432}\n",
      "http://pbs.twimg.com/media/CDg_361UUAA4-2R.jpg\n"
     ]
    },
    {
     "data": {
      "text/html": [
       "<img src=\"http://pbs.twimg.com/media/CDg_361UUAA4-2R.jpg\"/>"
      ],
      "text/plain": [
       "<IPython.core.display.Image object>"
      ]
     },
     "metadata": {},
     "output_type": "display_data"
    },
    {
     "name": "stdout",
     "output_type": "stream",
     "text": [
      "{\"_id\": 598077123639803904, \"count\": 2417}\n",
      "http://pbs.twimg.com/media/CEzL-WVWEAAteV_.jpg\n"
     ]
    },
    {
     "data": {
      "text/html": [
       "<img src=\"http://pbs.twimg.com/media/CEzL-WVWEAAteV_.jpg\"/>"
      ],
      "text/plain": [
       "<IPython.core.display.Image object>"
      ]
     },
     "metadata": {},
     "output_type": "display_data"
    },
    {
     "name": "stdout",
     "output_type": "stream",
     "text": [
      "{\"_id\": 592755473377529857, \"count\": 2382}\n",
      "http://pbs.twimg.com/media/CDnj9jkWgAAddGi.jpg\n"
     ]
    },
    {
     "data": {
      "text/html": [
       "<img src=\"http://pbs.twimg.com/media/CDnj9jkWgAAddGi.jpg\"/>"
      ],
      "text/plain": [
       "<IPython.core.display.Image object>"
      ]
     },
     "metadata": {},
     "output_type": "display_data"
    },
    {
     "name": "stdout",
     "output_type": "stream",
     "text": [
      "{\"_id\": 593168192186417152, \"count\": 2371}\n",
      "None\n",
      "http://pbs.twimg.com/media/CDnj9jkWgAAddGi.jpg\n"
     ]
    },
    {
     "data": {
      "text/html": [
       "<img src=\"http://pbs.twimg.com/media/CDnj9jkWgAAddGi.jpg\"/>"
      ],
      "text/plain": [
       "<IPython.core.display.Image object>"
      ]
     },
     "metadata": {},
     "output_type": "display_data"
    },
    {
     "name": "stdout",
     "output_type": "stream",
     "text": [
      "{\"_id\": 592013533174493184, \"count\": 2335}\n",
      "None\n",
      "http://pbs.twimg.com/media/CDnj9jkWgAAddGi.jpg\n"
     ]
    },
    {
     "data": {
      "text/html": [
       "<img src=\"http://pbs.twimg.com/media/CDnj9jkWgAAddGi.jpg\"/>"
      ],
      "text/plain": [
       "<IPython.core.display.Image object>"
      ]
     },
     "metadata": {},
     "output_type": "display_data"
    }
   ],
   "source": [
    "for doc in most_tweeted_images:\n",
    "    print(json.dumps(doc))\n",
    "#     cursor = tweets.find({\"retweeted_status.id\":doc['_id']},{\"entities.media.media_url\":1}).limit(1)\n",
    "    # Find the original tweet\n",
    "    if tweets.find_one({\"id\":doc['_id']}) != None:\n",
    "        tweet = tweets.find_one({\"id\":doc['_id']})\n",
    "    else:\n",
    "        print(\"None\")\n",
    "    imgurl = tweet['entities']['media'][0]['media_url']\n",
    "    print(imgurl)\n",
    "    display(Image(url=str(imgurl)))\n",
    "\n",
    "# json.dumps(most_tweeted_images)\n"
   ]
  },
  {
   "cell_type": "code",
   "execution_count": 120,
   "metadata": {
    "collapsed": false
   },
   "outputs": [
    {
     "name": "stdout",
     "output_type": "stream",
     "text": [
      "None\n"
     ]
    }
   ],
   "source": [
    "# tweets.find_one({\"retweeted_status.id\":592164258449756162},{\"entities.media.media_url\":1})\n",
    "print(tweets.find_one({\"id\":592164258449756162}))"
   ]
  },
  {
   "cell_type": "code",
   "execution_count": 42,
   "metadata": {
    "collapsed": false,
    "scrolled": false
   },
   "outputs": [],
   "source": [
    "# without date limitations\n",
    "# most_tweeted_images = [{'_id': 613861592292196352, 'count': 19102},\n",
    "#                        {'_id': 613678855228817408, 'count': 17412},\n",
    "#                        {'_id': 613773269880164352, 'count': 16434},\n",
    "#                        {'_id': 593041414583414784, 'count': 13060},\n",
    "#                        {'_id': 595989727108444161, 'count': 11821},\n",
    "#                        {'_id': 610451744808640512, 'count': 11309},\n",
    "#                        {'_id': 651106694781468672, 'count': 10104},\n",
    "#                        {'_id': 613673956952948736, 'count': 9229},\n",
    "#                        {'_id': 596070919476420608, 'count': 8917},\n",
    "#                        {'_id': 609088840561778688, 'count': 8741}]"
   ]
  },
  {
   "cell_type": "code",
   "execution_count": 167,
   "metadata": {
    "collapsed": false,
    "scrolled": true
   },
   "outputs": [
    {
     "name": "stdout",
     "output_type": "stream",
     "text": [
      "{\"_id\": 593041414583414784, \"count\": 10770}\n",
      "http://pbs.twimg.com/media/CDroBfoW0AEWS85.jpg\n"
     ]
    },
    {
     "data": {
      "text/html": [
       "<img src=\"http://pbs.twimg.com/media/CDroBfoW0AEWS85.jpg\"/>"
      ],
      "text/plain": [
       "<IPython.core.display.Image object>"
      ]
     },
     "metadata": {},
     "output_type": "display_data"
    },
    {
     "name": "stdout",
     "output_type": "stream",
     "text": [
      "{\"_id\": 592605726360608769, \"count\": 6393}\n",
      "http://pbs.twimg.com/media/CDlbdEwWAAAmDMu.jpg\n"
     ]
    },
    {
     "data": {
      "text/html": [
       "<img src=\"http://pbs.twimg.com/media/CDlbdEwWAAAmDMu.jpg\"/>"
      ],
      "text/plain": [
       "<IPython.core.display.Image object>"
      ]
     },
     "metadata": {},
     "output_type": "display_data"
    },
    {
     "name": "stdout",
     "output_type": "stream",
     "text": [
      "{\"_id\": 594219630308290560, \"count\": 6337}\n",
      "http://pbs.twimg.com/media/CD8XmYaWoAA81Xw.jpg\n"
     ]
    },
    {
     "data": {
      "text/html": [
       "<img src=\"http://pbs.twimg.com/media/CD8XmYaWoAA81Xw.jpg\"/>"
      ],
      "text/plain": [
       "<IPython.core.display.Image object>"
      ]
     },
     "metadata": {},
     "output_type": "display_data"
    },
    {
     "name": "stdout",
     "output_type": "stream",
     "text": [
      "{\"_id\": 595989727108444161, \"count\": 5784}\n",
      "http://pbs.twimg.com/media/CEVfWweUMAE0Ltf.jpg\n"
     ]
    },
    {
     "data": {
      "text/html": [
       "<img src=\"http://pbs.twimg.com/media/CEVfWweUMAE0Ltf.jpg\"/>"
      ],
      "text/plain": [
       "<IPython.core.display.Image object>"
      ]
     },
     "metadata": {},
     "output_type": "display_data"
    },
    {
     "name": "stdout",
     "output_type": "stream",
     "text": [
      "{\"_id\": 592926972365385729, \"count\": 5603}\n",
      "http://pbs.twimg.com/media/CDp_8JoWYAAjypR.png\n"
     ]
    },
    {
     "data": {
      "text/html": [
       "<img src=\"http://pbs.twimg.com/media/CDp_8JoWYAAjypR.png\"/>"
      ],
      "text/plain": [
       "<IPython.core.display.Image object>"
      ]
     },
     "metadata": {},
     "output_type": "display_data"
    },
    {
     "name": "stdout",
     "output_type": "stream",
     "text": [
      "{\"_id\": 593851610415165441, \"count\": 5328}\n",
      "http://pbs.twimg.com/media/CD3I4kqWgAAtop0.jpg\n"
     ]
    },
    {
     "data": {
      "text/html": [
       "<img src=\"http://pbs.twimg.com/media/CD3I4kqWgAAtop0.jpg\"/>"
      ],
      "text/plain": [
       "<IPython.core.display.Image object>"
      ]
     },
     "metadata": {},
     "output_type": "display_data"
    },
    {
     "name": "stdout",
     "output_type": "stream",
     "text": [
      "{\"_id\": 592001705132326913, \"count\": 4706}\n",
      "http://pbs.twimg.com/media/CDc2afmWYAIPxaG.jpg\n"
     ]
    },
    {
     "data": {
      "text/html": [
       "<img src=\"http://pbs.twimg.com/media/CDc2afmWYAIPxaG.jpg\"/>"
      ],
      "text/plain": [
       "<IPython.core.display.Image object>"
      ]
     },
     "metadata": {},
     "output_type": "display_data"
    },
    {
     "name": "stdout",
     "output_type": "stream",
     "text": [
      "{\"_id\": 592164258449756162, \"count\": 4592}\n",
      "None\n",
      "http://pbs.twimg.com/media/CDc2afmWYAIPxaG.jpg\n"
     ]
    },
    {
     "data": {
      "text/html": [
       "<img src=\"http://pbs.twimg.com/media/CDc2afmWYAIPxaG.jpg\"/>"
      ],
      "text/plain": [
       "<IPython.core.display.Image object>"
      ]
     },
     "metadata": {},
     "output_type": "display_data"
    },
    {
     "name": "stdout",
     "output_type": "stream",
     "text": [
      "{\"_id\": 593632736453099521, \"count\": 4551}\n",
      "http://pbs.twimg.com/media/CD0B1BQVEAAV3El.jpg\n"
     ]
    },
    {
     "data": {
      "text/html": [
       "<img src=\"http://pbs.twimg.com/media/CD0B1BQVEAAV3El.jpg\"/>"
      ],
      "text/plain": [
       "<IPython.core.display.Image object>"
      ]
     },
     "metadata": {},
     "output_type": "display_data"
    },
    {
     "name": "stdout",
     "output_type": "stream",
     "text": [
      "{\"_id\": 592865808130437120, \"count\": 4542}\n",
      "http://pbs.twimg.com/media/CDpIT2IWgAITqe7.jpg\n"
     ]
    },
    {
     "data": {
      "text/html": [
       "<img src=\"http://pbs.twimg.com/media/CDpIT2IWgAITqe7.jpg\"/>"
      ],
      "text/plain": [
       "<IPython.core.display.Image object>"
      ]
     },
     "metadata": {},
     "output_type": "display_data"
    },
    {
     "name": "stdout",
     "output_type": "stream",
     "text": [
      "{\"_id\": 592102872780771328, \"count\": 4020}\n",
      "http://pbs.twimg.com/media/CDeSbLHWYAA3IEJ.jpg\n"
     ]
    },
    {
     "data": {
      "text/html": [
       "<img src=\"http://pbs.twimg.com/media/CDeSbLHWYAA3IEJ.jpg\"/>"
      ],
      "text/plain": [
       "<IPython.core.display.Image object>"
      ]
     },
     "metadata": {},
     "output_type": "display_data"
    },
    {
     "name": "stdout",
     "output_type": "stream",
     "text": [
      "{\"_id\": 592020273718767617, \"count\": 3979}\n",
      "None\n",
      "http://pbs.twimg.com/media/CDeSbLHWYAA3IEJ.jpg\n"
     ]
    },
    {
     "data": {
      "text/html": [
       "<img src=\"http://pbs.twimg.com/media/CDeSbLHWYAA3IEJ.jpg\"/>"
      ],
      "text/plain": [
       "<IPython.core.display.Image object>"
      ]
     },
     "metadata": {},
     "output_type": "display_data"
    },
    {
     "name": "stdout",
     "output_type": "stream",
     "text": [
      "{\"_id\": 594712122703024128, \"count\": 3761}\n",
      "http://pbs.twimg.com/media/CEDXhT-UsAELL_L.jpg\n"
     ]
    },
    {
     "data": {
      "text/html": [
       "<img src=\"http://pbs.twimg.com/media/CEDXhT-UsAELL_L.jpg\"/>"
      ],
      "text/plain": [
       "<IPython.core.display.Image object>"
      ]
     },
     "metadata": {},
     "output_type": "display_data"
    },
    {
     "name": "stdout",
     "output_type": "stream",
     "text": [
      "{\"_id\": 594298579612606464, \"count\": 3740}\n",
      "http://pbs.twimg.com/media/CD9faMqUMAE_Q4z.jpg\n"
     ]
    },
    {
     "data": {
      "text/html": [
       "<img src=\"http://pbs.twimg.com/media/CD9faMqUMAE_Q4z.jpg\"/>"
      ],
      "text/plain": [
       "<IPython.core.display.Image object>"
      ]
     },
     "metadata": {},
     "output_type": "display_data"
    },
    {
     "name": "stdout",
     "output_type": "stream",
     "text": [
      "{\"_id\": 592371640299728896, \"count\": 3712}\n",
      "http://pbs.twimg.com/media/CDiG2yEVIAAURvh.jpg\n"
     ]
    },
    {
     "data": {
      "text/html": [
       "<img src=\"http://pbs.twimg.com/media/CDiG2yEVIAAURvh.jpg\"/>"
      ],
      "text/plain": [
       "<IPython.core.display.Image object>"
      ]
     },
     "metadata": {},
     "output_type": "display_data"
    },
    {
     "name": "stdout",
     "output_type": "stream",
     "text": [
      "{\"_id\": 593235512208424960, \"count\": 3599}\n",
      "http://pbs.twimg.com/media/CDuYihQVIAEVY-1.jpg\n"
     ]
    },
    {
     "data": {
      "text/html": [
       "<img src=\"http://pbs.twimg.com/media/CDuYihQVIAEVY-1.jpg\"/>"
      ],
      "text/plain": [
       "<IPython.core.display.Image object>"
      ]
     },
     "metadata": {},
     "output_type": "display_data"
    },
    {
     "name": "stdout",
     "output_type": "stream",
     "text": [
      "{\"_id\": 592437743734493184, \"count\": 3542}\n",
      "http://pbs.twimg.com/media/CDjC-ggVIAADM4W.jpg\n"
     ]
    },
    {
     "data": {
      "text/html": [
       "<img src=\"http://pbs.twimg.com/media/CDjC-ggVIAADM4W.jpg\"/>"
      ],
      "text/plain": [
       "<IPython.core.display.Image object>"
      ]
     },
     "metadata": {},
     "output_type": "display_data"
    },
    {
     "name": "stdout",
     "output_type": "stream",
     "text": [
      "{\"_id\": 593258415402561536, \"count\": 3464}\n",
      "http://pbs.twimg.com/media/CDutYrGUMAAb8Fr.jpg\n"
     ]
    },
    {
     "data": {
      "text/html": [
       "<img src=\"http://pbs.twimg.com/media/CDutYrGUMAAb8Fr.jpg\"/>"
      ],
      "text/plain": [
       "<IPython.core.display.Image object>"
      ]
     },
     "metadata": {},
     "output_type": "display_data"
    },
    {
     "name": "stdout",
     "output_type": "stream",
     "text": [
      "{\"_id\": 594468083588149249, \"count\": 3385}\n",
      "http://pbs.twimg.com/media/CD_5kQlUEAA8U7a.jpg\n"
     ]
    },
    {
     "data": {
      "text/html": [
       "<img src=\"http://pbs.twimg.com/media/CD_5kQlUEAA8U7a.jpg\"/>"
      ],
      "text/plain": [
       "<IPython.core.display.Image object>"
      ]
     },
     "metadata": {},
     "output_type": "display_data"
    },
    {
     "name": "stdout",
     "output_type": "stream",
     "text": [
      "{\"_id\": 592069184357412865, \"count\": 3361}\n",
      "None\n",
      "http://pbs.twimg.com/media/CD_5kQlUEAA8U7a.jpg\n"
     ]
    },
    {
     "data": {
      "text/html": [
       "<img src=\"http://pbs.twimg.com/media/CD_5kQlUEAA8U7a.jpg\"/>"
      ],
      "text/plain": [
       "<IPython.core.display.Image object>"
      ]
     },
     "metadata": {},
     "output_type": "display_data"
    },
    {
     "name": "stdout",
     "output_type": "stream",
     "text": [
      "{\"_id\": 592942921982279680, \"count\": 3252}\n",
      "http://pbs.twimg.com/media/CDqN75mWEAAzABc.jpg\n"
     ]
    },
    {
     "data": {
      "text/html": [
       "<img src=\"http://pbs.twimg.com/media/CDqN75mWEAAzABc.jpg\"/>"
      ],
      "text/plain": [
       "<IPython.core.display.Image object>"
      ]
     },
     "metadata": {},
     "output_type": "display_data"
    },
    {
     "name": "stdout",
     "output_type": "stream",
     "text": [
      "{\"_id\": 593763503288283136, \"count\": 3225}\n",
      "http://pbs.twimg.com/media/CD13zBgW0AAJtYO.jpg\n"
     ]
    },
    {
     "data": {
      "text/html": [
       "<img src=\"http://pbs.twimg.com/media/CD13zBgW0AAJtYO.jpg\"/>"
      ],
      "text/plain": [
       "<IPython.core.display.Image object>"
      ]
     },
     "metadata": {},
     "output_type": "display_data"
    },
    {
     "name": "stdout",
     "output_type": "stream",
     "text": [
      "{\"_id\": 592056894052786176, \"count\": 3195}\n",
      "http://pbs.twimg.com/media/CDdoibgUIAApaGW.jpg\n"
     ]
    },
    {
     "data": {
      "text/html": [
       "<img src=\"http://pbs.twimg.com/media/CDdoibgUIAApaGW.jpg\"/>"
      ],
      "text/plain": [
       "<IPython.core.display.Image object>"
      ]
     },
     "metadata": {},
     "output_type": "display_data"
    },
    {
     "name": "stdout",
     "output_type": "stream",
     "text": [
      "{\"_id\": 594133822259658752, \"count\": 3152}\n",
      "http://pbs.twimg.com/media/CD7JjC3VEAALbP6.jpg\n"
     ]
    },
    {
     "data": {
      "text/html": [
       "<img src=\"http://pbs.twimg.com/media/CD7JjC3VEAALbP6.jpg\"/>"
      ],
      "text/plain": [
       "<IPython.core.display.Image object>"
      ]
     },
     "metadata": {},
     "output_type": "display_data"
    },
    {
     "name": "stdout",
     "output_type": "stream",
     "text": [
      "{\"_id\": 592524867519545346, \"count\": 3120}\n",
      "http://pbs.twimg.com/media/CDkSOjEUMAARQlC.jpg\n"
     ]
    },
    {
     "data": {
      "text/html": [
       "<img src=\"http://pbs.twimg.com/media/CDkSOjEUMAARQlC.jpg\"/>"
      ],
      "text/plain": [
       "<IPython.core.display.Image object>"
      ]
     },
     "metadata": {},
     "output_type": "display_data"
    },
    {
     "name": "stdout",
     "output_type": "stream",
     "text": [
      "{\"_id\": 593762686753583104, \"count\": 3118}\n",
      "http://pbs.twimg.com/media/CD13-9JVAAAO3y0.jpg\n"
     ]
    },
    {
     "data": {
      "text/html": [
       "<img src=\"http://pbs.twimg.com/media/CD13-9JVAAAO3y0.jpg\"/>"
      ],
      "text/plain": [
       "<IPython.core.display.Image object>"
      ]
     },
     "metadata": {},
     "output_type": "display_data"
    },
    {
     "name": "stdout",
     "output_type": "stream",
     "text": [
      "{\"_id\": 594108060378902529, \"count\": 3062}\n",
      "None\n",
      "http://pbs.twimg.com/media/CD13-9JVAAAO3y0.jpg\n"
     ]
    },
    {
     "data": {
      "text/html": [
       "<img src=\"http://pbs.twimg.com/media/CD13-9JVAAAO3y0.jpg\"/>"
      ],
      "text/plain": [
       "<IPython.core.display.Image object>"
      ]
     },
     "metadata": {},
     "output_type": "display_data"
    },
    {
     "name": "stdout",
     "output_type": "stream",
     "text": [
      "{\"_id\": 592298453860032512, \"count\": 3039}\n",
      "http://pbs.twimg.com/media/CDhEMxsW0AABxCX.jpg\n"
     ]
    },
    {
     "data": {
      "text/html": [
       "<img src=\"http://pbs.twimg.com/media/CDhEMxsW0AABxCX.jpg\"/>"
      ],
      "text/plain": [
       "<IPython.core.display.Image object>"
      ]
     },
     "metadata": {},
     "output_type": "display_data"
    },
    {
     "name": "stdout",
     "output_type": "stream",
     "text": [
      "{\"_id\": 594543607782051840, \"count\": 3030}\n",
      "http://pbs.twimg.com/media/CEA-QFEUgAE9DUn.jpg\n"
     ]
    },
    {
     "data": {
      "text/html": [
       "<img src=\"http://pbs.twimg.com/media/CEA-QFEUgAE9DUn.jpg\"/>"
      ],
      "text/plain": [
       "<IPython.core.display.Image object>"
      ]
     },
     "metadata": {},
     "output_type": "display_data"
    },
    {
     "name": "stdout",
     "output_type": "stream",
     "text": [
      "{\"_id\": 592366832457220096, \"count\": 3027}\n",
      "http://pbs.twimg.com/media/CDiCftHWEAIEYYA.jpg\n"
     ]
    },
    {
     "data": {
      "text/html": [
       "<img src=\"http://pbs.twimg.com/media/CDiCftHWEAIEYYA.jpg\"/>"
      ],
      "text/plain": [
       "<IPython.core.display.Image object>"
      ]
     },
     "metadata": {},
     "output_type": "display_data"
    },
    {
     "name": "stdout",
     "output_type": "stream",
     "text": [
      "{\"_id\": 591890107780599809, \"count\": 2942}\n",
      "None\n",
      "http://pbs.twimg.com/media/CDiCftHWEAIEYYA.jpg\n"
     ]
    },
    {
     "data": {
      "text/html": [
       "<img src=\"http://pbs.twimg.com/media/CDiCftHWEAIEYYA.jpg\"/>"
      ],
      "text/plain": [
       "<IPython.core.display.Image object>"
      ]
     },
     "metadata": {},
     "output_type": "display_data"
    },
    {
     "name": "stdout",
     "output_type": "stream",
     "text": [
      "{\"_id\": 594589928505397248, \"count\": 2898}\n",
      "http://pbs.twimg.com/media/CEBoY75W8AEQtww.jpg\n"
     ]
    },
    {
     "data": {
      "text/html": [
       "<img src=\"http://pbs.twimg.com/media/CEBoY75W8AEQtww.jpg\"/>"
      ],
      "text/plain": [
       "<IPython.core.display.Image object>"
      ]
     },
     "metadata": {},
     "output_type": "display_data"
    },
    {
     "name": "stdout",
     "output_type": "stream",
     "text": [
      "{\"_id\": 596190859411984384, \"count\": 2789}\n",
      "http://pbs.twimg.com/media/CEYYaPHWYAATmR1.jpg\n"
     ]
    },
    {
     "data": {
      "text/html": [
       "<img src=\"http://pbs.twimg.com/media/CEYYaPHWYAATmR1.jpg\"/>"
      ],
      "text/plain": [
       "<IPython.core.display.Image object>"
      ]
     },
     "metadata": {},
     "output_type": "display_data"
    },
    {
     "name": "stdout",
     "output_type": "stream",
     "text": [
      "{\"_id\": 592063878575468544, \"count\": 2561}\n",
      "None\n",
      "http://pbs.twimg.com/media/CEYYaPHWYAATmR1.jpg\n"
     ]
    },
    {
     "data": {
      "text/html": [
       "<img src=\"http://pbs.twimg.com/media/CEYYaPHWYAATmR1.jpg\"/>"
      ],
      "text/plain": [
       "<IPython.core.display.Image object>"
      ]
     },
     "metadata": {},
     "output_type": "display_data"
    },
    {
     "name": "stdout",
     "output_type": "stream",
     "text": [
      "{\"_id\": 592021482781483009, \"count\": 2471}\n",
      "http://pbs.twimg.com/media/CDdIZSuWEAEMJfJ.jpg\n"
     ]
    },
    {
     "data": {
      "text/html": [
       "<img src=\"http://pbs.twimg.com/media/CDdIZSuWEAEMJfJ.jpg\"/>"
      ],
      "text/plain": [
       "<IPython.core.display.Image object>"
      ]
     },
     "metadata": {},
     "output_type": "display_data"
    },
    {
     "name": "stdout",
     "output_type": "stream",
     "text": [
      "{\"_id\": 592293676325347328, \"count\": 2431}\n",
      "http://pbs.twimg.com/media/CDg_361UUAA4-2R.jpg\n"
     ]
    },
    {
     "data": {
      "text/html": [
       "<img src=\"http://pbs.twimg.com/media/CDg_361UUAA4-2R.jpg\"/>"
      ],
      "text/plain": [
       "<IPython.core.display.Image object>"
      ]
     },
     "metadata": {},
     "output_type": "display_data"
    },
    {
     "name": "stdout",
     "output_type": "stream",
     "text": [
      "{\"_id\": 592755473377529857, \"count\": 2380}\n",
      "http://pbs.twimg.com/media/CDnj9jkWgAAddGi.jpg\n"
     ]
    },
    {
     "data": {
      "text/html": [
       "<img src=\"http://pbs.twimg.com/media/CDnj9jkWgAAddGi.jpg\"/>"
      ],
      "text/plain": [
       "<IPython.core.display.Image object>"
      ]
     },
     "metadata": {},
     "output_type": "display_data"
    },
    {
     "name": "stdout",
     "output_type": "stream",
     "text": [
      "{\"_id\": 592519492200103936, \"count\": 2363}\n",
      "http://pbs.twimg.com/media/CDkNVdRWMAANVEr.jpg\n"
     ]
    },
    {
     "data": {
      "text/html": [
       "<img src=\"http://pbs.twimg.com/media/CDkNVdRWMAANVEr.jpg\"/>"
      ],
      "text/plain": [
       "<IPython.core.display.Image object>"
      ]
     },
     "metadata": {},
     "output_type": "display_data"
    },
    {
     "name": "stdout",
     "output_type": "stream",
     "text": [
      "{\"_id\": 591962067797712896, \"count\": 2321}\n",
      "None\n",
      "http://pbs.twimg.com/media/CDkNVdRWMAANVEr.jpg\n"
     ]
    },
    {
     "data": {
      "text/html": [
       "<img src=\"http://pbs.twimg.com/media/CDkNVdRWMAANVEr.jpg\"/>"
      ],
      "text/plain": [
       "<IPython.core.display.Image object>"
      ]
     },
     "metadata": {},
     "output_type": "display_data"
    },
    {
     "name": "stdout",
     "output_type": "stream",
     "text": [
      "{\"_id\": 597008123455361024, \"count\": 2316}\n",
      "http://pbs.twimg.com/media/CEj_rgdWMAEJN9C.jpg\n"
     ]
    },
    {
     "data": {
      "text/html": [
       "<img src=\"http://pbs.twimg.com/media/CEj_rgdWMAEJN9C.jpg\"/>"
      ],
      "text/plain": [
       "<IPython.core.display.Image object>"
      ]
     },
     "metadata": {},
     "output_type": "display_data"
    },
    {
     "name": "stdout",
     "output_type": "stream",
     "text": [
      "{\"_id\": 593168192186417152, \"count\": 2300}\n",
      "None\n",
      "http://pbs.twimg.com/media/CEj_rgdWMAEJN9C.jpg\n"
     ]
    },
    {
     "data": {
      "text/html": [
       "<img src=\"http://pbs.twimg.com/media/CEj_rgdWMAEJN9C.jpg\"/>"
      ],
      "text/plain": [
       "<IPython.core.display.Image object>"
      ]
     },
     "metadata": {},
     "output_type": "display_data"
    },
    {
     "name": "stdout",
     "output_type": "stream",
     "text": [
      "{\"_id\": 592148438436990976, \"count\": 2264}\n",
      "None\n",
      "http://pbs.twimg.com/media/CEj_rgdWMAEJN9C.jpg\n"
     ]
    },
    {
     "data": {
      "text/html": [
       "<img src=\"http://pbs.twimg.com/media/CEj_rgdWMAEJN9C.jpg\"/>"
      ],
      "text/plain": [
       "<IPython.core.display.Image object>"
      ]
     },
     "metadata": {},
     "output_type": "display_data"
    },
    {
     "name": "stdout",
     "output_type": "stream",
     "text": [
      "{\"_id\": 592186376424189953, \"count\": 2249}\n",
      "http://pbs.twimg.com/media/CDfeXykW8AAx4Ll.jpg\n"
     ]
    },
    {
     "data": {
      "text/html": [
       "<img src=\"http://pbs.twimg.com/media/CDfeXykW8AAx4Ll.jpg\"/>"
      ],
      "text/plain": [
       "<IPython.core.display.Image object>"
      ]
     },
     "metadata": {},
     "output_type": "display_data"
    },
    {
     "name": "stdout",
     "output_type": "stream",
     "text": [
      "{\"_id\": 591941496061964288, \"count\": 2208}\n",
      "None\n",
      "http://pbs.twimg.com/media/CDfeXykW8AAx4Ll.jpg\n"
     ]
    },
    {
     "data": {
      "text/html": [
       "<img src=\"http://pbs.twimg.com/media/CDfeXykW8AAx4Ll.jpg\"/>"
      ],
      "text/plain": [
       "<IPython.core.display.Image object>"
      ]
     },
     "metadata": {},
     "output_type": "display_data"
    },
    {
     "name": "stdout",
     "output_type": "stream",
     "text": [
      "{\"_id\": 592705508190068737, \"count\": 2090}\n",
      "None\n",
      "http://pbs.twimg.com/media/CDfeXykW8AAx4Ll.jpg\n"
     ]
    },
    {
     "data": {
      "text/html": [
       "<img src=\"http://pbs.twimg.com/media/CDfeXykW8AAx4Ll.jpg\"/>"
      ],
      "text/plain": [
       "<IPython.core.display.Image object>"
      ]
     },
     "metadata": {},
     "output_type": "display_data"
    },
    {
     "name": "stdout",
     "output_type": "stream",
     "text": [
      "{\"_id\": 592013533174493184, \"count\": 2087}\n",
      "None\n",
      "http://pbs.twimg.com/media/CDfeXykW8AAx4Ll.jpg\n"
     ]
    },
    {
     "data": {
      "text/html": [
       "<img src=\"http://pbs.twimg.com/media/CDfeXykW8AAx4Ll.jpg\"/>"
      ],
      "text/plain": [
       "<IPython.core.display.Image object>"
      ]
     },
     "metadata": {},
     "output_type": "display_data"
    },
    {
     "name": "stdout",
     "output_type": "stream",
     "text": [
      "{\"_id\": 594256698216349696, \"count\": 2052}\n",
      "http://pbs.twimg.com/media/CD85T3DUUAAERLu.jpg\n"
     ]
    },
    {
     "data": {
      "text/html": [
       "<img src=\"http://pbs.twimg.com/media/CD85T3DUUAAERLu.jpg\"/>"
      ],
      "text/plain": [
       "<IPython.core.display.Image object>"
      ]
     },
     "metadata": {},
     "output_type": "display_data"
    },
    {
     "name": "stdout",
     "output_type": "stream",
     "text": [
      "{\"_id\": 592155088979800064, \"count\": 2051}\n",
      "http://pbs.twimg.com/media/CDfB6g6UIAEW-FD.jpg\n"
     ]
    },
    {
     "data": {
      "text/html": [
       "<img src=\"http://pbs.twimg.com/media/CDfB6g6UIAEW-FD.jpg\"/>"
      ],
      "text/plain": [
       "<IPython.core.display.Image object>"
      ]
     },
     "metadata": {},
     "output_type": "display_data"
    },
    {
     "name": "stdout",
     "output_type": "stream",
     "text": [
      "{\"_id\": 591988203013341184, \"count\": 1982}\n",
      "http://pbs.twimg.com/media/CDcptrmUUAABIL1.jpg\n"
     ]
    },
    {
     "data": {
      "text/html": [
       "<img src=\"http://pbs.twimg.com/media/CDcptrmUUAABIL1.jpg\"/>"
      ],
      "text/plain": [
       "<IPython.core.display.Image object>"
      ]
     },
     "metadata": {},
     "output_type": "display_data"
    },
    {
     "name": "stdout",
     "output_type": "stream",
     "text": [
      "{\"_id\": 594975162769870848, \"count\": 1956}\n",
      "http://pbs.twimg.com/media/CEHGwg5UIAErEK0.jpg\n"
     ]
    },
    {
     "data": {
      "text/html": [
       "<img src=\"http://pbs.twimg.com/media/CEHGwg5UIAErEK0.jpg\"/>"
      ],
      "text/plain": [
       "<IPython.core.display.Image object>"
      ]
     },
     "metadata": {},
     "output_type": "display_data"
    }
   ],
   "source": [
    "start = datetime.datetime(2015, 4, 25, 0, 0, 0)\n",
    "end = datetime.datetime(2015, 5, 12, 0, 0, 0)\n",
    "\n",
    "most_tweeted_images = list(tweets.aggregate([\n",
    "    {\"$match\": {\n",
    "        \"entities.media.media_url\":{\"$exists\":True, \"$ne\": None},\n",
    "        \"retweeted_status\":{\"$exists\":True, \"$ne\": None},\n",
    "        \"created_at\": {'$gte': start, '$lt': end} \n",
    "    }},\n",
    "        \n",
    "    {\"$group\": { \n",
    "        \"_id\": '$retweeted_status.id',\n",
    "        \"count\": {\"$sum\": 1}\n",
    "    }},\n",
    "\n",
    "    {\"$sort\": {\n",
    "        \"count\": -1\n",
    "    }},\n",
    "\n",
    "    {\"$limit\": 50}\n",
    "]))\n",
    "\n",
    "for doc in most_tweeted_images:\n",
    "    print(json.dumps(doc))\n",
    "#     cursor = tweets.find({\"retweeted_status.id\":doc['_id']},{\"entities.media.media_url\":1}).limit(1)\n",
    "    # Find the original tweet\n",
    "    if tweets.find_one({\"id\":doc['_id']}) != None:\n",
    "        tweet = tweets.find_one({\"id\":doc['_id']})\n",
    "    else:\n",
    "        print(\"None\")\n",
    "    imgurl = tweet['entities']['media'][0]['media_url']\n",
    "    print(imgurl)\n",
    "    display(Image(url=str(imgurl)))"
   ]
  },
  {
   "cell_type": "code",
   "execution_count": 168,
   "metadata": {
    "collapsed": false
   },
   "outputs": [
    {
     "data": {
      "text/plain": [
       "3047563"
      ]
     },
     "execution_count": 168,
     "metadata": {},
     "output_type": "execute_result"
    }
   ],
   "source": [
    "# Count images in all tweets, tweets in Nepali, tweets in other languages, tweets geolocated in Nepal\n",
    "start = datetime.datetime(2015, 4, 25, 0, 0, 0)\n",
    "end = datetime.datetime(2015, 5, 12, 0, 0, 0)\n",
    "\n",
    "tweets.count({\"entities.media.media_url\":{\"$exists\": True, \"$ne\": None},\n",
    "              \"created_at\":{'$gte': start, '$lt': end}\n",
    "             })"
   ]
  },
  {
   "cell_type": "code",
   "execution_count": 169,
   "metadata": {
    "collapsed": false
   },
   "outputs": [
    {
     "data": {
      "text/plain": [
       "25513"
      ]
     },
     "execution_count": 169,
     "metadata": {},
     "output_type": "execute_result"
    }
   ],
   "source": [
    "tweets.count({\"entities.media.media_url\":{\"$exists\": True, \"$ne\": None},\n",
    "              \"created_at\":{'$gte': start, '$lt': end},\n",
    "              \"lang\":\"ne\"\n",
    "             })"
   ]
  },
  {
   "cell_type": "code",
   "execution_count": null,
   "metadata": {
    "collapsed": true
   },
   "outputs": [],
   "source": [
    "tweets.count({\"entities.media.media_url\":{\"$exists\": True, \"$ne\": None},\n",
    "              \"created_at\":{'$gte': start, '$lt': end},\n",
    "              \"lang\":{\"$ne\":\"ne\"}\n",
    "             })"
   ]
  },
  {
   "cell_type": "code",
   "execution_count": null,
   "metadata": {
    "collapsed": true
   },
   "outputs": [],
   "source": []
  }
 ],
 "metadata": {
  "kernelspec": {
   "display_name": "Python 3",
   "language": "python",
   "name": "python3"
  },
  "language_info": {
   "codemirror_mode": {
    "name": "ipython",
    "version": 3
   },
   "file_extension": ".py",
   "mimetype": "text/x-python",
   "name": "python",
   "nbconvert_exporter": "python",
   "pygments_lexer": "ipython3",
   "version": "3.5.1"
  }
 },
 "nbformat": 4,
 "nbformat_minor": 0
}
