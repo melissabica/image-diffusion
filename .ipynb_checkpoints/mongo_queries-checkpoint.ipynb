{
 "cells": [
  {
   "cell_type": "code",
   "execution_count": 218,
   "metadata": {
    "collapsed": false
   },
   "outputs": [],
   "source": [
    "import pymongo\n",
    "from pymongo import MongoClient\n",
    "from bson.code import Code\n",
    "import matplotlib.pyplot as plt\n",
    "import mpld3\n",
    "from pprint import pprint\n",
    "import json\n",
    "import datetime\n",
    "import time\n",
    "%matplotlib inline"
   ]
  },
  {
   "cell_type": "code",
   "execution_count": 35,
   "metadata": {
    "collapsed": false
   },
   "outputs": [],
   "source": [
    "client = MongoClient('mongodb://epic-analytics.cs.colorado.edu')"
   ]
  },
  {
   "cell_type": "code",
   "execution_count": 36,
   "metadata": {
    "collapsed": false
   },
   "outputs": [
    {
     "name": "stdout",
     "output_type": "stream",
     "text": [
      "['system.indexes', 'tweets', 'users', 'tweets_per_day', 'unique_langs']\n"
     ]
    },
    {
     "data": {
      "text/plain": [
       "24045885"
      ]
     },
     "execution_count": 36,
     "metadata": {},
     "output_type": "execute_result"
    }
   ],
   "source": [
    "db = client.nepal_earthquake\n",
    "print(db.collection_names())\n",
    "tweets = db.tweets\n",
    "users = db.users\n",
    "tweets_per_day = db.tweets_per_day\n",
    "tweets.count()"
   ]
  },
  {
   "cell_type": "code",
   "execution_count": 21,
   "metadata": {
    "collapsed": false
   },
   "outputs": [
    {
     "data": {
      "text/plain": [
       "6506081"
      ]
     },
     "execution_count": 21,
     "metadata": {},
     "output_type": "execute_result"
    }
   ],
   "source": [
    "# tweets.find({\"entities.media.media_url\":{$exists: True, \"$ne\": None}})\n",
    "tweets.count({\"entities.media.media_url\":{\"$exists\": True, \"$ne\": None}})"
   ]
  },
  {
   "cell_type": "code",
   "execution_count": 41,
   "metadata": {
    "collapsed": false
   },
   "outputs": [
    {
     "name": "stdout",
     "output_type": "stream",
     "text": [
      "SON([('v', 1), ('name', '_id_'), ('key', SON([('_id', 1)])), ('ns', 'nepal_earthquake.tweets')])\n",
      "SON([('v', 1), ('name', 'text_text'), ('key', SON([('_fts', 'text'), ('_ftsx', 1)])), ('ns', 'nepal_earthquake.tweets'), ('weights', SON([('text', 1)])), ('default_language', 'english'), ('language_override', 'language'), ('textIndexVersion', 1)])\n",
      "SON([('v', 1), ('name', 'coordinates_2dsphere'), ('key', SON([('coordinates', '2dsphere')])), ('ns', 'nepal_earthquake.tweets')])\n",
      "SON([('v', 1), ('name', 'created_at_1'), ('key', SON([('created_at', 1)])), ('ns', 'nepal_earthquake.tweets')])\n",
      "SON([('v', 1), ('name', 'id_1'), ('key', SON([('id', 1)])), ('ns', 'nepal_earthquake.tweets')])\n",
      "SON([('v', 1), ('name', 'retweet_count_1'), ('key', SON([('retweet_count', 1)])), ('ns', 'nepal_earthquake.tweets')])\n",
      "SON([('v', 1), ('name', 'user.created_at_1'), ('key', SON([('user.created_at', 1)])), ('ns', 'nepal_earthquake.tweets')])\n",
      "SON([('v', 1), ('name', 'user.id_1'), ('key', SON([('user.id', 1)])), ('ns', 'nepal_earthquake.tweets')])\n",
      "SON([('v', 1), ('name', 'user.screen_name_1'), ('key', SON([('user.screen_name', 1)])), ('ns', 'nepal_earthquake.tweets')])\n",
      "SON([('v', 1), ('name', 'retweeted_status.created_at_1'), ('key', SON([('retweeted_status.created_at', 1)])), ('ns', 'nepal_earthquake.tweets')])\n",
      "SON([('v', 1), ('name', 'retweeted_status.id_1'), ('key', SON([('retweeted_status.id', 1)])), ('ns', 'nepal_earthquake.tweets')])\n",
      "SON([('v', 1), ('name', 'retweeted_status.retweet_count_1'), ('key', SON([('retweeted_status.retweet_count', 1)])), ('ns', 'nepal_earthquake.tweets')])\n",
      "SON([('v', 1), ('name', 'retweeted_status.user.created_at_1'), ('key', SON([('retweeted_status.user.created_at', 1)])), ('ns', 'nepal_earthquake.tweets')])\n",
      "SON([('v', 1), ('name', 'retweeted_status.user.id_1'), ('key', SON([('retweeted_status.user.id', 1)])), ('ns', 'nepal_earthquake.tweets')])\n",
      "SON([('v', 1), ('name', 'retweeted_status.user.screen_name_1'), ('key', SON([('retweeted_status.user.screen_name', 1)])), ('ns', 'nepal_earthquake.tweets')])\n",
      "SON([('v', 1), ('name', 'lang_1'), ('key', SON([('lang', 1)])), ('ns', 'nepal_earthquake.tweets')])\n"
     ]
    }
   ],
   "source": [
    "for index in tweets.list_indexes():\n",
    "    print(index)"
   ]
  },
  {
   "cell_type": "code",
   "execution_count": 28,
   "metadata": {
    "collapsed": false
   },
   "outputs": [
    {
     "ename": "OperationFailure",
     "evalue": "command SON([('distinct', 'tweets'), ('key', 'retweeted_status.id')]) on namespace nepal_earthquake.$cmd failed: exception: distinct too big, 16mb cap",
     "output_type": "error",
     "traceback": [
      "\u001b[0;31m---------------------------------------------------------------------------\u001b[0m",
      "\u001b[0;31mOperationFailure\u001b[0m                          Traceback (most recent call last)",
      "\u001b[0;32m<ipython-input-28-19efc1f35d36>\u001b[0m in \u001b[0;36m<module>\u001b[0;34m()\u001b[0m\n\u001b[0;32m----> 1\u001b[0;31m \u001b[0mlen\u001b[0m\u001b[0;34m(\u001b[0m\u001b[0mtweets\u001b[0m\u001b[0;34m.\u001b[0m\u001b[0mdistinct\u001b[0m\u001b[0;34m(\u001b[0m\u001b[0;34m\"retweeted_status.id\"\u001b[0m\u001b[0;34m)\u001b[0m\u001b[0;34m)\u001b[0m\u001b[0;34m\u001b[0m\u001b[0m\n\u001b[0m",
      "\u001b[0;32m/usr/local/lib/python3.5/site-packages/pymongo/collection.py\u001b[0m in \u001b[0;36mdistinct\u001b[0;34m(self, key, filter, **kwargs)\u001b[0m\n\u001b[1;32m   1797\u001b[0m         \u001b[0;32mwith\u001b[0m \u001b[0mself\u001b[0m\u001b[0;34m.\u001b[0m\u001b[0m_socket_for_reads\u001b[0m\u001b[0;34m(\u001b[0m\u001b[0;34m)\u001b[0m \u001b[0;32mas\u001b[0m \u001b[0;34m(\u001b[0m\u001b[0msock_info\u001b[0m\u001b[0;34m,\u001b[0m \u001b[0mslave_ok\u001b[0m\u001b[0;34m)\u001b[0m\u001b[0;34m:\u001b[0m\u001b[0;34m\u001b[0m\u001b[0m\n\u001b[1;32m   1798\u001b[0m             return self._command(sock_info, cmd, slave_ok,\n\u001b[0;32m-> 1799\u001b[0;31m                                  read_concern=self.read_concern)[\"values\"]\n\u001b[0m\u001b[1;32m   1800\u001b[0m \u001b[0;34m\u001b[0m\u001b[0m\n\u001b[1;32m   1801\u001b[0m     \u001b[0;32mdef\u001b[0m \u001b[0mmap_reduce\u001b[0m\u001b[0;34m(\u001b[0m\u001b[0mself\u001b[0m\u001b[0;34m,\u001b[0m \u001b[0mmap\u001b[0m\u001b[0;34m,\u001b[0m \u001b[0mreduce\u001b[0m\u001b[0;34m,\u001b[0m \u001b[0mout\u001b[0m\u001b[0;34m,\u001b[0m \u001b[0mfull_response\u001b[0m\u001b[0;34m=\u001b[0m\u001b[0;32mFalse\u001b[0m\u001b[0;34m,\u001b[0m \u001b[0;34m**\u001b[0m\u001b[0mkwargs\u001b[0m\u001b[0;34m)\u001b[0m\u001b[0;34m:\u001b[0m\u001b[0;34m\u001b[0m\u001b[0m\n",
      "\u001b[0;32m/usr/local/lib/python3.5/site-packages/pymongo/collection.py\u001b[0m in \u001b[0;36m_command\u001b[0;34m(self, sock_info, command, slave_ok, read_preference, codec_options, check, allowable_errors, read_concern)\u001b[0m\n\u001b[1;32m    203\u001b[0m                                  \u001b[0mcheck\u001b[0m\u001b[0;34m,\u001b[0m\u001b[0;34m\u001b[0m\u001b[0m\n\u001b[1;32m    204\u001b[0m                                  \u001b[0mallowable_errors\u001b[0m\u001b[0;34m,\u001b[0m\u001b[0;34m\u001b[0m\u001b[0m\n\u001b[0;32m--> 205\u001b[0;31m                                  read_concern=read_concern)\n\u001b[0m\u001b[1;32m    206\u001b[0m \u001b[0;34m\u001b[0m\u001b[0m\n\u001b[1;32m    207\u001b[0m     \u001b[0;32mdef\u001b[0m \u001b[0m__create\u001b[0m\u001b[0;34m(\u001b[0m\u001b[0mself\u001b[0m\u001b[0;34m,\u001b[0m \u001b[0moptions\u001b[0m\u001b[0;34m)\u001b[0m\u001b[0;34m:\u001b[0m\u001b[0;34m\u001b[0m\u001b[0m\n",
      "\u001b[0;32m/usr/local/lib/python3.5/site-packages/pymongo/pool.py\u001b[0m in \u001b[0;36mcommand\u001b[0;34m(self, dbname, spec, slave_ok, read_preference, codec_options, check, allowable_errors, check_keys, read_concern)\u001b[0m\n\u001b[1;32m    211\u001b[0m                            \u001b[0mcheck\u001b[0m\u001b[0;34m,\u001b[0m \u001b[0mallowable_errors\u001b[0m\u001b[0;34m,\u001b[0m \u001b[0mself\u001b[0m\u001b[0;34m.\u001b[0m\u001b[0maddress\u001b[0m\u001b[0;34m,\u001b[0m\u001b[0;34m\u001b[0m\u001b[0m\n\u001b[1;32m    212\u001b[0m                            \u001b[0mcheck_keys\u001b[0m\u001b[0;34m,\u001b[0m \u001b[0mself\u001b[0m\u001b[0;34m.\u001b[0m\u001b[0mlisteners\u001b[0m\u001b[0;34m,\u001b[0m \u001b[0mself\u001b[0m\u001b[0;34m.\u001b[0m\u001b[0mmax_bson_size\u001b[0m\u001b[0;34m,\u001b[0m\u001b[0;34m\u001b[0m\u001b[0m\n\u001b[0;32m--> 213\u001b[0;31m                            read_concern)\n\u001b[0m\u001b[1;32m    214\u001b[0m         \u001b[0;32mexcept\u001b[0m \u001b[0mOperationFailure\u001b[0m\u001b[0;34m:\u001b[0m\u001b[0;34m\u001b[0m\u001b[0m\n\u001b[1;32m    215\u001b[0m             \u001b[0;32mraise\u001b[0m\u001b[0;34m\u001b[0m\u001b[0m\n",
      "\u001b[0;32m/usr/local/lib/python3.5/site-packages/pymongo/network.py\u001b[0m in \u001b[0;36mcommand\u001b[0;34m(sock, dbname, spec, slave_ok, is_mongos, read_preference, codec_options, check, allowable_errors, address, check_keys, listeners, max_bson_size, read_concern)\u001b[0m\n\u001b[1;32m     99\u001b[0m             msg = \"command %s on namespace %s failed: %%s\" % (\n\u001b[1;32m    100\u001b[0m                 repr(spec).replace(\"%\", \"%%\"), ns)\n\u001b[0;32m--> 101\u001b[0;31m             \u001b[0mhelpers\u001b[0m\u001b[0;34m.\u001b[0m\u001b[0m_check_command_response\u001b[0m\u001b[0;34m(\u001b[0m\u001b[0mresponse_doc\u001b[0m\u001b[0;34m,\u001b[0m \u001b[0mmsg\u001b[0m\u001b[0;34m,\u001b[0m \u001b[0mallowable_errors\u001b[0m\u001b[0;34m)\u001b[0m\u001b[0;34m\u001b[0m\u001b[0m\n\u001b[0m\u001b[1;32m    102\u001b[0m     \u001b[0;32mexcept\u001b[0m \u001b[0mException\u001b[0m \u001b[0;32mas\u001b[0m \u001b[0mexc\u001b[0m\u001b[0;34m:\u001b[0m\u001b[0;34m\u001b[0m\u001b[0m\n\u001b[1;32m    103\u001b[0m         \u001b[0;32mif\u001b[0m \u001b[0mpublish\u001b[0m\u001b[0;34m:\u001b[0m\u001b[0;34m\u001b[0m\u001b[0m\n",
      "\u001b[0;32m/usr/local/lib/python3.5/site-packages/pymongo/helpers.py\u001b[0m in \u001b[0;36m_check_command_response\u001b[0;34m(response, msg, allowable_errors)\u001b[0m\n\u001b[1;32m    194\u001b[0m \u001b[0;34m\u001b[0m\u001b[0m\n\u001b[1;32m    195\u001b[0m             \u001b[0mmsg\u001b[0m \u001b[0;34m=\u001b[0m \u001b[0mmsg\u001b[0m \u001b[0;32mor\u001b[0m \u001b[0;34m\"%s\"\u001b[0m\u001b[0;34m\u001b[0m\u001b[0m\n\u001b[0;32m--> 196\u001b[0;31m             \u001b[0;32mraise\u001b[0m \u001b[0mOperationFailure\u001b[0m\u001b[0;34m(\u001b[0m\u001b[0mmsg\u001b[0m \u001b[0;34m%\u001b[0m \u001b[0merrmsg\u001b[0m\u001b[0;34m,\u001b[0m \u001b[0mcode\u001b[0m\u001b[0;34m,\u001b[0m \u001b[0mresponse\u001b[0m\u001b[0;34m)\u001b[0m\u001b[0;34m\u001b[0m\u001b[0m\n\u001b[0m\u001b[1;32m    197\u001b[0m \u001b[0;34m\u001b[0m\u001b[0m\n\u001b[1;32m    198\u001b[0m \u001b[0;34m\u001b[0m\u001b[0m\n",
      "\u001b[0;31mOperationFailure\u001b[0m: command SON([('distinct', 'tweets'), ('key', 'retweeted_status.id')]) on namespace nepal_earthquake.$cmd failed: exception: distinct too big, 16mb cap"
     ]
    }
   ],
   "source": [
    "# len(tweets.distinct(\"retweeted_status.id\"))"
   ]
  },
  {
   "cell_type": "code",
   "execution_count": 40,
   "metadata": {
    "collapsed": false
   },
   "outputs": [
    {
     "data": {
      "text/plain": [
       "'lang_1'"
      ]
     },
     "execution_count": 40,
     "metadata": {},
     "output_type": "execute_result"
    }
   ],
   "source": [
    "# tweets.create_index([(\"lang\", pymongo.ASCENDING)])"
   ]
  },
  {
   "cell_type": "code",
   "execution_count": 50,
   "metadata": {
    "collapsed": false
   },
   "outputs": [],
   "source": [
    "cursor = tweets.aggregate([\n",
    "    {\"$group\": { \n",
    "        \"_id\": '$lang',\n",
    "        \"count\": {\"$sum\": 1}\n",
    "    }},\n",
    "\n",
    "    {\"$sort\": {\n",
    "        \"count\": -1\n",
    "    }},\n",
    "\n",
    "    {\"$limit\": 5}\n",
    "        \n",
    "#     {\"$project\": { \n",
    "#         \"language\": '$_id', \n",
    "#         \"count\": 1, \n",
    "#         \"_id\": 0 \n",
    "#     }} \n",
    "]);\n"
   ]
  },
  {
   "cell_type": "code",
   "execution_count": null,
   "metadata": {
    "collapsed": false
   },
   "outputs": [],
   "source": [
    "for document in cursor:\n",
    "    print(document)"
   ]
  },
  {
   "cell_type": "code",
   "execution_count": 157,
   "metadata": {
    "collapsed": false
   },
   "outputs": [
    {
     "ename": "KeyboardInterrupt",
     "evalue": "",
     "output_type": "error",
     "traceback": [
      "\u001b[0;31m---------------------------------------------------------------------------\u001b[0m",
      "\u001b[0;31mKeyboardInterrupt\u001b[0m                         Traceback (most recent call last)",
      "\u001b[0;32m<ipython-input-157-bf2fe6f18211>\u001b[0m in \u001b[0;36m<module>\u001b[0;34m()\u001b[0m\n\u001b[1;32m     14\u001b[0m         \u001b[0;34m\"language\"\u001b[0m\u001b[0;34m:\u001b[0m \u001b[0;34m'$_id'\u001b[0m\u001b[0;34m,\u001b[0m\u001b[0;34m\u001b[0m\u001b[0m\n\u001b[1;32m     15\u001b[0m         \u001b[0;34m\"count\"\u001b[0m\u001b[0;34m:\u001b[0m \u001b[0;36m1\u001b[0m\u001b[0;34m,\u001b[0m\u001b[0;34m\u001b[0m\u001b[0m\n\u001b[0;32m---> 16\u001b[0;31m         \u001b[0;34m\"_id\"\u001b[0m\u001b[0;34m:\u001b[0m \u001b[0;36m0\u001b[0m\u001b[0;34m\u001b[0m\u001b[0m\n\u001b[0m\u001b[1;32m     17\u001b[0m     }} \n\u001b[1;32m     18\u001b[0m ]);\n",
      "\u001b[0;32m/usr/local/lib/python3.5/site-packages/pymongo/collection.py\u001b[0m in \u001b[0;36maggregate\u001b[0;34m(self, pipeline, **kwargs)\u001b[0m\n\u001b[1;32m   1665\u001b[0m                                            read_concern=self.read_concern)\n\u001b[1;32m   1666\u001b[0m             \u001b[0;32melse\u001b[0m\u001b[0;34m:\u001b[0m\u001b[0;34m\u001b[0m\u001b[0m\n\u001b[0;32m-> 1667\u001b[0;31m                 \u001b[0mresult\u001b[0m \u001b[0;34m=\u001b[0m \u001b[0mself\u001b[0m\u001b[0;34m.\u001b[0m\u001b[0m_command\u001b[0m\u001b[0;34m(\u001b[0m\u001b[0msock_info\u001b[0m\u001b[0;34m,\u001b[0m \u001b[0mcmd\u001b[0m\u001b[0;34m,\u001b[0m \u001b[0mslave_ok\u001b[0m\u001b[0;34m)\u001b[0m\u001b[0;34m\u001b[0m\u001b[0m\n\u001b[0m\u001b[1;32m   1668\u001b[0m \u001b[0;34m\u001b[0m\u001b[0m\n\u001b[1;32m   1669\u001b[0m             \u001b[0;32mif\u001b[0m \u001b[0;34m\"cursor\"\u001b[0m \u001b[0;32min\u001b[0m \u001b[0mresult\u001b[0m\u001b[0;34m:\u001b[0m\u001b[0;34m\u001b[0m\u001b[0m\n",
      "\u001b[0;32m/usr/local/lib/python3.5/site-packages/pymongo/collection.py\u001b[0m in \u001b[0;36m_command\u001b[0;34m(self, sock_info, command, slave_ok, read_preference, codec_options, check, allowable_errors, read_concern)\u001b[0m\n\u001b[1;32m    203\u001b[0m                                  \u001b[0mcheck\u001b[0m\u001b[0;34m,\u001b[0m\u001b[0;34m\u001b[0m\u001b[0m\n\u001b[1;32m    204\u001b[0m                                  \u001b[0mallowable_errors\u001b[0m\u001b[0;34m,\u001b[0m\u001b[0;34m\u001b[0m\u001b[0m\n\u001b[0;32m--> 205\u001b[0;31m                                  read_concern=read_concern)\n\u001b[0m\u001b[1;32m    206\u001b[0m \u001b[0;34m\u001b[0m\u001b[0m\n\u001b[1;32m    207\u001b[0m     \u001b[0;32mdef\u001b[0m \u001b[0m__create\u001b[0m\u001b[0;34m(\u001b[0m\u001b[0mself\u001b[0m\u001b[0;34m,\u001b[0m \u001b[0moptions\u001b[0m\u001b[0;34m)\u001b[0m\u001b[0;34m:\u001b[0m\u001b[0;34m\u001b[0m\u001b[0m\n",
      "\u001b[0;32m/usr/local/lib/python3.5/site-packages/pymongo/pool.py\u001b[0m in \u001b[0;36mcommand\u001b[0;34m(self, dbname, spec, slave_ok, read_preference, codec_options, check, allowable_errors, check_keys, read_concern)\u001b[0m\n\u001b[1;32m    216\u001b[0m         \u001b[0;31m# Catch socket.error, KeyboardInterrupt, etc. and close ourselves.\u001b[0m\u001b[0;34m\u001b[0m\u001b[0;34m\u001b[0m\u001b[0m\n\u001b[1;32m    217\u001b[0m         \u001b[0;32mexcept\u001b[0m \u001b[0mBaseException\u001b[0m \u001b[0;32mas\u001b[0m \u001b[0merror\u001b[0m\u001b[0;34m:\u001b[0m\u001b[0;34m\u001b[0m\u001b[0m\n\u001b[0;32m--> 218\u001b[0;31m             \u001b[0mself\u001b[0m\u001b[0;34m.\u001b[0m\u001b[0m_raise_connection_failure\u001b[0m\u001b[0;34m(\u001b[0m\u001b[0merror\u001b[0m\u001b[0;34m)\u001b[0m\u001b[0;34m\u001b[0m\u001b[0m\n\u001b[0m\u001b[1;32m    219\u001b[0m \u001b[0;34m\u001b[0m\u001b[0m\n\u001b[1;32m    220\u001b[0m     \u001b[0;32mdef\u001b[0m \u001b[0msend_message\u001b[0m\u001b[0;34m(\u001b[0m\u001b[0mself\u001b[0m\u001b[0;34m,\u001b[0m \u001b[0mmessage\u001b[0m\u001b[0;34m,\u001b[0m \u001b[0mmax_doc_size\u001b[0m\u001b[0;34m)\u001b[0m\u001b[0;34m:\u001b[0m\u001b[0;34m\u001b[0m\u001b[0m\n",
      "\u001b[0;32m/usr/local/lib/python3.5/site-packages/pymongo/pool.py\u001b[0m in \u001b[0;36m_raise_connection_failure\u001b[0;34m(self, error)\u001b[0m\n\u001b[1;32m    344\u001b[0m             \u001b[0m_raise_connection_failure\u001b[0m\u001b[0;34m(\u001b[0m\u001b[0mself\u001b[0m\u001b[0;34m.\u001b[0m\u001b[0maddress\u001b[0m\u001b[0;34m,\u001b[0m \u001b[0merror\u001b[0m\u001b[0;34m)\u001b[0m\u001b[0;34m\u001b[0m\u001b[0m\n\u001b[1;32m    345\u001b[0m         \u001b[0;32melse\u001b[0m\u001b[0;34m:\u001b[0m\u001b[0;34m\u001b[0m\u001b[0m\n\u001b[0;32m--> 346\u001b[0;31m             \u001b[0;32mraise\u001b[0m \u001b[0merror\u001b[0m\u001b[0;34m\u001b[0m\u001b[0m\n\u001b[0m\u001b[1;32m    347\u001b[0m \u001b[0;34m\u001b[0m\u001b[0m\n\u001b[1;32m    348\u001b[0m     \u001b[0;32mdef\u001b[0m \u001b[0m__eq__\u001b[0m\u001b[0;34m(\u001b[0m\u001b[0mself\u001b[0m\u001b[0;34m,\u001b[0m \u001b[0mother\u001b[0m\u001b[0;34m)\u001b[0m\u001b[0;34m:\u001b[0m\u001b[0;34m\u001b[0m\u001b[0m\n",
      "\u001b[0;32m/usr/local/lib/python3.5/site-packages/pymongo/pool.py\u001b[0m in \u001b[0;36mcommand\u001b[0;34m(self, dbname, spec, slave_ok, read_preference, codec_options, check, allowable_errors, check_keys, read_concern)\u001b[0m\n\u001b[1;32m    211\u001b[0m                            \u001b[0mcheck\u001b[0m\u001b[0;34m,\u001b[0m \u001b[0mallowable_errors\u001b[0m\u001b[0;34m,\u001b[0m \u001b[0mself\u001b[0m\u001b[0;34m.\u001b[0m\u001b[0maddress\u001b[0m\u001b[0;34m,\u001b[0m\u001b[0;34m\u001b[0m\u001b[0m\n\u001b[1;32m    212\u001b[0m                            \u001b[0mcheck_keys\u001b[0m\u001b[0;34m,\u001b[0m \u001b[0mself\u001b[0m\u001b[0;34m.\u001b[0m\u001b[0mlisteners\u001b[0m\u001b[0;34m,\u001b[0m \u001b[0mself\u001b[0m\u001b[0;34m.\u001b[0m\u001b[0mmax_bson_size\u001b[0m\u001b[0;34m,\u001b[0m\u001b[0;34m\u001b[0m\u001b[0m\n\u001b[0;32m--> 213\u001b[0;31m                            read_concern)\n\u001b[0m\u001b[1;32m    214\u001b[0m         \u001b[0;32mexcept\u001b[0m \u001b[0mOperationFailure\u001b[0m\u001b[0;34m:\u001b[0m\u001b[0;34m\u001b[0m\u001b[0m\n\u001b[1;32m    215\u001b[0m             \u001b[0;32mraise\u001b[0m\u001b[0;34m\u001b[0m\u001b[0m\n",
      "\u001b[0;32m/usr/local/lib/python3.5/site-packages/pymongo/network.py\u001b[0m in \u001b[0;36mcommand\u001b[0;34m(sock, dbname, spec, slave_ok, is_mongos, read_preference, codec_options, check, allowable_errors, address, check_keys, listeners, max_bson_size, read_concern)\u001b[0m\n\u001b[1;32m     91\u001b[0m     \u001b[0;32mtry\u001b[0m\u001b[0;34m:\u001b[0m\u001b[0;34m\u001b[0m\u001b[0m\n\u001b[1;32m     92\u001b[0m         \u001b[0msock\u001b[0m\u001b[0;34m.\u001b[0m\u001b[0msendall\u001b[0m\u001b[0;34m(\u001b[0m\u001b[0mmsg\u001b[0m\u001b[0;34m)\u001b[0m\u001b[0;34m\u001b[0m\u001b[0m\n\u001b[0;32m---> 93\u001b[0;31m         \u001b[0mresponse\u001b[0m \u001b[0;34m=\u001b[0m \u001b[0mreceive_message\u001b[0m\u001b[0;34m(\u001b[0m\u001b[0msock\u001b[0m\u001b[0;34m,\u001b[0m \u001b[0;36m1\u001b[0m\u001b[0;34m,\u001b[0m \u001b[0mrequest_id\u001b[0m\u001b[0;34m)\u001b[0m\u001b[0;34m\u001b[0m\u001b[0m\n\u001b[0m\u001b[1;32m     94\u001b[0m         unpacked = helpers._unpack_response(\n\u001b[1;32m     95\u001b[0m             response, codec_options=codec_options)\n",
      "\u001b[0;32m/usr/local/lib/python3.5/site-packages/pymongo/network.py\u001b[0m in \u001b[0;36mreceive_message\u001b[0;34m(sock, operation, request_id, max_message_size)\u001b[0m\n\u001b[1;32m    120\u001b[0m         sock, operation, request_id, max_message_size=MAX_MESSAGE_SIZE):\n\u001b[1;32m    121\u001b[0m     \u001b[0;34m\"\"\"Receive a raw BSON message or raise socket.error.\"\"\"\u001b[0m\u001b[0;34m\u001b[0m\u001b[0m\n\u001b[0;32m--> 122\u001b[0;31m     \u001b[0mheader\u001b[0m \u001b[0;34m=\u001b[0m \u001b[0m_receive_data_on_socket\u001b[0m\u001b[0;34m(\u001b[0m\u001b[0msock\u001b[0m\u001b[0;34m,\u001b[0m \u001b[0;36m16\u001b[0m\u001b[0;34m)\u001b[0m\u001b[0;34m\u001b[0m\u001b[0m\n\u001b[0m\u001b[1;32m    123\u001b[0m     \u001b[0mlength\u001b[0m \u001b[0;34m=\u001b[0m \u001b[0m_UNPACK_INT\u001b[0m\u001b[0;34m(\u001b[0m\u001b[0mheader\u001b[0m\u001b[0;34m[\u001b[0m\u001b[0;34m:\u001b[0m\u001b[0;36m4\u001b[0m\u001b[0;34m]\u001b[0m\u001b[0;34m)\u001b[0m\u001b[0;34m[\u001b[0m\u001b[0;36m0\u001b[0m\u001b[0;34m]\u001b[0m\u001b[0;34m\u001b[0m\u001b[0m\n\u001b[1;32m    124\u001b[0m \u001b[0;34m\u001b[0m\u001b[0m\n",
      "\u001b[0;32m/usr/local/lib/python3.5/site-packages/pymongo/network.py\u001b[0m in \u001b[0;36m_receive_data_on_socket\u001b[0;34m(sock, length)\u001b[0m\n\u001b[1;32m    147\u001b[0m     \u001b[0;32mwhile\u001b[0m \u001b[0mlength\u001b[0m\u001b[0;34m:\u001b[0m\u001b[0;34m\u001b[0m\u001b[0m\n\u001b[1;32m    148\u001b[0m         \u001b[0;32mtry\u001b[0m\u001b[0;34m:\u001b[0m\u001b[0;34m\u001b[0m\u001b[0m\n\u001b[0;32m--> 149\u001b[0;31m             \u001b[0mchunk\u001b[0m \u001b[0;34m=\u001b[0m \u001b[0msock\u001b[0m\u001b[0;34m.\u001b[0m\u001b[0mrecv\u001b[0m\u001b[0;34m(\u001b[0m\u001b[0mlength\u001b[0m\u001b[0;34m)\u001b[0m\u001b[0;34m\u001b[0m\u001b[0m\n\u001b[0m\u001b[1;32m    150\u001b[0m         \u001b[0;32mexcept\u001b[0m \u001b[0;34m(\u001b[0m\u001b[0mIOError\u001b[0m\u001b[0;34m,\u001b[0m \u001b[0mOSError\u001b[0m\u001b[0;34m)\u001b[0m \u001b[0;32mas\u001b[0m \u001b[0mexc\u001b[0m\u001b[0;34m:\u001b[0m\u001b[0;34m\u001b[0m\u001b[0m\n\u001b[1;32m    151\u001b[0m             \u001b[0merr\u001b[0m \u001b[0;34m=\u001b[0m \u001b[0;32mNone\u001b[0m\u001b[0;34m\u001b[0m\u001b[0m\n",
      "\u001b[0;31mKeyboardInterrupt\u001b[0m: "
     ]
    }
   ],
   "source": [
    "cursor = tweets.aggregate([\n",
    "    {\"$group\": { \n",
    "        \"_id\": '$lang',\n",
    "        \"count\": {\"$sum\": 1}\n",
    "    }},\n",
    "\n",
    "    {\"$sort\": {\n",
    "        \"count\": -1\n",
    "    }},\n",
    "\n",
    "    {\"$limit\": 10},\n",
    "        \n",
    "    {\"$project\": { \n",
    "        \"language\": '$_id', \n",
    "        \"count\": 1, \n",
    "        \"_id\": 0 \n",
    "    }} \n",
    "]);"
   ]
  },
  {
   "cell_type": "code",
   "execution_count": 53,
   "metadata": {
    "collapsed": false
   },
   "outputs": [
    {
     "name": "stdout",
     "output_type": "stream",
     "text": [
      "{'language': 'en', 'count': 14306366}\n",
      "{'language': 'es', 'count': 2565572}\n",
      "{'language': 'ne', 'count': 2048740}\n",
      "{'language': 'in', 'count': 1227791}\n",
      "{'language': 'hi', 'count': 1002601}\n",
      "{'language': 'pt', 'count': 357889}\n",
      "{'language': 'und', 'count': 343722}\n",
      "{'language': 'tr', 'count': 330670}\n",
      "{'language': 'fr', 'count': 266066}\n",
      "{'language': 'it', 'count': 210453}\n"
     ]
    }
   ],
   "source": [
    "for document in cursor:\n",
    "    print(document)"
   ]
  },
  {
   "cell_type": "code",
   "execution_count": 44,
   "metadata": {
    "collapsed": false
   },
   "outputs": [
    {
     "name": "stdout",
     "output_type": "stream",
     "text": [
      "[('c', 'b'), ('c', 'd'), ('c', 'a'), ('b', 'd'), ('b', 'a'), ('d', 'a')]\n"
     ]
    }
   ],
   "source": [
    "import itertools\n",
    "mydict = {\"a\":1, \"b\":2, \"c\":3, \"d\":4}\n",
    "print(list(itertools.combinations(mydict,2)))\n"
   ]
  },
  {
   "cell_type": "code",
   "execution_count": null,
   "metadata": {
    "collapsed": true
   },
   "outputs": [],
   "source": [
    "# Find all tweets that have more than 10000 occurrences (retweets)\n",
    "tweets.aggregate([ \n",
    "    {\"$group\": { \n",
    "        \"_id\": 'retweeted_status.id_str', \n",
    "        \"count\": {\"$sum\": 1} \n",
    "    }}, \n",
    "\n",
    "    {\"$match\": { \n",
    "        \"count\": {\"$gt\": 10000 } \n",
    "    }}, \n",
    "\n",
    "    {\"$sort\": { \n",
    "        \"count\": -1 \n",
    "    }} \n",
    "]);"
   ]
  },
  {
   "cell_type": "markdown",
   "metadata": {},
   "source": [
    "Output all coordinates from geotagged tweets"
   ]
  },
  {
   "cell_type": "code",
   "execution_count": 124,
   "metadata": {
    "collapsed": false
   },
   "outputs": [],
   "source": [
    "cursor = tweets.find(\n",
    "    {\"coordinates\":{\"$exists\":True, \"$ne\":None}},\n",
    "    {\"coordinates\":1, \"text\":1, \"_id\":0}\n",
    ")"
   ]
  },
  {
   "cell_type": "code",
   "execution_count": 125,
   "metadata": {
    "collapsed": false
   },
   "outputs": [
    {
     "name": "stdout",
     "output_type": "stream",
     "text": [
      "('{\"coordinates\": {\"type\": \"Point\", \"coordinates\": [-84.225359, 42.126281]}, '\n",
      " '\"text\": \"8 dead in Mount Everest avalanche after Nepal quake '\n",
      " 'http://t.co/75gr58DAoL | How angry IS Chomolungma? #Everest2015\"}')\n",
      "('{\"coordinates\": {\"type\": \"Point\", \"coordinates\": [-122.443768, 37.455051]}, '\n",
      " '\"text\": \"Is there anything we can DO for #NepalEarthquake apart from '\n",
      " 'donations? https://t.co/CkWDnaHztt\"}')\n",
      "('{\"coordinates\": {\"type\": \"Point\", \"coordinates\": [39.552854, 24.483257]}, '\n",
      " '\"text\": \"Before and After of #NepalEarthquake. Pray for #Nepal. #NepalQuake '\n",
      " '#Earthquake http://t.co/g4ab3d3Ama\"}')\n",
      "('{\"coordinates\": {\"type\": \"Point\", \"coordinates\": [16.351196, 48.227556]}, '\n",
      " '\"text\": \"Tweeting from #Everest - #Nepal #NepalEarthquake #NepalQuake  '\n",
      " 'https://t.co/9xXU7bjoJc\"}')\n",
      "('{\"coordinates\": {\"type\": \"Point\", \"coordinates\": [37.9039, -0.0244]}, '\n",
      " '\"text\": \"1. #TalkingNerea\\\\n2. #NepalEarthquake\\\\n3. #FashionWatch\\\\n4. '\n",
      " 'Bruce Jenner\\\\n5. #TheSomaliaYouNeverHearAbout\\\\n\\\\n2015/4/26 01:16 EAT\"}')\n",
      "('{\"coordinates\": {\"type\": \"Point\", \"coordinates\": [11.86905, 45.411531]}, '\n",
      " '\"text\": \"Molto preoccupato per il #Nepal. I miei vicini di casa arrivano da '\n",
      " 'l\\\\u00e0 e non hanno notizie dei parenti. #prayfornepal #NepalEarthquake\"}')\n",
      "('{\"coordinates\": {\"type\": \"Point\", \"coordinates\": [-118.259246, 34.119953]}, '\n",
      " '\"text\": \".Rest In Peace Dan Fredinburg..... #GoogleExec #NepalEarthQuake '\n",
      " 'http://t.co/H4HH1xJXim\"}')\n",
      "('{\"coordinates\": {\"type\": \"Point\", \"coordinates\": [138.646779, -34.792599]}, '\n",
      " '\"text\": \"Actor @hugh_sheridan confirms brother Zachary is missing after '\n",
      " '#NepalEarthquake. 20y/o is from #Adelaide @9NewsAdel @9NewsAUS #9newscomau\"}')\n",
      "('{\"coordinates\": {\"type\": \"Point\", \"coordinates\": [106.768166, -6.273878]}, '\n",
      " '\"text\": \"Turut berduka cita atas gempa yg terjadi di Nepal '\n",
      " '\\\\n#NepalEarthquake\"}')\n",
      "('{\"coordinates\": {\"type\": \"Point\", \"coordinates\": [-77.425022, 38.889141]}, '\n",
      " '\"text\": \"People ! Please donate through legitimate organization only for '\n",
      " '#NepalEarthquake! Stay alert with scam ! #nepal #usa\"}')\n",
      "('{\"coordinates\": {\"type\": \"Point\", \"coordinates\": [174.703528, -36.774477]}, '\n",
      " '\"text\": \"Devastating #earthquake in #Nepal. Prayers with all those affected. '\n",
      " 'Please help and support generously. #NepalEarthquake\"}')\n"
     ]
    }
   ],
   "source": [
    "# print(cursor.count())\n",
    "count = 0\n",
    "for doc in cursor:\n",
    "    if count > 10:\n",
    "        break\n",
    "#     print(type(doc))\n",
    "    pprint(json.dumps(doc))\n",
    "#     pprint(doc)\n",
    "    count += 1"
   ]
  },
  {
   "cell_type": "markdown",
   "metadata": {},
   "source": [
    "### Find all tweets geotagged \"near\" Kathmandu (27.717618, 85.324931), with images"
   ]
  },
  {
   "cell_type": "code",
   "execution_count": 178,
   "metadata": {
    "collapsed": false
   },
   "outputs": [
    {
     "name": "stdout",
     "output_type": "stream",
     "text": [
      "{'coordinates': {'coordinates': [85.323939, 27.717796], 'type': 'Point'},\n",
      " 'entities': {'media': [{'media_url': 'http://pbs.twimg.com/media/CEKIMjwUEAA-Q48.jpg'}]},\n",
      " 'text': 'IndianMedia showsIndia is the only country to help Nepal at '\n",
      "         'thisEarthquakeBtCouldnt be even inTop14#GoHomeIndianMedia '\n",
      "         'http://t.co/H6Buv0jHkU',\n",
      " 'user': {'location': ''}}\n",
      "{'coordinates': {'coordinates': [85.323961, 27.717245], 'type': 'Point'},\n",
      " 'entities': {'media': [{'media_url': 'http://pbs.twimg.com/media/CM2Kmc2UwAIqpuv.jpg'}]},\n",
      " 'text': '@landward_rsrch is now in Nepal! Kenneth Aitchison will be in '\n",
      "         'Kathmandu for 3 years contact details unchanged '\n",
      "         'http://t.co/FKHwCKGEiw',\n",
      " 'user': {'location': 'London'}}\n",
      "{'coordinates': {'coordinates': [85.32396, 27.717245], 'type': 'Point'},\n",
      " 'entities': {'media': [{'media_url': 'http://pbs.twimg.com/media/CMjTEYEVEAA7kMC.jpg'}]},\n",
      " 'text': 'Keepings of Kathmandu https://t.co/Hy7Qoa3Vo1 http://t.co/fr5eqdwIfC',\n",
      " 'user': {'location': 'Earth'}}\n",
      "{'coordinates': {'coordinates': [85.323577, 27.718926], 'type': 'Point'},\n",
      " 'entities': {'media': [{'media_url': 'http://pbs.twimg.com/media/CD-SyKSUEAEYm8l.jpg'}]},\n",
      " 'text': 'Gaidakot Jaycees (JCI) distributing relief materials to quake '\n",
      "         'stricken people of Dhading,Jeewanpur. http://t.co/x8NK9Dv3Gr',\n",
      " 'user': {'location': 'Kathmandu'}}\n",
      "{'coordinates': {'coordinates': [85.323381, 27.719086], 'type': 'Point'},\n",
      " 'entities': {'media': [{'media_url': 'http://pbs.twimg.com/media/CH9055MUkAAIKaj.jpg'}]},\n",
      " 'text': 'Shared the vast potentiality of mining industry with excom members '\n",
      "         'of Nepal Gem&amp;Jewellers Association today. http://t.co/zrizBnX6NJ',\n",
      " 'user': {'location': 'Kathmandu'}}\n",
      "{'coordinates': {'coordinates': [85.323562, 27.719364], 'type': 'Point'},\n",
      " 'entities': {'media': [{'media_url': 'http://pbs.twimg.com/media/CHbSrIXUsAA5bjW.jpg'}]},\n",
      " 'text': \"Fantastic view of my favorite legendary Fewa Lake from Karna's \"\n",
      "         'Waterfront, Pokhara. http://t.co/BAITnL20T1',\n",
      " 'user': {'location': 'Kathmandu'}}\n",
      "{'coordinates': {'coordinates': [85.322449, 27.717897], 'type': 'Point'},\n",
      " 'entities': {'media': [{'media_url': 'http://pbs.twimg.com/media/CE4mA5sUUAIV9F9.jpg'}]},\n",
      " 'text': \"Naxal's Nandakishore park is again filled with folks seeking safer \"\n",
      "         \"shelter after yesterday's powerful aftershock. \"\n",
      "         'http://t.co/ZQhFFRHGm2',\n",
      " 'user': {'location': 'Kathmandu + New York'}}\n",
      "{'coordinates': {'coordinates': [85.322433, 27.717947], 'type': 'Point'},\n",
      " 'entities': {'media': [{'media_url': 'http://pbs.twimg.com/media/CE4kjfWVEAEB_D9.jpg'}]},\n",
      " 'text': 'South Tudhikhel dotted w/ fresh #Chinese tents for ystrdays &gt;7M '\n",
      "         \"aftershock IDPs. Best temp shelter I've seen yet. \"\n",
      "         'http://t.co/XOkWOcFtzF',\n",
      " 'user': {'location': 'Kathmandu + New York'}}\n",
      "{'coordinates': {'coordinates': [85.322381, 27.717874], 'type': 'Point'},\n",
      " 'entities': {'media': [{'media_url': 'http://pbs.twimg.com/media/CE4k8qtUkAAasYy.jpg'}]},\n",
      " 'text': 'A man scrapes barren Tudhikhel inside his tent for more even, '\n",
      "         'comfortable indefinite stay after yesterdays aftershock '\n",
      "         'http://t.co/lO5WY7bbsE',\n",
      " 'user': {'location': 'Kathmandu + New York'}}\n",
      "{'coordinates': {'coordinates': [85.32234, 27.717944], 'type': 'Point'},\n",
      " 'entities': {'media': [{'media_url': 'http://pbs.twimg.com/media/CE4lskwVAAECWuJ.jpg'}]},\n",
      " 'text': 'Why arent these #Chinese tents avail for all April 25 quake May 12 '\n",
      "         'aftershock IDPs? (as we tweak misc prefab options) '\n",
      "         'http://t.co/OoColkoWfN',\n",
      " 'user': {'location': 'Kathmandu + New York'}}\n",
      "{'coordinates': {'coordinates': [85.321921, 27.717977], 'type': 'Point'},\n",
      " 'entities': {'media': [{'media_url': 'http://pbs.twimg.com/media/CE4jADzUEAEyffB.jpg'}]},\n",
      " 'text': \"Children at play in Tudhikhel, 1 of KTM's bigger quake relief site. \"\n",
      "         'Amazing spirit even after ystrdays big aftershock '\n",
      "         'http://t.co/bOfPqUjBj0',\n",
      " 'user': {'location': 'Kathmandu + New York'}}\n",
      "{'coordinates': {'coordinates': [85.325205, 27.714934], 'type': 'Point'},\n",
      " 'entities': {'media': [{'media_url': 'http://pbs.twimg.com/media/CDghgrjUsAEXeRw.jpg'}]},\n",
      " 'text': 'Shelter... #EarthQuake #Nepal #Panic http://t.co/YtJ1e17ca7',\n",
      " 'user': {'location': 'Everything from Everywhere'}}\n",
      "{'coordinates': {'coordinates': [85.32810688, 27.7179911], 'type': 'Point'},\n",
      " 'entities': {'media': [{'media_url': 'http://pbs.twimg.com/media/CRcd_sKVAAA_l_t.jpg'}]},\n",
      " 'text': 'Too good, #foodgasm (@ Tama in Kathmandu, Central Region w/ '\n",
      "         '@jazzyishu) https://t.co/djQcAuYdk3 http://t.co/ICo1Hrkrjx',\n",
      " 'user': {'location': 'Mt.Everest'}}\n",
      "{'coordinates': {'coordinates': [85.325169, 27.714619], 'type': 'Point'},\n",
      " 'entities': {'media': [{'media_url': 'http://pbs.twimg.com/media/CDhMS67UkAA-RpS.jpg'}]},\n",
      " 'text': 'Naksal #Kathmandu #EarthQuake #Shelter http://t.co/kI5DYxFXcJ',\n",
      " 'user': {'location': 'Everything from Everywhere'}}\n",
      "{'coordinates': {'coordinates': [85.321763, 27.719467], 'type': 'Point'},\n",
      " 'entities': {'media': [{'media_url': 'http://pbs.twimg.com/media/CDnnjvSWoAEvyXE.jpg'}]},\n",
      " 'text': 'Turkish Humanitarian Assistance in #Kathmandu #Nepal @TurkKizilayi '\n",
      "         '@afadbaskanlik @TK_TR @saglikbakanligi http://t.co/CHwJQbPYf9',\n",
      " 'user': {'location': 'Islamabad'}}\n",
      "{'coordinates': {'coordinates': [85.321106, 27.718232], 'type': 'Point'},\n",
      " 'entities': {'media': [{'media_url': 'http://pbs.twimg.com/media/CK62IijW8AAGvF1.jpg'}]},\n",
      " 'text': \"I'm at Tukuche Thakali Kitchen in Kathmandu, Central Region \"\n",
      "         'https://t.co/84bD60svxH http://t.co/5bsuSeOMa6',\n",
      " 'user': {'location': 'In the cloud.'}}\n",
      "{'coordinates': {'coordinates': [85.321606, 27.719426], 'type': 'Point'},\n",
      " 'entities': {'media': [{'media_url': 'http://pbs.twimg.com/media/CLz0aiCWUAEb2tT.jpg'}]},\n",
      " 'text': \"I'm at Manaslu Hotel in Kathmandu, Central Region \"\n",
      "         'https://t.co/pyTPIwQrvt http://t.co/TQkL1NldgC',\n",
      " 'user': {'location': ''}}\n",
      "{'coordinates': {'coordinates': [85.321566, 27.719488], 'type': 'Point'},\n",
      " 'entities': {'media': [{'media_url': 'http://pbs.twimg.com/media/CDlxMx8UUAIFIOC.jpg'}]},\n",
      " 'text': \"24 Saat Gecmeden Kizilay yardimlarini Kathmandu'ya ulastrdk. #Nepal \"\n",
      "         \"de ölü sayısı 2000'i geçti #NepalYaz2868 e gonder \"\n",
      "         'http://t.co/GF6SoZrQWu',\n",
      " 'user': {'location': 'Islamabad'}}\n",
      "{'coordinates': {'coordinates': [85.321478, 27.720188], 'type': 'Point'},\n",
      " 'entities': {'media': [{'media_url': 'http://pbs.twimg.com/media/CD_bMfGVEAA8Wa6.jpg'}]},\n",
      " 'text': 'Life is little by little going back to normal in Katmandu '\n",
      "         '#IRPFellows @IRPChirps http://t.co/XJx16dIcJL',\n",
      " 'user': {'location': 'Brasília'}}\n",
      "{'coordinates': {'coordinates': [85.321434, 27.720256], 'type': 'Point'},\n",
      " 'entities': {'media': [{'media_url': 'http://pbs.twimg.com/media/CHWij_IVAAAZb2f.jpg'}]},\n",
      " 'text': \"In preparation of the International Conference on Nepal's \"\n",
      "         'Reconstruction, Towards Resilience, 25 June 2015 '\n",
      "         'http://t.co/yhRm81QJS7',\n",
      " 'user': {'location': 'Kathmandu, Nepal'}}\n",
      "{'coordinates': {'coordinates': [85.32057, 27.718979], 'type': 'Point'},\n",
      " 'entities': {'media': [{'media_url': 'http://pbs.twimg.com/media/CMsHBEsWwAArf9Q.jpg'}]},\n",
      " 'text': 'तीन एकान्त @Ghiyub @sewa_ditee (@ The Theatre Village in Kathmandu) '\n",
      "         'https://t.co/oCxHwbdkjH http://t.co/kAqb83hBqb',\n",
      " 'user': {'location': 'Nepal'}}\n",
      "{'coordinates': {'coordinates': [85.327188, 27.721206], 'type': 'Point'},\n",
      " 'entities': {'media': [{'media_url': 'http://pbs.twimg.com/media/CLocXcjWgAEtfIU.jpg'}]},\n",
      " 'text': \"I'm at Ringmo Restaurant &amp; Bar in Kathmandu \"\n",
      "         'https://t.co/ltMyg5UuKu http://t.co/rSNGJmYYfg',\n",
      " 'user': {'location': 'ktm'}}\n",
      "{'coordinates': {'coordinates': [85.3212645, 27.7201652], 'type': 'Point'},\n",
      " 'entities': {'media': [{'media_url': 'http://pbs.twimg.com/media/CWK2zsKUkAAKzZc.jpg'}]},\n",
      " 'text': 'Program in progress: Discourse on \"Translating Universal Health '\n",
      "         'Coverage into Action in Nepal\" https://t.co/MK0moUVt4x',\n",
      " 'user': {'location': 'Kathmandu'}}\n",
      "{'coordinates': {'coordinates': [85.32099196, 27.71996332], 'type': 'Point'},\n",
      " 'entities': {'media': [{'media_url': 'http://pbs.twimg.com/media/CaVOAUuUEAAkOJc.jpg'}]},\n",
      " 'text': 'What a long journey ! Safe and sound in Kathmandu ! '\n",
      "         'https://t.co/CPscpjtmSh',\n",
      " 'user': {'location': 'cronulla'}}\n",
      "{'coordinates': {'coordinates': [85.321135, 27.720253], 'type': 'Point'},\n",
      " 'entities': {'media': [{'media_url': 'http://pbs.twimg.com/media/CD_cCndVAAAH1Li.jpg'}]},\n",
      " 'text': 'Trying to go back to normal in Katmandu. #IRPFellows @IRPChirps '\n",
      "         'http://t.co/nXH1fPmXhA',\n",
      " 'user': {'location': 'Brasília'}}\n",
      "{'coordinates': {'coordinates': [85.321088, 27.720209], 'type': 'Point'},\n",
      " 'entities': {'media': [{'media_url': 'http://pbs.twimg.com/media/CEGXORBVEAAfsBP.jpg'}]},\n",
      " 'text': 'Made it to Nepal. http://t.co/E92oqHZEsu',\n",
      " 'user': {'location': 'New York'}}\n",
      "{'coordinates': {'coordinates': [85.32200623, 27.72108459], 'type': 'Point'},\n",
      " 'entities': {'media': [{'media_url': 'http://pbs.twimg.com/media/CYMmNOuWMAEU5gu.jpg'}]},\n",
      " 'text': 'Mt Ama Dablam Nepal https://t.co/LmeE6A4bzR',\n",
      " 'user': {'location': 'Nepal'}}\n",
      "{'coordinates': {'coordinates': [85.320904, 27.72021], 'type': 'Point'},\n",
      " 'entities': {'media': [{'media_url': 'http://pbs.twimg.com/media/CFmlEMBUIAAfNtz.jpg'}]},\n",
      " 'text': \"Nepal you are one of the most amazing countries I've ever been to. \"\n",
      "         'God bless everyone here. #Nepal #Vengeance http://t.co/SEi9uzGwxR',\n",
      " 'user': {'location': 'New York'}}\n",
      "{'coordinates': {'coordinates': [85.324378, 27.722002], 'type': 'Point'},\n",
      " 'entities': {'media': [{'media_url': 'http://pbs.twimg.com/media/CD0k1NPUkAAxMK5.jpg'}]},\n",
      " 'text': 'Pray for Nepal! http://t.co/c34A60feb2',\n",
      " 'user': {'location': 'Nepal,Kathmandu'}}\n",
      "{'coordinates': {'coordinates': [85.320787, 27.720069], 'type': 'Point'},\n",
      " 'entities': {'media': [{'media_url': 'http://pbs.twimg.com/media/CD807NdVEAAwGvk.jpg'}]},\n",
      " 'text': 'A camiseta da seleção brasileira (ainda) está em todo lugar. Menina '\n",
      "         'na fila da comida em um acampamento em Katmandu. '\n",
      "         'http://t.co/R15SsCym9G',\n",
      " 'user': {'location': 'Brasília'}}\n",
      "{'coordinates': {'coordinates': [85.320924, 27.720255], 'type': 'Point'},\n",
      " 'entities': {'media': [{'media_url': 'http://pbs.twimg.com/media/CNAqXWyUYAAZv4i.jpg'}]},\n",
      " 'text': 'Three hints of why I am happy in #Kathmandu? Want to guess? '\n",
      "         '#dietcokepower @EmersonCollege chocolates for Ambassador '\n",
      "         'http://t.co/KbLZ9LAMbc',\n",
      " 'user': {'location': 'Boston, Laguna, Rosarito'}}\n",
      "{'coordinates': {'coordinates': [85.320888, 27.720266], 'type': 'Point'},\n",
      " 'entities': {'media': [{'media_url': 'http://pbs.twimg.com/media/CNNRb6dVEAAxcV-.jpg'}]},\n",
      " 'text': '#IncessantRain’s Red Panda credible spokesperson #crisis comm '\n",
      "         'earthquake project #Nepal @emersoncollege http://t.co/69kTWaV1s4',\n",
      " 'user': {'location': 'Boston, Laguna, Rosarito'}}\n",
      "{'coordinates': {'coordinates': [85.320925, 27.72035], 'type': 'Point'},\n",
      " 'entities': {'media': [{'media_url': 'http://pbs.twimg.com/media/CESYelWWYAAf7oJ.jpg'}]},\n",
      " 'text': 'I am so in love with this place!! #Nepal http://t.co/kpiUN5Kq5O',\n",
      " 'user': {'location': 'New York'}}\n",
      "{'coordinates': {'coordinates': [85.32077008, 27.72060986], 'type': 'Point'},\n",
      " 'entities': {'media': [{'media_url': 'http://pbs.twimg.com/media/CVcBLDLWEAAvQs3.jpg'}]},\n",
      " 'text': 'Great bit of international surveying with WYG - Kathmandu Nepal 👍 '\n",
      "         'https://t.co/jJbcRj5eKT',\n",
      " 'user': {'location': None}}\n",
      "{'coordinates': {'coordinates': [85.320511, 27.720444], 'type': 'Point'},\n",
      " 'entities': {'media': [{'media_url': 'http://pbs.twimg.com/media/CM-wzU5UcAAOPlV.jpg'}]},\n",
      " 'text': 'Arrived in #Nepal #publicdiplomacy #crisiscomm project '\n",
      "         '@EC_CommStudies @EmersonCollege @StateDept http://t.co/hR8SXviKo6',\n",
      " 'user': {'location': 'Boston, Laguna, Rosarito'}}\n",
      "{'coordinates': {'coordinates': [85.32201105, 27.72198817], 'type': 'Point'},\n",
      " 'entities': {'media': [{'media_url': 'http://pbs.twimg.com/media/CWuNqenWsAAs6Pr.jpg'}]},\n",
      " 'text': 'Beautiful view from Sarangkot Pokhara with @rojina2smile2 '\n",
      "         'https://t.co/tkcPup0psT',\n",
      " 'user': {'location': 'Nepal'}}\n",
      "{'coordinates': {'coordinates': [85.330782, 27.719098], 'type': 'Point'},\n",
      " 'entities': {'media': [{'media_url': 'http://pbs.twimg.com/media/CI9csv1UkAAnH9B.jpg'}]},\n",
      " 'text': 'Right Now: Orientation to journalists by National Planning '\n",
      "         'Commission on nutrition and food security ongoing #Nepal '\n",
      "         'http://t.co/3Xehpzti7f',\n",
      " 'user': {'location': 'Kathmandu, Nepal'}}\n",
      "{'coordinates': {'coordinates': [85.320084, 27.721503], 'type': 'Point'},\n",
      " 'entities': {'media': [{'media_url': 'http://pbs.twimg.com/media/CT1FupRUAAAr46B.jpg'}]},\n",
      " 'text': 'Jeg forbeholder mig retten til at være naiv – morgenparanoia fra '\n",
      "         'Kathmandu… https://t.co/PJXz0iVRz9 https://t.co/vzByOCbzQW',\n",
      " 'user': {'location': 'Copenhagen, Dennark'}}\n",
      "{'coordinates': {'coordinates': [85.318836, 27.719859], 'type': 'Point'},\n",
      " 'entities': {'media': [{'media_url': 'http://pbs.twimg.com/media/CD4e3o0VEAAq3mK.jpg'}]},\n",
      " 'text': 'Good morning from Kathmandu.Grt weather, waste pick up, AND taxi '\n",
      "         'running on meter again! Hoping best for SAR &amp; relief '\n",
      "         'http://t.co/T6SxyYeR2V',\n",
      " 'user': {'location': 'Kathmandu + New York'}}\n",
      "{'coordinates': {'coordinates': [85.326361, 27.723499], 'type': 'Point'},\n",
      " 'entities': {'media': [{'media_url': 'http://pbs.twimg.com/media/CF5NCXCVIAEjN4w.jpg'}]},\n",
      " 'text': 'Hey #Nepal. We still have 4 sat  devices to lend out for any '\n",
      "         'organization doing relief work. #earthquakenepal '\n",
      "         'http://t.co/QiWhnb9gVp',\n",
      " 'user': {'location': 'Seattle, WA'}}\n",
      "{'coordinates': {'coordinates': [85.318496, 27.719782], 'type': 'Point'},\n",
      " 'entities': {'media': [{'media_url': 'http://pbs.twimg.com/media/CETGFvYWoAAAiB-.jpg'}]},\n",
      " 'text': 'Standing on whats left of her world, with  strength, composure, '\n",
      "         'determination. #NepalEarthquake #Sindhupalchowk '\n",
      "         'http://t.co/GV7aIJAxOg',\n",
      " 'user': {'location': 'Kathmandu + New York'}}\n",
      "{'coordinates': {'coordinates': [85.31804, 27.718562], 'type': 'Point'},\n",
      " 'entities': {'media': [{'media_url': 'http://pbs.twimg.com/media/CEJgLc2VAAAF85j.jpg'}]},\n",
      " 'text': 'Grandfather took this, was on exhibit at '\n",
      "         '@TheCityMuseum“@ShwetaBajaj: #Bhaktapur circa 1975. Pic courtesy '\n",
      "         '@kashishds http://t.co/hKlAnwHpOW”',\n",
      " 'user': {'location': 'Kathmandu + New York'}}\n",
      "{'coordinates': {'coordinates': [85.32019813, 27.7222315], 'type': 'Point'},\n",
      " 'entities': {'media': [{'media_url': 'http://pbs.twimg.com/media/CWRpDPbWIAIF50w.jpg'}]},\n",
      " 'text': 'View from Sarangkot Pokhara with @rojina2smile2 '\n",
      "         'https://t.co/g12D0MsRze',\n",
      " 'user': {'location': 'Nepal'}}\n",
      "{'coordinates': {'coordinates': [85.328533, 27.71222], 'type': 'Point'},\n",
      " 'entities': {'media': [{'media_url': 'http://pbs.twimg.com/media/CDhNJWmUsAA-5bO.jpg'}]},\n",
      " 'text': 'Even in the better Kathmandu neighbourhood people are sleeping '\n",
      "         'outside #NepalEarthquake http://t.co/45RY8nEKTz',\n",
      " 'user': {'location': 'Delhi India'}}\n",
      "{'coordinates': {'coordinates': [85.319602, 27.713487], 'type': 'Point'},\n",
      " 'entities': {'media': [{'media_url': 'http://pbs.twimg.com/media/CRGKFOVVAAAQF7d.jpg'}]},\n",
      " 'text': '#ChinaSouthernAirlinesCancels flights out of #Nepal until Oct25th! '\n",
      "         'http://t.co/C33HiCuqaL',\n",
      " 'user': {'location': 'SF Bay Area'}}\n",
      "{'coordinates': {'coordinates': [85.328529, 27.712212], 'type': 'Point'},\n",
      " 'entities': {'media': [{'media_url': 'http://pbs.twimg.com/media/CDmUkkBWMAAJR7I.jpg'}]},\n",
      " 'text': 'Quake survivors sheltering from the rain in Kathmandu '\n",
      "         'http://t.co/u0Hp4W5LVx',\n",
      " 'user': {'location': 'Delhi India'}}\n",
      "{'coordinates': {'coordinates': [85.3313586, 27.7202838], 'type': 'Point'},\n",
      " 'entities': {'media': [{'media_url': 'http://pbs.twimg.com/media/CXCdMp5VAAAcTEd.jpg'}]},\n",
      " 'text': 'Goodbye Kathmandu ,that was our shortest love story, till I am '\n",
      "         'back,enjoy the interval! #amwriting https://t.co/AYIsb2nffi',\n",
      " 'user': {'location': 'London'}}\n",
      "{'coordinates': {'coordinates': [85.3311047, 27.720871], 'type': 'Point'},\n",
      " 'entities': {'media': [{'media_url': 'http://pbs.twimg.com/media/CV6pkFCWsAAQ7Pk.jpg'}]},\n",
      " 'text': \"Gdmorn' Kathmandu! I am loving the mushy feeling evoking sunlit sky \"\n",
      "         '&amp; my stoked shadow in the compound #amwriting '\n",
      "         'https://t.co/9sW0FESzDL',\n",
      " 'user': {'location': 'London'}}\n",
      "{'coordinates': {'coordinates': [85.31984071, 27.7221492], 'type': 'Point'},\n",
      " 'entities': {'media': [{'media_url': 'http://pbs.twimg.com/media/CY_IGv5UEAAR9LB.jpg'}]},\n",
      " 'text': \"Rara Lake - nepal's little Switzerland with @rojina2smile2 \"\n",
      "         'https://t.co/zSw0vxnJws',\n",
      " 'user': {'location': 'Nepal'}}\n",
      "{'coordinates': {'coordinates': [85.328673, 27.712089], 'type': 'Point'},\n",
      " 'entities': {'media': [{'media_url': 'http://pbs.twimg.com/media/CDpoCyfWgAI0i7O.png'}]},\n",
      " 'text': 'Phone # on Min web MT“@AnupKaphle: #Nepal govt divided '\n",
      "         'responsibilities among officials as follows, acc. to @ThapaGK '\n",
      "         'http://t.co/fNlxWwRvjm”',\n",
      " 'user': {'location': 'Kathmandu + New York'}}\n",
      "{'coordinates': {'coordinates': [85.317686, 27.718521], 'type': 'Point'},\n",
      " 'entities': {'media': [{'media_url': 'http://pbs.twimg.com/media/CEPrs1XVEAE6KX3.jpg'}]},\n",
      " 'text': 'Day 11. Chautara, District HQ of Sindhupalchowk, hardest quake hit '\n",
      "         'district, is a concrete jungle perched on a hill '\n",
      "         'http://t.co/cAv4ivavvn',\n",
      " 'user': {'location': 'Kathmandu + New York'}}\n",
      "{'coordinates': {'coordinates': [85.317673, 27.718524], 'type': 'Point'},\n",
      " 'entities': {'media': [{'media_url': 'http://pbs.twimg.com/media/CFsYpTKUIAALq9T.jpg'}]},\n",
      " 'text': \"Today's storm has destroyed crops worth millions in different parts \"\n",
      "         'of Nepal. https://t.co/9q7Omvf9ke http://t.co/MXzdCTYrSn” '\n",
      "         '#foodsecurity',\n",
      " 'user': {'location': 'Kathmandu + New York'}}\n",
      "{'coordinates': {'coordinates': [85.317672, 27.718741], 'type': 'Point'},\n",
      " 'entities': {'media': [{'media_url': 'http://pbs.twimg.com/media/CFsSY6YWEAAi2Lu.jpg'}]},\n",
      " 'text': \"#MarRef :) “@bibekbhandari: Ok, this seems like #Kathmandu's \"\n",
      "         'solidarity with #Ireland #MarRef http://t.co/Pl4Ful8tfJ”',\n",
      " 'user': {'location': 'Kathmandu + New York'}}\n",
      "{'coordinates': {'coordinates': [85.317495, 27.718405], 'type': 'Point'},\n",
      " 'entities': {'media': [{'media_url': 'http://pbs.twimg.com/media/CEoq-opUEAAJ69H.jpg'}]},\n",
      " 'text': 'NOW: Happy to assist Kathmandu Metropolitan City+its Sam Yubaa for '\n",
      "         'post-quake Social Mapping Heritage Site workshop '\n",
      "         'http://t.co/QRyHIMyUr6',\n",
      " 'user': {'location': 'Kathmandu, Nepal'}}\n",
      "{'coordinates': {'coordinates': [85.317498, 27.71852], 'type': 'Point'},\n",
      " 'entities': {'media': [{'media_url': 'http://pbs.twimg.com/media/CFm3R45UsAAlZmC.jpg'}]},\n",
      " 'text': 'Beautiful Solukhumbu. #MoreThanMountains '\n",
      "         '#TravemTheWorldAroundYouWithinYou #Nature #VisitNepal '\n",
      "         'http://t.co/Z9w3FM2C25',\n",
      " 'user': {'location': 'Kathmandu + New York'}}\n",
      "{'coordinates': {'coordinates': [85.3316341, 27.7206657], 'type': 'Point'},\n",
      " 'entities': {'media': [{'media_url': 'http://pbs.twimg.com/media/CU82ZLUUcAAd8tY.jpg'}]},\n",
      " 'text': 'Nepal,2 ppl talking &amp; 50 join in the middle of road for '\n",
      "         'discussing fuel crisis hehe #amwriting #NepalChokedByIndia '\n",
      "         'https://t.co/kGwdl0C04E',\n",
      " 'user': {'location': 'London'}}\n",
      "{'coordinates': {'coordinates': [85.331669, 27.714344], 'type': 'Point'},\n",
      " 'entities': {'media': [{'media_url': 'http://pbs.twimg.com/media/CPjyqmoWEAQf02f.jpg'}]},\n",
      " 'text': 'Grade 12 (@ Brihaspati Vidyasadan - @brihaspatian in Kathmandu, '\n",
      "         'Nepal) https://t.co/u6OBBvALYb http://t.co/qmIAjaKZLw',\n",
      " 'user': {'location': 'Irving, TX'}}\n",
      "{'coordinates': {'coordinates': [85.320546, 27.711796], 'type': 'Point'},\n",
      " 'entities': {'media': [{'media_url': 'http://pbs.twimg.com/media/CDhItcBVEAE42Iy.jpg'}]},\n",
      " 'text': \"1st image: Taken from Dharahara's viewing platform last year. 2nd: \"\n",
      "         \"Taken from on + of Dharahara's rubble yesterday \"\n",
      "         'http://t.co/fPCWoqFjFN',\n",
      " 'user': {'location': 'Kathmandu + New York'}}\n",
      "{'coordinates': {'coordinates': [85.319483, 27.712521], 'type': 'Point'},\n",
      " 'entities': {'media': [{'media_url': 'http://pbs.twimg.com/media/CMv8iRbUAAEMhGZ.jpg'}]},\n",
      " 'text': 'Happy travelers with mt. annapurna mountains #SafeNepal '\n",
      "         '@Manishsinghvns @shiva_nepal @GAdv_Rajju  @gadventures '\n",
      "         'http://t.co/LcTsO9cZYJ',\n",
      " 'user': {'location': 'Kathmandu Nepal'}}\n",
      "{'coordinates': {'coordinates': [85.319483, 27.712521], 'type': 'Point'},\n",
      " 'entities': {'media': [{'media_url': 'http://pbs.twimg.com/media/CMv_15hU8AAokWD.jpg'}]},\n",
      " 'text': 'Last dinner with great people #Nepal #SafeNepal @GAdv_Bk '\n",
      "         '@G_JulieFitzG @gadventures http://t.co/wPU7YEFTHM',\n",
      " 'user': {'location': 'Kathmandu Nepal'}}\n",
      "{'coordinates': {'coordinates': [85.322822, 27.724444], 'type': 'Point'},\n",
      " 'entities': {'media': [{'media_url': 'http://pbs.twimg.com/media/COx7YqdWsAAQHyJ.jpg'}]},\n",
      " 'text': '#ETalkKTM with Mahabir Pun. (@ Bhumi Restro Lounge in Kathmandu, '\n",
      "         'Central Region) https://t.co/KgfgAEJExZ http://t.co/RO7DlE3GoJ',\n",
      " 'user': {'location': 'Nepal'}}\n",
      "{'coordinates': {'coordinates': [85.326186, 27.71059], 'type': 'Point'},\n",
      " 'entities': {'media': [{'media_url': 'http://pbs.twimg.com/media/CGuBaFJUgAA8EQt.jpg'}]},\n",
      " 'text': 'Do you want to meet people working #NepalEarthquake relief?Join us '\n",
      "         'before 6 today at RAN, Kamalpokhari!@edgeryders '\n",
      "         'http://t.co/4WyGD8zoXI',\n",
      " 'user': {'location': ''}}\n",
      "{'coordinates': {'coordinates': [85.320221, 27.711668], 'type': 'Point'},\n",
      " 'entities': {'media': [{'media_url': 'http://pbs.twimg.com/media/CKo1dsPUkAAqs2w.jpg'}]},\n",
      " 'text': 'Good morning Kathmandu! City looks surprisingly good for just having '\n",
      "         'a 7.8 quake. Most buildings handled it. #npr15 '\n",
      "         'http://t.co/v716ofe3er',\n",
      " 'user': {'location': 'Washington, D.C.'}}\n",
      "{'coordinates': {'coordinates': [85.320232, 27.71164], 'type': 'Point'},\n",
      " 'entities': {'media': [{'media_url': 'http://pbs.twimg.com/media/CDgPmTRUEAAWzTA.jpg'}]},\n",
      " 'text': 'Similar scenes across the city, in parks, pavements... '\n",
      "         '“@BellThomasBell: This is how people are camping in Patan. '\n",
      "         'http://t.co/7a8ZecSHCa”',\n",
      " 'user': {'location': 'Kathmandu + New York'}}\n",
      "{'coordinates': {'coordinates': [85.320219, 27.71159], 'type': 'Point'},\n",
      " 'entities': {'media': [{'media_url': 'http://pbs.twimg.com/media/CDlpPIPUEAEWJlI.jpg'}]},\n",
      " 'text': 'Everyone can do with Kindness at trying times. A young girl feeds '\n",
      "         'her #dog food to street dogs around Boudha. http://t.co/rJfs39Essx',\n",
      " 'user': {'location': 'Kathmandu + New York'}}\n",
      "{'coordinates': {'coordinates': [85.3167, 27.7167], 'type': 'Point'},\n",
      " 'entities': {'media': [{'media_url': 'http://pbs.twimg.com/media/CT6134TUwAABbk4.jpg'}]},\n",
      " 'text': \"Don't you agree! Nepal on the merge for a appreciated score.... \"\n",
      "         'https://t.co/QII4DxuTZo',\n",
      " 'user': {'location': 'नेपाल !'}}\n",
      "{'coordinates': {'coordinates': [85.320244, 27.711544], 'type': 'Point'},\n",
      " 'entities': {'media': [{'media_url': 'http://pbs.twimg.com/media/CDq7CY7VIAE2Ysh.jpg'}]},\n",
      " 'text': 'Chinese military rescuers searching for survivors in Kathmandu. '\n",
      "         'http://t.co/E5ghSQjuIH',\n",
      " 'user': {'location': 'Hong Kong'}}\n",
      "{'coordinates': {'coordinates': [85.320068, 27.711652], 'type': 'Point'},\n",
      " 'entities': {'media': [{'media_url': 'http://pbs.twimg.com/media/CEy2PgUUUAEsbgs.jpg'}]},\n",
      " 'text': \"People out on Thamel's streets shortly after a magnitude 7.3 \"\n",
      "         'earthquake struck http://t.co/1vwX2ss4lZ #NepalQuake '\n",
      "         'http://t.co/bXIjaioww1',\n",
      " 'user': {'location': 'Doha, Qatar.'}}\n",
      "{'coordinates': {'coordinates': [85.320741, 27.711227], 'type': 'Point'},\n",
      " 'entities': {'media': [{'media_url': 'http://pbs.twimg.com/media/CDsVgPRUUAEOH16.jpg'}]},\n",
      " 'text': 'Voluntários distribuem comida a desabrigados em frente ao parque '\n",
      "         'Tundikhel,  em Katmandu. http://t.co/6TFjvMhiCt',\n",
      " 'user': {'location': 'Brasília'}}\n",
      "{'coordinates': {'coordinates': [85.330969, 27.722767], 'type': 'Point'},\n",
      " 'entities': {'media': [{'media_url': 'http://pbs.twimg.com/media/CDfRt-NVIAAn7gw.jpg'}]},\n",
      " 'text': '@KTMLivingLabs situation room is now up. Contact us for any mapping '\n",
      "         'needs related to the #earthquake #Nepal http://t.co/m1gB403vdl',\n",
      " 'user': {'location': 'New York'}}\n",
      "{'coordinates': {'coordinates': [85.330985, 27.722806], 'type': 'Point'},\n",
      " 'entities': {'media': [{'media_url': 'http://pbs.twimg.com/media/CDwc1NDVAAAHY_z.jpg'}]},\n",
      " 'text': 'These people are coordinating with victims,  relief organisations '\n",
      "         'and volunteers.  #KLLSituationRoom #NepalEarthquake '\n",
      "         'http://t.co/DH9NFhAE01',\n",
      " 'user': {'location': ''}}\n",
      "{'coordinates': {'coordinates': [85.320559, 27.711167], 'type': 'Point'},\n",
      " 'entities': {'media': [{'media_url': 'http://pbs.twimg.com/media/CMDTQWXVAAEONn9.jpg'}]},\n",
      " 'text': \"Walking on Kathmandu's tony Durbar Sq, 2 thots: good buildings \"\n",
      "         'survive force 8 quakes, human spirit survives anything '\n",
      "         'http://t.co/9ifHF9LLxB',\n",
      " 'user': {'location': ' sg@mediascape.in'}}\n",
      "{'coordinates': {'coordinates': [85.320336, 27.711201], 'type': 'Point'},\n",
      " 'entities': {'media': [{'media_url': 'http://pbs.twimg.com/media/CEWfaBuUkAAVesf.jpg'}]},\n",
      " 'text': 'En reunión del gobierno de Nepal con OMS y equipos de rescate, '\n",
      "         '#Nepal anunció inminente llegada de médicos de #Cuba '\n",
      "         'http://t.co/60s6EewtNf',\n",
      " 'user': {'location': 'México'}}\n",
      "{'coordinates': {'coordinates': [85.32809192, 27.71026982], 'type': 'Point'},\n",
      " 'entities': {'media': [{'media_url': 'http://pbs.twimg.com/media/CP_YvPSWsAAfDyn.jpg'}]},\n",
      " 'text': \"I'm at Chito Mitho Stick Fast Food in Kathmandu \"\n",
      "         'https://t.co/rW5PQEhhGm http://t.co/75wQfp7dVB',\n",
      " 'user': {'location': 'Kathmandu'}}\n",
      "{'coordinates': {'coordinates': [85.319978, 27.711042], 'type': 'Point'},\n",
      " 'entities': {'media': [{'media_url': 'http://pbs.twimg.com/media/CD632t9UkAAg7hp.jpg'}]},\n",
      " 'text': 'La ayuda cae a cuentagotas en los campamentos se desplazados en '\n",
      "         '#Katmandú #Nepal 6 días después del potente terremoto '\n",
      "         'http://t.co/WYNl02xdrd',\n",
      " 'user': {'location': 'México'}}\n",
      "{'coordinates': {'coordinates': [85.330925, 27.72357], 'type': 'Point'},\n",
      " 'entities': {'media': [{'media_url': 'http://pbs.twimg.com/media/CLT81fVWoAA8XC6.jpg'}]},\n",
      " 'text': 'Saturday Treat 💃🏻💃🏻 @Ghiyub (@ Nepal House Restaurant &amp; Bar) '\n",
      "         'https://t.co/3RI1DIOHCf http://t.co/ADqPLGsUD5',\n",
      " 'user': {'location': 'Nepal'}}\n",
      "{'coordinates': {'coordinates': [85.32708739, 27.70975721], 'type': 'Point'},\n",
      " 'entities': {'media': [{'media_url': 'http://pbs.twimg.com/media/CaWLGnqWYAAsoM2.jpg'}]},\n",
      " 'text': 'ईतिहासमा फेरी  अर्को अध्याय को  साक्छी बन्न चाहन्छौ ! सुभकामना छ टिम '\n",
      "         'नेपाल ! https://t.co/fzsl5MjS24',\n",
      " 'user': {'location': None}}\n",
      "{'coordinates': {'coordinates': [85.322744, 27.725478], 'type': 'Point'},\n",
      " 'entities': {'media': [{'media_url': 'http://pbs.twimg.com/media/CD65GhNUUAEqAhb.jpg'}]},\n",
      " 'text': 'Manisha, 5, got hit by falling rocks in her village. She suffered '\n",
      "         'serious injuries in #NepalEarthquake. http://t.co/5pdHZWeoRD',\n",
      " 'user': {'location': 'ATL, DEL देल्ही, CCU কলকাতা'}}\n",
      "{'coordinates': {'coordinates': [85.32192, 27.725319], 'type': 'Point'},\n",
      " 'entities': {'media': [{'media_url': 'http://pbs.twimg.com/media/CEACFcuVEAE6l19.jpg'}]},\n",
      " 'text': 'Going on sky news in 10 minutes to talk about #NepalQuake . GOAL is '\n",
      "         'responding with your support. http://t.co/fGhzFFr5Ev',\n",
      " 'user': {'location': 'Dublin, Ireland'}}\n",
      "{'coordinates': {'coordinates': [85.321899, 27.725379], 'type': 'Point'},\n",
      " 'entities': {'media': [{'media_url': 'http://pbs.twimg.com/media/CEALRTkUEAADRqU.jpg'}]},\n",
      " 'text': '@SkyNews interview with @martinstanford  on @GOAL_Global work in '\n",
      "         '#NepalQuake ... view from behind the camera..!! '\n",
      "         'http://t.co/QykuUtUsiQ',\n",
      " 'user': {'location': 'Dublin, Ireland'}}\n",
      "{'coordinates': {'coordinates': [85.333424, 27.71423], 'type': 'Point'},\n",
      " 'entities': {'media': [{'media_url': 'http://pbs.twimg.com/media/CEzrjN4UgAAd7S9.jpg'}]},\n",
      " 'text': 'Collapsing building at thamel kathmandu . http://t.co/Q1WVAbI4nU',\n",
      " 'user': {'location': 'Nepal'}}\n",
      "{'coordinates': {'coordinates': [85.32984332, 27.71058497], 'type': 'Point'},\n",
      " 'entities': {'media': [{'media_url': 'http://pbs.twimg.com/media/CTQyNN0WIAASLqv.jpg'}]},\n",
      " 'text': 'Apis apis #notmySunday 😎😎 (@ Global Platform Nepal in Gyaneswor, '\n",
      "         'Kathmandu) https://t.co/KXO01mBfd3 https://t.co/zGOUp2T7zo',\n",
      " 'user': {'location': 'Kathmandu'}}\n",
      "{'coordinates': {'coordinates': [85.334021, 27.719988], 'type': 'Point'},\n",
      " 'entities': {'media': [{'media_url': 'http://pbs.twimg.com/media/CEylHNvUgAESS0K.jpg'}]},\n",
      " 'text': 'Traffic at standstill all around Kathmandu. Myself @richjjones are '\n",
      "         'safe for the 2nd time in 2 weeks #NepalQuake http://t.co/MmIBl4v62C',\n",
      " 'user': {'location': 'Solihull'}}\n",
      "{'coordinates': {'coordinates': [85.318437, 27.71117], 'type': 'Point'},\n",
      " 'entities': {'media': [{'media_url': 'http://pbs.twimg.com/media/CD0vPPnUkAETozt.jpg'}]},\n",
      " 'text': \"Local+global context to why Nepal's lost heritage sites more than \"\n",
      "         '\"just temples\" http://t.co/MVheqkWhmp by @guardian '\n",
      "         'http://t.co/YX8RDz0iUR',\n",
      " 'user': {'location': 'Kathmandu, Nepal'}}\n",
      "{'coordinates': {'coordinates': [85.318225, 27.711128], 'type': 'Point'},\n",
      " 'entities': {'media': [{'media_url': 'http://pbs.twimg.com/media/CFIE7qBUUAIVNye.jpg'}]},\n",
      " 'text': '\"How to go on? 1 aftershock &amp; whole street shuts down,\" said '\n",
      "         \"owner of this Durbarmarg shop. Ppl's anxiety up again. \"\n",
      "         'http://t.co/GGX0QnmK8j',\n",
      " 'user': {'location': 'Kathmandu + New York'}}\n",
      "{'coordinates': {'coordinates': [85.318062, 27.711168], 'type': 'Point'},\n",
      " 'entities': {'media': [{'media_url': 'http://pbs.twimg.com/media/CFMG6-2VEAEXgm7.jpg'}]},\n",
      " 'text': 'Day 23. Picking up the pieces, moving on. Like Bhaktapur, seems '\n",
      "         'parts of Old Kathmandu will be vacant for some time. '\n",
      "         'http://t.co/1eVgUrguGH',\n",
      " 'user': {'location': 'Kathmandu + New York'}}\n",
      "{'coordinates': {'coordinates': [85.318195, 27.710978], 'type': 'Point'},\n",
      " 'entities': {'media': [{'media_url': 'http://pbs.twimg.com/media/CD7eK5WUMAAPE8M.jpg'}]},\n",
      " 'text': 'Nepal Govt. pretty much out of tents (needs 400,000 more) reports '\n",
      "         '@svbel: http://t.co/cmtvyIDJf6 http://t.co/LeN7jPBGvc',\n",
      " 'user': {'location': 'Kathmandu + New York'}}\n",
      "{'coordinates': {'coordinates': [85.319925, 27.709859], 'type': 'Point'},\n",
      " 'entities': {'media': [{'media_url': 'http://pbs.twimg.com/media/CEd5JEhVAAAoMSR.jpg'}]},\n",
      " 'text': 'Living in tents in #Kathmandu after #NepalQuake. '\n",
      "         'http://t.co/uNm5YAFYdQ',\n",
      " 'user': {'location': 'ATL, DEL देल्ही, CCU কলকাতা'}}\n",
      "{'coordinates': {'coordinates': [85.325137, 27.708528], 'type': 'Point'},\n",
      " 'entities': {'media': [{'media_url': 'http://pbs.twimg.com/media/CEzYCWIUIAA8zQM.jpg'}]},\n",
      " 'text': 'People beginning to camp out for the night already #NepalEarthquake '\n",
      "         'http://t.co/ewnxcCnUJk',\n",
      " 'user': {'location': 'Africa, Asia, Middle-East'}}\n",
      "{'coordinates': {'coordinates': [85.325139, 27.708519], 'type': 'Point'},\n",
      " 'entities': {'media': [{'media_url': 'http://pbs.twimg.com/media/CE02NAbUsAAMD8Q.jpg'}]},\n",
      " 'text': 'Hot meals distributed to people staying tonight @muslimhandsuk '\n",
      "         'office in #Nepal. Numbers are likely to grow tomorrow '\n",
      "         'http://t.co/YgsHDAOs8l',\n",
      " 'user': {'location': 'United Kingdom'}}\n",
      "{'coordinates': {'coordinates': [85.319091, 27.710028], 'type': 'Point'},\n",
      " 'entities': {'media': [{'media_url': 'http://pbs.twimg.com/media/CEeBMEHUkAARAe5.jpg'}]},\n",
      " 'text': '#Kathmandu. #NepalQuake http://t.co/9lmWiJq4CE',\n",
      " 'user': {'location': 'ATL, DEL देल्ही, CCU কলকাতা'}}\n",
      "{'coordinates': {'coordinates': [85.325098, 27.708398], 'type': 'Point'},\n",
      " 'entities': {'media': [{'media_url': 'http://pbs.twimg.com/media/CExtPJaVEAAnM1_.jpg'}]},\n",
      " 'text': 'Visiting our board member injured by #NepalEarthquake- hospital now '\n",
      "         'almost empty 2 wks later &amp; cracks in the wall... '\n",
      "         'http://t.co/PlI1wpnJlr',\n",
      " 'user': {'location': 'Africa, Asia, Middle-East'}}\n",
      "{'coordinates': {'coordinates': [85.314604, 27.716322], 'type': 'Point'},\n",
      " 'entities': {'media': [{'media_url': 'http://pbs.twimg.com/media/CF_TJ1QUgAAnP1Y.jpg'}]},\n",
      " 'text': 'Nicely done. “@surajshakya: My latest on http://t.co/0ofHPOgDSd\\n'\n",
      "         '\\n'\n",
      "         'I want YOU\\n'\n",
      "         'to rebuild\\n'\n",
      "         '#NEPAL http://t.co/HKBMt7YMo0”',\n",
      " 'user': {'location': 'Kathmandu + New York'}}\n",
      "{'coordinates': {'coordinates': [85.325042, 27.708381], 'type': 'Point'},\n",
      " 'entities': {'media': [{'media_url': 'http://pbs.twimg.com/media/CE9O6maVIAAYNMK.jpg'}]},\n",
      " 'text': '#quakehelpdesk volunteers at work synthesizing data in #nepal- tks '\n",
      "         'for support @GlobalGiving @OpenGovHub @tinyGive! '\n",
      "         'http://t.co/yedM4cBUTN',\n",
      " 'user': {'location': 'Africa, Asia, Middle-East'}}\n",
      "{'coordinates': {'coordinates': [85.3246908, 27.7083056], 'type': 'Point'},\n",
      " 'entities': {'media': [{'media_url': 'http://pbs.twimg.com/media/CWHbcmCUsAAVx4J.jpg'}]},\n",
      " 'text': 'And the condition will be like this :( hunechha yesto hamrai Nepal '\n",
      "         'ma https://t.co/AhZkOLa7Tm',\n",
      " 'user': {'location': 'Bardiya, Nepal'}}\n",
      "{'coordinates': {'coordinates': [85.317688, 27.710834], 'type': 'Point'},\n",
      " 'entities': {'media': [{'media_url': 'http://pbs.twimg.com/media/CGa5VUkXEAEN10s.jpg'}]},\n",
      " 'text': 'Area Thamel punya makan gua takleh masuk arh beb (at @Cafereena in '\n",
      "         'Kathmandu, Central Region) https://t.co/q1DpPMQtBy '\n",
      "         'http://t.co/8DuiSdJigI',\n",
      " 'user': {'location': 'Malaysia '}}\n",
      "{'coordinates': {'coordinates': [85.314415, 27.716198], 'type': 'Point'},\n",
      " 'entities': {'media': [{'media_url': 'http://pbs.twimg.com/media/CFAuazGWEAA5GlX.jpg'}]},\n",
      " 'text': 'Says here: “@LastQuake: #earthquake M4.8 strikes 65 km W of '\n",
      "         '#Kathmandu (#Nepal) 10 min ago. http://t.co/y9JnJ16fMs '\n",
      "         'http://t.co/YeN3UwvYV9”',\n",
      " 'user': {'location': 'Kathmandu + New York'}}\n",
      "{'coordinates': {'coordinates': [85.327751, 27.726716], 'type': 'Point'},\n",
      " 'entities': {'media': [{'media_url': 'http://pbs.twimg.com/media/CFnZb0mUkAEaCZR.jpg'}]},\n",
      " 'text': 'काठमाडौं उपत्यका का सांसदहरू, प्रम कोइराला सँग भूकम्प पश्चातको '\n",
      "         'अवस्थामा तत्काल गर्नु पर्ने कामको बारेमा माग राख्दै '\n",
      "         'http://t.co/G1ugpZ6iak',\n",
      " 'user': {'location': 'Nepal'}}\n",
      "{'coordinates': {'coordinates': [85.32120689, 27.70877805], 'type': 'Point'},\n",
      " 'entities': {'media': [{'media_url': 'http://pbs.twimg.com/media/CZZEZAaXEAA0b-c.jpg'}]},\n",
      " 'text': '#फिरफिरे बिमोचन कार्यक्रम :) (@ Nepal Academy) '\n",
      "         'https://t.co/do6GMeZetZ https://t.co/vdkGcGKKEZ',\n",
      " 'user': {'location': 'प्रदेश नं. ३'}}\n",
      "{'coordinates': {'coordinates': [85.31692, 27.711218], 'type': 'Point'},\n",
      " 'entities': {'media': [{'media_url': 'http://pbs.twimg.com/media/CDdmg5hUsAAiIIn.jpg'}]},\n",
      " 'text': '1:40AM. 13C/55F Kathmandu. Cold out even with sweater, imagine those '\n",
      "         'sleeping on wet grass, concrete. Rain tomorrow? '\n",
      "         'http://t.co/qdDSbfGYIK',\n",
      " 'user': {'location': 'Kathmandu + New York'}}\n",
      "1505\n"
     ]
    }
   ],
   "source": [
    "cursor = tweets.find({\"coordinates\":{\"$near\":\n",
    "                         {\"$geometry\":{\"type\":\"Point\", \"coordinates\":[85.324931,27.717618]}, \"$maxDistance\":50000}},\n",
    "                      \"entities.media.media_url\":{\"$exists\":True, \"$ne\": None}\n",
    "                     }\n",
    "                     {\"coordinates\":1, \"text\":1, \"user.location\":1, \"entities.media.media_url\":1, \"_id\":0}\n",
    "                    ).limit(100)\n",
    "for doc in cursor:\n",
    "    pprint(doc)\n",
    "print(cursor.count())"
   ]
  },
  {
   "cell_type": "code",
   "execution_count": 193,
   "metadata": {
    "collapsed": false
   },
   "outputs": [
    {
     "name": "stdout",
     "output_type": "stream",
     "text": [
      "12914430\n"
     ]
    }
   ],
   "source": [
    "start = datetime.datetime(2015, 4, 25, 0, 0, 0)\n",
    "end = datetime.datetime(2015, 6, 1, 0, 0, 0)\n",
    "\n",
    "cursor = tweets.find({'created_at': {'$gte': start, '$lt': end}})\n",
    "print(cursor.count())\n",
    "\n",
    "# for doc in cursor:\n",
    "#     print(doc)"
   ]
  },
  {
   "cell_type": "markdown",
   "metadata": {},
   "source": [
    "### Find and plot tweets per day from 4/25/15 to 5/31/15"
   ]
  },
  {
   "cell_type": "code",
   "execution_count": 259,
   "metadata": {
    "collapsed": false
   },
   "outputs": [],
   "source": [
    "dates = []\n",
    "counts = []\n",
    "end = datetime.date(2015, 6, 1)\n",
    "\n",
    "for tweet in tweets_per_day.find().sort(\"value.count\", pymongo.DESCENDING):\n",
    "#     print(tweet['_id'], tweet['value']['count'])\n",
    "    date = datetime.datetime.strptime(tweet['_id'], \"%m/%d/%Y\").date()\n",
    "    if date < end:\n",
    "        dates.append(date)\n",
    "        counts.append(tweet['value']['count'])"
   ]
  },
  {
   "cell_type": "code",
   "execution_count": 296,
   "metadata": {
    "collapsed": false
   },
   "outputs": [
    {
     "name": "stderr",
     "output_type": "stream",
     "text": [
      "/usr/local/lib/python3.5/site-packages/dateutil/rrule.py:415: DeprecationWarning: Using both 'count' and 'until' is inconsistent with RFC 2445 and has been deprecated in dateutil. Future versions will raise an error.\n",
      "  \"raise an error.\", DeprecationWarning)\n",
      "/usr/local/lib/python3.5/site-packages/dateutil/rrule.py:415: DeprecationWarning: Using both 'count' and 'until' is inconsistent with RFC 2445 and has been deprecated in dateutil. Future versions will raise an error.\n",
      "  \"raise an error.\", DeprecationWarning)\n",
      "/usr/local/lib/python3.5/site-packages/dateutil/rrule.py:415: DeprecationWarning: Using both 'count' and 'until' is inconsistent with RFC 2445 and has been deprecated in dateutil. Future versions will raise an error.\n",
      "  \"raise an error.\", DeprecationWarning)\n",
      "/usr/local/lib/python3.5/site-packages/dateutil/rrule.py:415: DeprecationWarning: Using both 'count' and 'until' is inconsistent with RFC 2445 and has been deprecated in dateutil. Future versions will raise an error.\n",
      "  \"raise an error.\", DeprecationWarning)\n",
      "/usr/local/lib/python3.5/site-packages/dateutil/rrule.py:415: DeprecationWarning: Using both 'count' and 'until' is inconsistent with RFC 2445 and has been deprecated in dateutil. Future versions will raise an error.\n",
      "  \"raise an error.\", DeprecationWarning)\n",
      "/usr/local/lib/python3.5/site-packages/dateutil/rrule.py:415: DeprecationWarning: Using both 'count' and 'until' is inconsistent with RFC 2445 and has been deprecated in dateutil. Future versions will raise an error.\n",
      "  \"raise an error.\", DeprecationWarning)\n"
     ]
    },
    {
     "data": {
      "image/png": "[encoded data removed]",
      "text/plain": [
       "<matplotlib.figure.Figure at 0x111c00390>"
      ]
     },
     "metadata": {},
     "output_type": "display_data"
    }
   ],
   "source": [
    "fig = plt.figure(figsize=(20,10))\n",
    "ax = plt.subplot(111)\n",
    "ax.bar(dates, counts, width=0.75, align='center')\n",
    "# ax.xaxis_date()\n",
    "fig.autofmt_xdate()\n",
    "\n",
    "ax.set_title('Tweets Per Day from 4/25/15 to 5/31/15', fontsize=14, fontweight='bold')\n",
    "ax.set_xlabel('Date')\n",
    "ax.set_ylabel('# Tweets')\n",
    "\n",
    "plt.savefig('tweetsperday.png')"
   ]
  },
  {
   "cell_type": "code",
   "execution_count": null,
   "metadata": {
    "collapsed": true
   },
   "outputs": [],
   "source": []
  }
 ],
 "metadata": {
  "kernelspec": {
   "display_name": "Python 3",
   "language": "python",
   "name": "python3"
  },
  "language_info": {
   "codemirror_mode": {
    "name": "ipython",
    "version": 3
   },
   "file_extension": ".py",
   "mimetype": "text/x-python",
   "name": "python",
   "nbconvert_exporter": "python",
   "pygments_lexer": "ipython3",
   "version": "3.5.1"
  }
 },
 "nbformat": 4,
 "nbformat_minor": 0
}
